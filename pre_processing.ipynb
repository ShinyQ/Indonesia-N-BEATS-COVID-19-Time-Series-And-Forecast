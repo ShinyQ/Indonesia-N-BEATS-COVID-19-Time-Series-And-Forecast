{
 "cells": [
  {
   "cell_type": "code",
   "execution_count": 1,
   "source": [
    "import pandas as pd"
   ],
   "outputs": [],
   "metadata": {}
  },
  {
   "cell_type": "markdown",
   "source": [
    "## **Mobility Dataset Preprocessing**"
   ],
   "metadata": {}
  },
  {
   "cell_type": "code",
   "execution_count": 2,
   "source": [
    "df = pd.read_csv(\"dataset/mobility.csv\", low_memory=False)\r\n",
    "df = df[['date', 'country_region', 'retail_and_recreation_percent_change_from_baseline']]\r\n",
    "df = df.loc[(df.country_region == \"Indonesia\")].reset_index()\r\n",
    "df = df.drop_duplicates(subset=['date'])\r\n",
    "df = df.loc[(df.date >= \"2021-01-13\")]\r\n",
    "df = df.drop(columns={'country_region'})\r\n"
   ],
   "outputs": [],
   "metadata": {}
  },
  {
   "cell_type": "code",
   "execution_count": 3,
   "source": [
    "len(df)"
   ],
   "outputs": [
    {
     "output_type": "execute_result",
     "data": {
      "text/plain": [
       "217"
      ]
     },
     "metadata": {},
     "execution_count": 3
    }
   ],
   "metadata": {}
  },
  {
   "cell_type": "code",
   "execution_count": 4,
   "source": [
    "df.to_csv('dataset/mobility_clean.csv')"
   ],
   "outputs": [],
   "metadata": {}
  },
  {
   "cell_type": "markdown",
   "source": [
    "## **COVID-19 KawalData Dataset Preprocessing**"
   ],
   "metadata": {}
  },
  {
   "cell_type": "code",
   "execution_count": 5,
   "source": [
    "df = pd.read_excel('dataset/kawaldata.xlsx', parse_dates=True)\r\n",
    "df = df.rename(columns={'Unnamed: 0': 'tanggal'})\r\n",
    "df = df.drop(\r\n",
    "    columns=[\r\n",
    "        'PDP', 'ODP', 'Suspek aktif', 'Tingkat kesembuhan (seluruh kasus)',\r\n",
    "        'Tingkat kesembuhan (closed cases)', 'Kasus Impor', 'Kasus Lokal',\r\n",
    "        '% kasus aktif'\r\n",
    "    ]\r\n",
    ")\r\n",
    "\r\n",
    "df = df.drop(list(df)[43:], axis=1)\r\n",
    "df.head()"
   ],
   "outputs": [
    {
     "output_type": "execute_result",
     "data": {
      "text/plain": [
       "     tanggal  Kasus harian  Total kasus  Kasus aktif  Sembuh\\n(baru)  Sembuh  \\\n",
       "0 2020-03-02           2.0          2.0          2.0             0.0     0.0   \n",
       "1 2020-03-03           0.0          2.0          2.0             0.0     0.0   \n",
       "2 2020-03-04           0.0          2.0          2.0             0.0     0.0   \n",
       "3 2020-03-05           0.0          2.0          2.0             0.0     0.0   \n",
       "4 2020-03-06           2.0          4.0          4.0             0.0     0.0   \n",
       "\n",
       "   Meninggal\\n(baru)  Meninggal\\nDunia  Tingkat kematian (seluruh kasus)  \\\n",
       "0                0.0               0.0                               0.0   \n",
       "1                0.0               0.0                               0.0   \n",
       "2                0.0               0.0                               0.0   \n",
       "3                0.0               0.0                               0.0   \n",
       "4                0.0               0.0                               0.0   \n",
       "\n",
       "   Tingkat kematian (closed cases)  ...  Unnamed: 41  Dosis pertama  \\\n",
       "0                              NaN  ...          NaN            NaN   \n",
       "1                              NaN  ...          NaN            NaN   \n",
       "2                              NaN  ...          NaN            NaN   \n",
       "3                              NaN  ...          NaN            NaN   \n",
       "4                              NaN  ...          NaN            NaN   \n",
       "\n",
       "   Dosis kedua  Dosis ketiga  Dosis pertama (%)  Dosis kedua (%)  \\\n",
       "0          NaN           NaN                NaN              NaN   \n",
       "1          NaN           NaN                NaN              NaN   \n",
       "2          NaN           NaN                NaN              NaN   \n",
       "3          NaN           NaN                NaN              NaN   \n",
       "4          NaN           NaN                NaN              NaN   \n",
       "\n",
       "   Dosis pertama (harian)  Dosis kedua (harian)  Dosis harian  \\\n",
       "0                     NaN                   NaN           NaN   \n",
       "1                     NaN                   NaN           NaN   \n",
       "2                     NaN                   NaN           NaN   \n",
       "3                     NaN                   NaN           NaN   \n",
       "4                     NaN                   NaN           NaN   \n",
       "\n",
       "   Dosis pertama (mingguan)  \n",
       "0                       NaN  \n",
       "1                       NaN  \n",
       "2                       NaN  \n",
       "3                       NaN  \n",
       "4                       NaN  \n",
       "\n",
       "[5 rows x 43 columns]"
      ],
      "text/html": [
       "<div>\n",
       "<style scoped>\n",
       "    .dataframe tbody tr th:only-of-type {\n",
       "        vertical-align: middle;\n",
       "    }\n",
       "\n",
       "    .dataframe tbody tr th {\n",
       "        vertical-align: top;\n",
       "    }\n",
       "\n",
       "    .dataframe thead th {\n",
       "        text-align: right;\n",
       "    }\n",
       "</style>\n",
       "<table border=\"1\" class=\"dataframe\">\n",
       "  <thead>\n",
       "    <tr style=\"text-align: right;\">\n",
       "      <th></th>\n",
       "      <th>tanggal</th>\n",
       "      <th>Kasus harian</th>\n",
       "      <th>Total kasus</th>\n",
       "      <th>Kasus aktif</th>\n",
       "      <th>Sembuh\\n(baru)</th>\n",
       "      <th>Sembuh</th>\n",
       "      <th>Meninggal\\n(baru)</th>\n",
       "      <th>Meninggal\\nDunia</th>\n",
       "      <th>Tingkat kematian (seluruh kasus)</th>\n",
       "      <th>Tingkat kematian (closed cases)</th>\n",
       "      <th>...</th>\n",
       "      <th>Unnamed: 41</th>\n",
       "      <th>Dosis pertama</th>\n",
       "      <th>Dosis kedua</th>\n",
       "      <th>Dosis ketiga</th>\n",
       "      <th>Dosis pertama (%)</th>\n",
       "      <th>Dosis kedua (%)</th>\n",
       "      <th>Dosis pertama (harian)</th>\n",
       "      <th>Dosis kedua (harian)</th>\n",
       "      <th>Dosis harian</th>\n",
       "      <th>Dosis pertama (mingguan)</th>\n",
       "    </tr>\n",
       "  </thead>\n",
       "  <tbody>\n",
       "    <tr>\n",
       "      <th>0</th>\n",
       "      <td>2020-03-02</td>\n",
       "      <td>2.0</td>\n",
       "      <td>2.0</td>\n",
       "      <td>2.0</td>\n",
       "      <td>0.0</td>\n",
       "      <td>0.0</td>\n",
       "      <td>0.0</td>\n",
       "      <td>0.0</td>\n",
       "      <td>0.0</td>\n",
       "      <td>NaN</td>\n",
       "      <td>...</td>\n",
       "      <td>NaN</td>\n",
       "      <td>NaN</td>\n",
       "      <td>NaN</td>\n",
       "      <td>NaN</td>\n",
       "      <td>NaN</td>\n",
       "      <td>NaN</td>\n",
       "      <td>NaN</td>\n",
       "      <td>NaN</td>\n",
       "      <td>NaN</td>\n",
       "      <td>NaN</td>\n",
       "    </tr>\n",
       "    <tr>\n",
       "      <th>1</th>\n",
       "      <td>2020-03-03</td>\n",
       "      <td>0.0</td>\n",
       "      <td>2.0</td>\n",
       "      <td>2.0</td>\n",
       "      <td>0.0</td>\n",
       "      <td>0.0</td>\n",
       "      <td>0.0</td>\n",
       "      <td>0.0</td>\n",
       "      <td>0.0</td>\n",
       "      <td>NaN</td>\n",
       "      <td>...</td>\n",
       "      <td>NaN</td>\n",
       "      <td>NaN</td>\n",
       "      <td>NaN</td>\n",
       "      <td>NaN</td>\n",
       "      <td>NaN</td>\n",
       "      <td>NaN</td>\n",
       "      <td>NaN</td>\n",
       "      <td>NaN</td>\n",
       "      <td>NaN</td>\n",
       "      <td>NaN</td>\n",
       "    </tr>\n",
       "    <tr>\n",
       "      <th>2</th>\n",
       "      <td>2020-03-04</td>\n",
       "      <td>0.0</td>\n",
       "      <td>2.0</td>\n",
       "      <td>2.0</td>\n",
       "      <td>0.0</td>\n",
       "      <td>0.0</td>\n",
       "      <td>0.0</td>\n",
       "      <td>0.0</td>\n",
       "      <td>0.0</td>\n",
       "      <td>NaN</td>\n",
       "      <td>...</td>\n",
       "      <td>NaN</td>\n",
       "      <td>NaN</td>\n",
       "      <td>NaN</td>\n",
       "      <td>NaN</td>\n",
       "      <td>NaN</td>\n",
       "      <td>NaN</td>\n",
       "      <td>NaN</td>\n",
       "      <td>NaN</td>\n",
       "      <td>NaN</td>\n",
       "      <td>NaN</td>\n",
       "    </tr>\n",
       "    <tr>\n",
       "      <th>3</th>\n",
       "      <td>2020-03-05</td>\n",
       "      <td>0.0</td>\n",
       "      <td>2.0</td>\n",
       "      <td>2.0</td>\n",
       "      <td>0.0</td>\n",
       "      <td>0.0</td>\n",
       "      <td>0.0</td>\n",
       "      <td>0.0</td>\n",
       "      <td>0.0</td>\n",
       "      <td>NaN</td>\n",
       "      <td>...</td>\n",
       "      <td>NaN</td>\n",
       "      <td>NaN</td>\n",
       "      <td>NaN</td>\n",
       "      <td>NaN</td>\n",
       "      <td>NaN</td>\n",
       "      <td>NaN</td>\n",
       "      <td>NaN</td>\n",
       "      <td>NaN</td>\n",
       "      <td>NaN</td>\n",
       "      <td>NaN</td>\n",
       "    </tr>\n",
       "    <tr>\n",
       "      <th>4</th>\n",
       "      <td>2020-03-06</td>\n",
       "      <td>2.0</td>\n",
       "      <td>4.0</td>\n",
       "      <td>4.0</td>\n",
       "      <td>0.0</td>\n",
       "      <td>0.0</td>\n",
       "      <td>0.0</td>\n",
       "      <td>0.0</td>\n",
       "      <td>0.0</td>\n",
       "      <td>NaN</td>\n",
       "      <td>...</td>\n",
       "      <td>NaN</td>\n",
       "      <td>NaN</td>\n",
       "      <td>NaN</td>\n",
       "      <td>NaN</td>\n",
       "      <td>NaN</td>\n",
       "      <td>NaN</td>\n",
       "      <td>NaN</td>\n",
       "      <td>NaN</td>\n",
       "      <td>NaN</td>\n",
       "      <td>NaN</td>\n",
       "    </tr>\n",
       "  </tbody>\n",
       "</table>\n",
       "<p>5 rows × 43 columns</p>\n",
       "</div>"
      ]
     },
     "metadata": {},
     "execution_count": 5
    }
   ],
   "metadata": {}
  },
  {
   "cell_type": "code",
   "execution_count": 6,
   "source": [
    "len(df)"
   ],
   "outputs": [
    {
     "output_type": "execute_result",
     "data": {
      "text/plain": [
       "564"
      ]
     },
     "metadata": {},
     "execution_count": 6
    }
   ],
   "metadata": {}
  },
  {
   "cell_type": "code",
   "execution_count": 7,
   "source": [
    "df.to_excel('dataset/kawaldata_clean.xlsx')"
   ],
   "outputs": [],
   "metadata": {}
  }
 ],
 "metadata": {
  "orig_nbformat": 4,
  "language_info": {
   "name": "python",
   "version": "3.7.10",
   "mimetype": "text/x-python",
   "codemirror_mode": {
    "name": "ipython",
    "version": 3
   },
   "pygments_lexer": "ipython3",
   "nbconvert_exporter": "python",
   "file_extension": ".py"
  },
  "kernelspec": {
   "name": "python3",
   "display_name": "Python 3.7.10 64-bit ('darts-conda': conda)"
  },
  "interpreter": {
   "hash": "04c3c95a2730d3fc55aa04c880f5a5df299a11dd8b150327dea45235a97e1ef1"
  }
 },
 "nbformat": 4,
 "nbformat_minor": 2
}