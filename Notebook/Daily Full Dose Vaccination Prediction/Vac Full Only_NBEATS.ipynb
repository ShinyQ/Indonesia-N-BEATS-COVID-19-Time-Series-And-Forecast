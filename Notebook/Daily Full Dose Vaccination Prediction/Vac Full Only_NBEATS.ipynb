{
 "cells": [
  {
   "cell_type": "code",
   "execution_count": 2,
   "source": [
    "import pandas as pd\r\n",
    "import plotly.graph_objects as go\r\n",
    "import torch\r\n",
    "\r\n",
    "from darts.dataprocessing.transformers import Scaler"
   ],
   "outputs": [],
   "metadata": {
    "id": "YSpyw4nLQi6X"
   }
  },
  {
   "cell_type": "code",
   "execution_count": 5,
   "source": [
    "path = \"../../Dataset\""
   ],
   "outputs": [],
   "metadata": {}
  },
  {
   "cell_type": "code",
   "execution_count": 6,
   "source": [
    "df = pd.read_excel(f'{path}/kawaldata_clean.xlsx', parse_dates=True)\r\n",
    "df.head()"
   ],
   "outputs": [],
   "metadata": {
    "colab": {
     "base_uri": "https://localhost:8080/",
     "height": 400
    },
    "id": "JFKYyVgDnNvz",
    "outputId": "d4edb0a4-52a2-4fc2-a720-4a23c10d17e7"
   }
  },
  {
   "cell_type": "markdown",
   "source": [
    "## **Vaccination Indonesia Statistics**"
   ],
   "metadata": {
    "id": "DrspzJoNsODX"
   }
  },
  {
   "cell_type": "code",
   "execution_count": 403,
   "source": [
    "df_vaccine = pd.concat([df['tanggal'], df['Dosis kedua']], axis=1)\r\n",
    "df_vaccine = df_vaccine.dropna()\r\n",
    "\r\n",
    "df_vaccine['Dosis kedua'] = df_vaccine['Dosis kedua'].astype(int)\r\n",
    "print(f'Total Vaccine Days {len(df_vaccine)}')"
   ],
   "outputs": [
    {
     "output_type": "stream",
     "name": "stdout",
     "text": [
      "Total Vaccine Days 208\n"
     ]
    }
   ],
   "metadata": {
    "colab": {
     "base_uri": "https://localhost:8080/"
    },
    "id": "Mup8Iyv1sU1Q",
    "outputId": "d6997e74-2475-4fdb-fc30-36144830fbe6"
   }
  },
  {
   "cell_type": "code",
   "execution_count": 404,
   "source": [
    "line_stat = []\r\n",
    "line_stat.append(go.Scatter(x=df_vaccine.tanggal, y=df_vaccine['Dosis kedua'], name=\"Dosis Kedua\", mode='lines'))\r\n",
    "\r\n",
    "fig = go.Figure(data=line_stat)\r\n",
    "fig.update_layout(title_text=\"Vaccination Indonesia\")\r\n",
    "fig.show()"
   ],
   "outputs": [
    {
     "output_type": "display_data",
     "data": {
      "application/vnd.plotly.v1+json": {
       "config": {
        "plotlyServerURL": "https://plot.ly"
       },
       "data": [
        {
         "mode": "lines",
         "name": "Dosis Kedua",
         "type": "scatter",
         "x": [
          "2021-01-27T00:00:00",
          "2021-01-28T00:00:00",
          "2021-01-29T00:00:00",
          "2021-01-30T00:00:00",
          "2021-01-31T00:00:00",
          "2021-02-01T00:00:00",
          "2021-02-02T00:00:00",
          "2021-02-03T00:00:00",
          "2021-02-04T00:00:00",
          "2021-02-05T00:00:00",
          "2021-02-06T00:00:00",
          "2021-02-07T00:00:00",
          "2021-02-08T00:00:00",
          "2021-02-09T00:00:00",
          "2021-02-10T00:00:00",
          "2021-02-11T00:00:00",
          "2021-02-12T00:00:00",
          "2021-02-13T00:00:00",
          "2021-02-14T00:00:00",
          "2021-02-15T00:00:00",
          "2021-02-16T00:00:00",
          "2021-02-17T00:00:00",
          "2021-02-18T00:00:00",
          "2021-02-19T00:00:00",
          "2021-02-20T00:00:00",
          "2021-02-21T00:00:00",
          "2021-02-22T00:00:00",
          "2021-02-23T00:00:00",
          "2021-02-24T00:00:00",
          "2021-02-25T00:00:00",
          "2021-02-26T00:00:00",
          "2021-02-27T00:00:00",
          "2021-02-28T00:00:00",
          "2021-03-01T00:00:00",
          "2021-03-02T00:00:00",
          "2021-03-03T00:00:00",
          "2021-03-04T00:00:00",
          "2021-03-05T00:00:00",
          "2021-03-06T00:00:00",
          "2021-03-07T00:00:00",
          "2021-03-08T00:00:00",
          "2021-03-09T00:00:00",
          "2021-03-10T00:00:00",
          "2021-03-11T00:00:00",
          "2021-03-12T00:00:00",
          "2021-03-13T00:00:00",
          "2021-03-14T00:00:00",
          "2021-03-15T00:00:00",
          "2021-03-16T00:00:00",
          "2021-03-17T00:00:00",
          "2021-03-18T00:00:00",
          "2021-03-19T00:00:00",
          "2021-03-20T00:00:00",
          "2021-03-21T00:00:00",
          "2021-03-22T00:00:00",
          "2021-03-23T00:00:00",
          "2021-03-24T00:00:00",
          "2021-03-25T00:00:00",
          "2021-03-26T00:00:00",
          "2021-03-27T00:00:00",
          "2021-03-28T00:00:00",
          "2021-03-29T00:00:00",
          "2021-03-30T00:00:00",
          "2021-03-31T00:00:00",
          "2021-04-01T00:00:00",
          "2021-04-02T00:00:00",
          "2021-04-03T00:00:00",
          "2021-04-04T00:00:00",
          "2021-04-05T00:00:00",
          "2021-04-06T00:00:00",
          "2021-04-07T00:00:00",
          "2021-04-08T00:00:00",
          "2021-04-09T00:00:00",
          "2021-04-10T00:00:00",
          "2021-04-11T00:00:00",
          "2021-04-12T00:00:00",
          "2021-04-13T00:00:00",
          "2021-04-14T00:00:00",
          "2021-04-15T00:00:00",
          "2021-04-16T00:00:00",
          "2021-04-17T00:00:00",
          "2021-04-18T00:00:00",
          "2021-04-19T00:00:00",
          "2021-04-20T00:00:00",
          "2021-04-21T00:00:00",
          "2021-04-22T00:00:00",
          "2021-04-23T00:00:00",
          "2021-04-24T00:00:00",
          "2021-04-25T00:00:00",
          "2021-04-26T00:00:00",
          "2021-04-27T00:00:00",
          "2021-04-28T00:00:00",
          "2021-04-29T00:00:00",
          "2021-04-30T00:00:00",
          "2021-05-01T00:00:00",
          "2021-05-02T00:00:00",
          "2021-05-03T00:00:00",
          "2021-05-04T00:00:00",
          "2021-05-05T00:00:00",
          "2021-05-06T00:00:00",
          "2021-05-07T00:00:00",
          "2021-05-08T00:00:00",
          "2021-05-09T00:00:00",
          "2021-05-10T00:00:00",
          "2021-05-11T00:00:00",
          "2021-05-12T00:00:00",
          "2021-05-13T00:00:00",
          "2021-05-14T00:00:00",
          "2021-05-15T00:00:00",
          "2021-05-16T00:00:00",
          "2021-05-17T00:00:00",
          "2021-05-18T00:00:00",
          "2021-05-19T00:00:00",
          "2021-05-20T00:00:00",
          "2021-05-21T00:00:00",
          "2021-05-22T00:00:00",
          "2021-05-23T00:00:00",
          "2021-05-24T00:00:00",
          "2021-05-25T00:00:00",
          "2021-05-26T00:00:00",
          "2021-05-27T00:00:00",
          "2021-05-28T00:00:00",
          "2021-05-29T00:00:00",
          "2021-05-30T00:00:00",
          "2021-05-31T00:00:00",
          "2021-06-01T00:00:00",
          "2021-06-02T00:00:00",
          "2021-06-03T00:00:00",
          "2021-06-04T00:00:00",
          "2021-06-05T00:00:00",
          "2021-06-06T00:00:00",
          "2021-06-07T00:00:00",
          "2021-06-08T00:00:00",
          "2021-06-09T00:00:00",
          "2021-06-10T00:00:00",
          "2021-06-11T00:00:00",
          "2021-06-12T00:00:00",
          "2021-06-13T00:00:00",
          "2021-06-14T00:00:00",
          "2021-06-15T00:00:00",
          "2021-06-16T00:00:00",
          "2021-06-17T00:00:00",
          "2021-06-18T00:00:00",
          "2021-06-19T00:00:00",
          "2021-06-20T00:00:00",
          "2021-06-21T00:00:00",
          "2021-06-22T00:00:00",
          "2021-06-23T00:00:00",
          "2021-06-24T00:00:00",
          "2021-06-25T00:00:00",
          "2021-06-26T00:00:00",
          "2021-06-27T00:00:00",
          "2021-06-28T00:00:00",
          "2021-06-29T00:00:00",
          "2021-06-30T00:00:00",
          "2021-07-01T00:00:00",
          "2021-07-02T00:00:00",
          "2021-07-03T00:00:00",
          "2021-07-04T00:00:00",
          "2021-07-05T00:00:00",
          "2021-07-06T00:00:00",
          "2021-07-07T00:00:00",
          "2021-07-08T00:00:00",
          "2021-07-09T00:00:00",
          "2021-07-10T00:00:00",
          "2021-07-11T00:00:00",
          "2021-07-12T00:00:00",
          "2021-07-13T00:00:00",
          "2021-07-14T00:00:00",
          "2021-07-15T00:00:00",
          "2021-07-16T00:00:00",
          "2021-07-17T00:00:00",
          "2021-07-18T00:00:00",
          "2021-07-19T00:00:00",
          "2021-07-20T00:00:00",
          "2021-07-21T00:00:00",
          "2021-07-22T00:00:00",
          "2021-07-23T00:00:00",
          "2021-07-24T00:00:00",
          "2021-07-25T00:00:00",
          "2021-07-26T00:00:00",
          "2021-07-27T00:00:00",
          "2021-07-28T00:00:00",
          "2021-07-29T00:00:00",
          "2021-07-30T00:00:00",
          "2021-07-31T00:00:00",
          "2021-08-01T00:00:00",
          "2021-08-02T00:00:00",
          "2021-08-03T00:00:00",
          "2021-08-04T00:00:00",
          "2021-08-05T00:00:00",
          "2021-08-06T00:00:00",
          "2021-08-07T00:00:00",
          "2021-08-08T00:00:00",
          "2021-08-09T00:00:00",
          "2021-08-10T00:00:00",
          "2021-08-11T00:00:00",
          "2021-08-12T00:00:00",
          "2021-08-13T00:00:00",
          "2021-08-14T00:00:00",
          "2021-08-15T00:00:00",
          "2021-08-16T00:00:00",
          "2021-08-17T00:00:00",
          "2021-08-18T00:00:00",
          "2021-08-19T00:00:00",
          "2021-08-20T00:00:00",
          "2021-08-21T00:00:00",
          "2021-08-22T00:00:00"
         ],
         "y": [
          66,
          5468,
          11287,
          20810,
          22548,
          35406,
          51999,
          71621,
          96553,
          120725,
          137207,
          139131,
          171270,
          221453,
          279251,
          345605,
          380545,
          415486,
          425578,
          482625,
          537147,
          597328,
          623832,
          668914,
          732634,
          736710,
          764905,
          789966,
          825650,
          853745,
          865870,
          982370,
          998439,
          1002218,
          1047288,
          1076409,
          1100228,
          1114537,
          1130524,
          1133787,
          1158432,
          1197772,
          1262878,
          1295615,
          1339362,
          1454836,
          1460222,
          1572786,
          1716749,
          1876140,
          1948531,
          2221200,
          2301978,
          2312601,
          2494422,
          2709545,
          2941016,
          3015190,
          3152612,
          3235027,
          3246809,
          3330639,
          3561192,
          3717081,
          3854451,
          3867762,
          3954343,
          4014803,
          4230800,
          4431504,
          4554695,
          4697396,
          4952219,
          5079048,
          5101921,
          5322501,
          5433715,
          5572859,
          5715813,
          5821888,
          5890790,
          5911343,
          6052612,
          6158748,
          6341931,
          6488197,
          6699327,
          6798241,
          6829415,
          7023351,
          7214534,
          7411095,
          7583443,
          7646284,
          7678485,
          7703110,
          7850407,
          8002236,
          8166067,
          8339055,
          8486054,
          8612158,
          8643830,
          8804961,
          8888529,
          8918784,
          8919949,
          8921978,
          8960076,
          8975937,
          9093965,
          9276187,
          9428223,
          9580546,
          9746522,
          9853451,
          9881024,
          9906629,
          10125480,
          10236019,
          10428151,
          10521440,
          10571387,
          10584489,
          10697852,
          10721078,
          10877109,
          11003152,
          11070389,
          11124356,
          11127764,
          11231321,
          11398871,
          11455920,
          11503947,
          11534345,
          11567459,
          11568443,
          11637090,
          11699021,
          11859890,
          12022624,
          12139826,
          12232701,
          12242103,
          12398428,
          12583389,
          12672597,
          12838745,
          12956968,
          13069678,
          13115761,
          13257752,
          13369395,
          13528655,
          13677230,
          13830517,
          13970538,
          13979564,
          14095900,
          14357113,
          14516938,
          14659369,
          14949729,
          14983549,
          15016402,
          15038548,
          15254221,
          15685534,
          15876777,
          16098999,
          16217855,
          16283343,
          16444462,
          16453805,
          16713406,
          17012830,
          17253709,
          17798139,
          17933565,
          18367098,
          18857251,
          19354329,
          19867271,
          20302847,
          20621294,
          20707102,
          21071096,
          21496995,
          21976626,
          22283984,
          23082021,
          23528130,
          24212024,
          24615964,
          25249992,
          25502849,
          26144162,
          27055840,
          27899974,
          28112285,
          28609254,
          28853053,
          29527386,
          30230233,
          30585478,
          31566685,
          31601400
         ]
        }
       ],
       "layout": {
        "template": {
         "data": {
          "bar": [
           {
            "error_x": {
             "color": "#2a3f5f"
            },
            "error_y": {
             "color": "#2a3f5f"
            },
            "marker": {
             "line": {
              "color": "#E5ECF6",
              "width": 0.5
             },
             "pattern": {
              "fillmode": "overlay",
              "size": 10,
              "solidity": 0.2
             }
            },
            "type": "bar"
           }
          ],
          "barpolar": [
           {
            "marker": {
             "line": {
              "color": "#E5ECF6",
              "width": 0.5
             },
             "pattern": {
              "fillmode": "overlay",
              "size": 10,
              "solidity": 0.2
             }
            },
            "type": "barpolar"
           }
          ],
          "carpet": [
           {
            "aaxis": {
             "endlinecolor": "#2a3f5f",
             "gridcolor": "white",
             "linecolor": "white",
             "minorgridcolor": "white",
             "startlinecolor": "#2a3f5f"
            },
            "baxis": {
             "endlinecolor": "#2a3f5f",
             "gridcolor": "white",
             "linecolor": "white",
             "minorgridcolor": "white",
             "startlinecolor": "#2a3f5f"
            },
            "type": "carpet"
           }
          ],
          "choropleth": [
           {
            "colorbar": {
             "outlinewidth": 0,
             "ticks": ""
            },
            "type": "choropleth"
           }
          ],
          "contour": [
           {
            "colorbar": {
             "outlinewidth": 0,
             "ticks": ""
            },
            "colorscale": [
             [
              0,
              "#0d0887"
             ],
             [
              0.1111111111111111,
              "#46039f"
             ],
             [
              0.2222222222222222,
              "#7201a8"
             ],
             [
              0.3333333333333333,
              "#9c179e"
             ],
             [
              0.4444444444444444,
              "#bd3786"
             ],
             [
              0.5555555555555556,
              "#d8576b"
             ],
             [
              0.6666666666666666,
              "#ed7953"
             ],
             [
              0.7777777777777778,
              "#fb9f3a"
             ],
             [
              0.8888888888888888,
              "#fdca26"
             ],
             [
              1,
              "#f0f921"
             ]
            ],
            "type": "contour"
           }
          ],
          "contourcarpet": [
           {
            "colorbar": {
             "outlinewidth": 0,
             "ticks": ""
            },
            "type": "contourcarpet"
           }
          ],
          "heatmap": [
           {
            "colorbar": {
             "outlinewidth": 0,
             "ticks": ""
            },
            "colorscale": [
             [
              0,
              "#0d0887"
             ],
             [
              0.1111111111111111,
              "#46039f"
             ],
             [
              0.2222222222222222,
              "#7201a8"
             ],
             [
              0.3333333333333333,
              "#9c179e"
             ],
             [
              0.4444444444444444,
              "#bd3786"
             ],
             [
              0.5555555555555556,
              "#d8576b"
             ],
             [
              0.6666666666666666,
              "#ed7953"
             ],
             [
              0.7777777777777778,
              "#fb9f3a"
             ],
             [
              0.8888888888888888,
              "#fdca26"
             ],
             [
              1,
              "#f0f921"
             ]
            ],
            "type": "heatmap"
           }
          ],
          "heatmapgl": [
           {
            "colorbar": {
             "outlinewidth": 0,
             "ticks": ""
            },
            "colorscale": [
             [
              0,
              "#0d0887"
             ],
             [
              0.1111111111111111,
              "#46039f"
             ],
             [
              0.2222222222222222,
              "#7201a8"
             ],
             [
              0.3333333333333333,
              "#9c179e"
             ],
             [
              0.4444444444444444,
              "#bd3786"
             ],
             [
              0.5555555555555556,
              "#d8576b"
             ],
             [
              0.6666666666666666,
              "#ed7953"
             ],
             [
              0.7777777777777778,
              "#fb9f3a"
             ],
             [
              0.8888888888888888,
              "#fdca26"
             ],
             [
              1,
              "#f0f921"
             ]
            ],
            "type": "heatmapgl"
           }
          ],
          "histogram": [
           {
            "marker": {
             "pattern": {
              "fillmode": "overlay",
              "size": 10,
              "solidity": 0.2
             }
            },
            "type": "histogram"
           }
          ],
          "histogram2d": [
           {
            "colorbar": {
             "outlinewidth": 0,
             "ticks": ""
            },
            "colorscale": [
             [
              0,
              "#0d0887"
             ],
             [
              0.1111111111111111,
              "#46039f"
             ],
             [
              0.2222222222222222,
              "#7201a8"
             ],
             [
              0.3333333333333333,
              "#9c179e"
             ],
             [
              0.4444444444444444,
              "#bd3786"
             ],
             [
              0.5555555555555556,
              "#d8576b"
             ],
             [
              0.6666666666666666,
              "#ed7953"
             ],
             [
              0.7777777777777778,
              "#fb9f3a"
             ],
             [
              0.8888888888888888,
              "#fdca26"
             ],
             [
              1,
              "#f0f921"
             ]
            ],
            "type": "histogram2d"
           }
          ],
          "histogram2dcontour": [
           {
            "colorbar": {
             "outlinewidth": 0,
             "ticks": ""
            },
            "colorscale": [
             [
              0,
              "#0d0887"
             ],
             [
              0.1111111111111111,
              "#46039f"
             ],
             [
              0.2222222222222222,
              "#7201a8"
             ],
             [
              0.3333333333333333,
              "#9c179e"
             ],
             [
              0.4444444444444444,
              "#bd3786"
             ],
             [
              0.5555555555555556,
              "#d8576b"
             ],
             [
              0.6666666666666666,
              "#ed7953"
             ],
             [
              0.7777777777777778,
              "#fb9f3a"
             ],
             [
              0.8888888888888888,
              "#fdca26"
             ],
             [
              1,
              "#f0f921"
             ]
            ],
            "type": "histogram2dcontour"
           }
          ],
          "mesh3d": [
           {
            "colorbar": {
             "outlinewidth": 0,
             "ticks": ""
            },
            "type": "mesh3d"
           }
          ],
          "parcoords": [
           {
            "line": {
             "colorbar": {
              "outlinewidth": 0,
              "ticks": ""
             }
            },
            "type": "parcoords"
           }
          ],
          "pie": [
           {
            "automargin": true,
            "type": "pie"
           }
          ],
          "scatter": [
           {
            "marker": {
             "colorbar": {
              "outlinewidth": 0,
              "ticks": ""
             }
            },
            "type": "scatter"
           }
          ],
          "scatter3d": [
           {
            "line": {
             "colorbar": {
              "outlinewidth": 0,
              "ticks": ""
             }
            },
            "marker": {
             "colorbar": {
              "outlinewidth": 0,
              "ticks": ""
             }
            },
            "type": "scatter3d"
           }
          ],
          "scattercarpet": [
           {
            "marker": {
             "colorbar": {
              "outlinewidth": 0,
              "ticks": ""
             }
            },
            "type": "scattercarpet"
           }
          ],
          "scattergeo": [
           {
            "marker": {
             "colorbar": {
              "outlinewidth": 0,
              "ticks": ""
             }
            },
            "type": "scattergeo"
           }
          ],
          "scattergl": [
           {
            "marker": {
             "colorbar": {
              "outlinewidth": 0,
              "ticks": ""
             }
            },
            "type": "scattergl"
           }
          ],
          "scattermapbox": [
           {
            "marker": {
             "colorbar": {
              "outlinewidth": 0,
              "ticks": ""
             }
            },
            "type": "scattermapbox"
           }
          ],
          "scatterpolar": [
           {
            "marker": {
             "colorbar": {
              "outlinewidth": 0,
              "ticks": ""
             }
            },
            "type": "scatterpolar"
           }
          ],
          "scatterpolargl": [
           {
            "marker": {
             "colorbar": {
              "outlinewidth": 0,
              "ticks": ""
             }
            },
            "type": "scatterpolargl"
           }
          ],
          "scatterternary": [
           {
            "marker": {
             "colorbar": {
              "outlinewidth": 0,
              "ticks": ""
             }
            },
            "type": "scatterternary"
           }
          ],
          "surface": [
           {
            "colorbar": {
             "outlinewidth": 0,
             "ticks": ""
            },
            "colorscale": [
             [
              0,
              "#0d0887"
             ],
             [
              0.1111111111111111,
              "#46039f"
             ],
             [
              0.2222222222222222,
              "#7201a8"
             ],
             [
              0.3333333333333333,
              "#9c179e"
             ],
             [
              0.4444444444444444,
              "#bd3786"
             ],
             [
              0.5555555555555556,
              "#d8576b"
             ],
             [
              0.6666666666666666,
              "#ed7953"
             ],
             [
              0.7777777777777778,
              "#fb9f3a"
             ],
             [
              0.8888888888888888,
              "#fdca26"
             ],
             [
              1,
              "#f0f921"
             ]
            ],
            "type": "surface"
           }
          ],
          "table": [
           {
            "cells": {
             "fill": {
              "color": "#EBF0F8"
             },
             "line": {
              "color": "white"
             }
            },
            "header": {
             "fill": {
              "color": "#C8D4E3"
             },
             "line": {
              "color": "white"
             }
            },
            "type": "table"
           }
          ]
         },
         "layout": {
          "annotationdefaults": {
           "arrowcolor": "#2a3f5f",
           "arrowhead": 0,
           "arrowwidth": 1
          },
          "autotypenumbers": "strict",
          "coloraxis": {
           "colorbar": {
            "outlinewidth": 0,
            "ticks": ""
           }
          },
          "colorscale": {
           "diverging": [
            [
             0,
             "#8e0152"
            ],
            [
             0.1,
             "#c51b7d"
            ],
            [
             0.2,
             "#de77ae"
            ],
            [
             0.3,
             "#f1b6da"
            ],
            [
             0.4,
             "#fde0ef"
            ],
            [
             0.5,
             "#f7f7f7"
            ],
            [
             0.6,
             "#e6f5d0"
            ],
            [
             0.7,
             "#b8e186"
            ],
            [
             0.8,
             "#7fbc41"
            ],
            [
             0.9,
             "#4d9221"
            ],
            [
             1,
             "#276419"
            ]
           ],
           "sequential": [
            [
             0,
             "#0d0887"
            ],
            [
             0.1111111111111111,
             "#46039f"
            ],
            [
             0.2222222222222222,
             "#7201a8"
            ],
            [
             0.3333333333333333,
             "#9c179e"
            ],
            [
             0.4444444444444444,
             "#bd3786"
            ],
            [
             0.5555555555555556,
             "#d8576b"
            ],
            [
             0.6666666666666666,
             "#ed7953"
            ],
            [
             0.7777777777777778,
             "#fb9f3a"
            ],
            [
             0.8888888888888888,
             "#fdca26"
            ],
            [
             1,
             "#f0f921"
            ]
           ],
           "sequentialminus": [
            [
             0,
             "#0d0887"
            ],
            [
             0.1111111111111111,
             "#46039f"
            ],
            [
             0.2222222222222222,
             "#7201a8"
            ],
            [
             0.3333333333333333,
             "#9c179e"
            ],
            [
             0.4444444444444444,
             "#bd3786"
            ],
            [
             0.5555555555555556,
             "#d8576b"
            ],
            [
             0.6666666666666666,
             "#ed7953"
            ],
            [
             0.7777777777777778,
             "#fb9f3a"
            ],
            [
             0.8888888888888888,
             "#fdca26"
            ],
            [
             1,
             "#f0f921"
            ]
           ]
          },
          "colorway": [
           "#636efa",
           "#EF553B",
           "#00cc96",
           "#ab63fa",
           "#FFA15A",
           "#19d3f3",
           "#FF6692",
           "#B6E880",
           "#FF97FF",
           "#FECB52"
          ],
          "font": {
           "color": "#2a3f5f"
          },
          "geo": {
           "bgcolor": "white",
           "lakecolor": "white",
           "landcolor": "#E5ECF6",
           "showlakes": true,
           "showland": true,
           "subunitcolor": "white"
          },
          "hoverlabel": {
           "align": "left"
          },
          "hovermode": "closest",
          "mapbox": {
           "style": "light"
          },
          "paper_bgcolor": "white",
          "plot_bgcolor": "#E5ECF6",
          "polar": {
           "angularaxis": {
            "gridcolor": "white",
            "linecolor": "white",
            "ticks": ""
           },
           "bgcolor": "#E5ECF6",
           "radialaxis": {
            "gridcolor": "white",
            "linecolor": "white",
            "ticks": ""
           }
          },
          "scene": {
           "xaxis": {
            "backgroundcolor": "#E5ECF6",
            "gridcolor": "white",
            "gridwidth": 2,
            "linecolor": "white",
            "showbackground": true,
            "ticks": "",
            "zerolinecolor": "white"
           },
           "yaxis": {
            "backgroundcolor": "#E5ECF6",
            "gridcolor": "white",
            "gridwidth": 2,
            "linecolor": "white",
            "showbackground": true,
            "ticks": "",
            "zerolinecolor": "white"
           },
           "zaxis": {
            "backgroundcolor": "#E5ECF6",
            "gridcolor": "white",
            "gridwidth": 2,
            "linecolor": "white",
            "showbackground": true,
            "ticks": "",
            "zerolinecolor": "white"
           }
          },
          "shapedefaults": {
           "line": {
            "color": "#2a3f5f"
           }
          },
          "ternary": {
           "aaxis": {
            "gridcolor": "white",
            "linecolor": "white",
            "ticks": ""
           },
           "baxis": {
            "gridcolor": "white",
            "linecolor": "white",
            "ticks": ""
           },
           "bgcolor": "#E5ECF6",
           "caxis": {
            "gridcolor": "white",
            "linecolor": "white",
            "ticks": ""
           }
          },
          "title": {
           "x": 0.05
          },
          "xaxis": {
           "automargin": true,
           "gridcolor": "white",
           "linecolor": "white",
           "ticks": "",
           "title": {
            "standoff": 15
           },
           "zerolinecolor": "white",
           "zerolinewidth": 2
          },
          "yaxis": {
           "automargin": true,
           "gridcolor": "white",
           "linecolor": "white",
           "ticks": "",
           "title": {
            "standoff": 15
           },
           "zerolinecolor": "white",
           "zerolinewidth": 2
          }
         }
        },
        "title": {
         "text": "Vaccination Indonesia"
        }
       }
      }
     },
     "metadata": {}
    }
   ],
   "metadata": {
    "colab": {
     "base_uri": "https://localhost:8080/",
     "height": 542
    },
    "id": "BcV-qChWsM-v",
    "outputId": "e50abd78-25c2-4067-dc9c-a751b97709c7"
   }
  },
  {
   "cell_type": "markdown",
   "source": [
    "## **Time Series Feature Engineering**"
   ],
   "metadata": {
    "id": "oRXE_Xpsz6qR"
   }
  },
  {
   "cell_type": "markdown",
   "source": [
    "- Filling NaN Value With 0\r\n",
    "- Seperating Train Variable With Date"
   ],
   "metadata": {
    "id": "vhQlh8YD0FaO"
   }
  },
  {
   "cell_type": "code",
   "execution_count": 405,
   "source": [
    "df_timeseries = df_vaccine"
   ],
   "outputs": [],
   "metadata": {
    "id": "p7Q45XbNyFeE"
   }
  },
  {
   "cell_type": "code",
   "execution_count": 406,
   "source": [
    "df_timeseries.tail()"
   ],
   "outputs": [
    {
     "output_type": "execute_result",
     "data": {
      "text/plain": [
       "       tanggal  Dosis kedua\n",
       "533 2021-08-18     29527386\n",
       "534 2021-08-19     30230233\n",
       "535 2021-08-20     30585478\n",
       "536 2021-08-21     31566685\n",
       "537 2021-08-22     31601400"
      ],
      "text/html": [
       "<div>\n",
       "<style scoped>\n",
       "    .dataframe tbody tr th:only-of-type {\n",
       "        vertical-align: middle;\n",
       "    }\n",
       "\n",
       "    .dataframe tbody tr th {\n",
       "        vertical-align: top;\n",
       "    }\n",
       "\n",
       "    .dataframe thead th {\n",
       "        text-align: right;\n",
       "    }\n",
       "</style>\n",
       "<table border=\"1\" class=\"dataframe\">\n",
       "  <thead>\n",
       "    <tr style=\"text-align: right;\">\n",
       "      <th></th>\n",
       "      <th>tanggal</th>\n",
       "      <th>Dosis kedua</th>\n",
       "    </tr>\n",
       "  </thead>\n",
       "  <tbody>\n",
       "    <tr>\n",
       "      <th>533</th>\n",
       "      <td>2021-08-18</td>\n",
       "      <td>29527386</td>\n",
       "    </tr>\n",
       "    <tr>\n",
       "      <th>534</th>\n",
       "      <td>2021-08-19</td>\n",
       "      <td>30230233</td>\n",
       "    </tr>\n",
       "    <tr>\n",
       "      <th>535</th>\n",
       "      <td>2021-08-20</td>\n",
       "      <td>30585478</td>\n",
       "    </tr>\n",
       "    <tr>\n",
       "      <th>536</th>\n",
       "      <td>2021-08-21</td>\n",
       "      <td>31566685</td>\n",
       "    </tr>\n",
       "    <tr>\n",
       "      <th>537</th>\n",
       "      <td>2021-08-22</td>\n",
       "      <td>31601400</td>\n",
       "    </tr>\n",
       "  </tbody>\n",
       "</table>\n",
       "</div>"
      ]
     },
     "metadata": {},
     "execution_count": 406
    }
   ],
   "metadata": {}
  },
  {
   "cell_type": "code",
   "execution_count": 407,
   "source": [
    "variable = df_timeseries.loc[:, df_timeseries.columns != 'tanggal']\r\n",
    "variable = list(variable)\r\n",
    "variable\r\n"
   ],
   "outputs": [
    {
     "output_type": "execute_result",
     "data": {
      "text/plain": [
       "['Dosis kedua']"
      ]
     },
     "metadata": {},
     "execution_count": 407
    }
   ],
   "metadata": {
    "colab": {
     "base_uri": "https://localhost:8080/"
    },
    "id": "bm7PkNuSzJoq",
    "outputId": "964dbcaa-e0ae-45be-b883-7b23ca532be9"
   }
  },
  {
   "cell_type": "markdown",
   "source": [
    "## **Time Series Modelling**"
   ],
   "metadata": {
    "id": "fjoOq5XP4qZu"
   }
  },
  {
   "cell_type": "code",
   "execution_count": 408,
   "source": [
    "from darts import TimeSeries\r\n",
    "\r\n",
    "series = TimeSeries.from_dataframe(df_timeseries, 'tanggal', variable)\r\n",
    "train = series\r\n"
   ],
   "outputs": [],
   "metadata": {
    "id": "MIys5lEKiRVt"
   }
  },
  {
   "cell_type": "code",
   "execution_count": 409,
   "source": [
    "from darts.models import NBEATSModel\r\n",
    "model = NBEATSModel(\r\n",
    "    input_chunk_length = 10,\r\n",
    "    output_chunk_length = 7\r\n",
    ")\r\n",
    "\r\n",
    "device = torch.device(\"cuda:0\" if torch.cuda.is_available() else \"cpu\")\r\n",
    "print(device)\r\n",
    "\r\n",
    "model.fit(train, verbose=True)"
   ],
   "outputs": [
    {
     "output_type": "stream",
     "name": "stderr",
     "text": [
      "[2021-08-23 21:26:02,150] INFO | darts.models.torch_forecasting_model | Train dataset contains 192 samples.\n",
      "[2021-08-23 21:26:02,150] INFO | darts.models.torch_forecasting_model | Train dataset contains 192 samples.\n"
     ]
    },
    {
     "output_type": "stream",
     "name": "stdout",
     "text": [
      "cuda:0\n"
     ]
    },
    {
     "output_type": "display_data",
     "data": {
      "text/plain": [
       "  0%|          | 0/100 [00:00<?, ?it/s]"
      ],
      "application/vnd.jupyter.widget-view+json": {
       "version_major": 2,
       "version_minor": 0,
       "model_id": "f1988fa2696d4b6da173332c50af6723"
      }
     },
     "metadata": {}
    },
    {
     "output_type": "stream",
     "name": "stdout",
     "text": []
    }
   ],
   "metadata": {
    "colab": {
     "base_uri": "https://localhost:8080/"
    },
    "id": "E0lQlddAoRzK",
    "outputId": "e882c372-a8d8-4cb8-e948-67f20d69c948"
   }
  },
  {
   "cell_type": "code",
   "execution_count": 410,
   "source": [
    "pred_series = model.historical_forecasts(\r\n",
    "    train,\r\n",
    "    start=pd.Timestamp(\"2021-03-20\"),\r\n",
    "    retrain=False,\r\n",
    "    verbose=True\r\n",
    ")"
   ],
   "outputs": [
    {
     "output_type": "display_data",
     "data": {
      "text/plain": [
       "  0%|          | 0/156 [00:00<?, ?it/s]"
      ],
      "application/vnd.jupyter.widget-view+json": {
       "version_major": 2,
       "version_minor": 0,
       "model_id": "a5fb6b3d2a8240f0b843fd7ac2f4823d"
      }
     },
     "metadata": {}
    }
   ],
   "metadata": {}
  },
  {
   "cell_type": "code",
   "execution_count": 411,
   "source": [
    "ts_transformed['Dosis kedua'].univariate_component(0).plot(label='actual')\r\n",
    "pred_series['0'].plot(label='predict')\r\n",
    "\r\n",
    "print('R2 Score:', r2_score(ts_transformed.univariate_component(0), pred_series['0']))"
   ],
   "outputs": [
    {
     "output_type": "stream",
     "name": "stdout",
     "text": [
      "R2 Score: 0.9995248575888621\n"
     ]
    },
    {
     "output_type": "display_data",
     "data": {
      "text/plain": [
       "<Figure size 432x288 with 1 Axes>"
      ],
      "image/svg+xml": "<?xml version=\"1.0\" encoding=\"utf-8\" standalone=\"no\"?>\r\n<!DOCTYPE svg PUBLIC \"-//W3C//DTD SVG 1.1//EN\"\r\n  \"http://www.w3.org/Graphics/SVG/1.1/DTD/svg11.dtd\">\r\n<svg height=\"286.231956pt\" version=\"1.1\" viewBox=\"0 0 369.447303 286.231956\" width=\"369.447303pt\" xmlns=\"http://www.w3.org/2000/svg\" xmlns:xlink=\"http://www.w3.org/1999/xlink\">\r\n <metadata>\r\n  <rdf:RDF xmlns:cc=\"http://creativecommons.org/ns#\" xmlns:dc=\"http://purl.org/dc/elements/1.1/\" xmlns:rdf=\"http://www.w3.org/1999/02/22-rdf-syntax-ns#\">\r\n   <cc:Work>\r\n    <dc:type rdf:resource=\"http://purl.org/dc/dcmitype/StillImage\"/>\r\n    <dc:date>2021-08-23T21:33:07.044943</dc:date>\r\n    <dc:format>image/svg+xml</dc:format>\r\n    <dc:creator>\r\n     <cc:Agent>\r\n      <dc:title>Matplotlib v3.4.3, https://matplotlib.org/</dc:title>\r\n     </cc:Agent>\r\n    </dc:creator>\r\n   </cc:Work>\r\n  </rdf:RDF>\r\n </metadata>\r\n <defs>\r\n  <style type=\"text/css\">*{stroke-linecap:butt;stroke-linejoin:round;}</style>\r\n </defs>\r\n <g id=\"figure_1\">\r\n  <g id=\"patch_1\">\r\n   <path d=\"M 0 286.231956 \r\nL 369.447303 286.231956 \r\nL 369.447303 0 \r\nL 0 0 \r\nz\r\n\" style=\"fill:none;\"/>\r\n  </g>\r\n  <g id=\"axes_1\">\r\n   <g id=\"patch_2\">\r\n    <path d=\"M 27.447303 233.969498 \r\nL 362.247303 233.969498 \r\nL 362.247303 16.529498 \r\nL 27.447303 16.529498 \r\nz\r\n\" style=\"fill:#ffffff;\"/>\r\n   </g>\r\n   <g id=\"matplotlib.axis_1\">\r\n    <g id=\"xtick_1\">\r\n     <g id=\"line2d_1\">\r\n      <path clip-path=\"url(#p63dc4b3fec)\" d=\"M 66.229121 233.969498 \r\nL 66.229121 16.529498 \r\n\" style=\"fill:none;stroke:#dedede;stroke-linecap:square;stroke-width:0.8;\"/>\r\n     </g>\r\n     <g id=\"text_1\">\r\n      <!-- 2021-04 -->\r\n      <g style=\"fill:#333333;\" transform=\"translate(35.220846 263.853546)rotate(-30)scale(0.0833 -0.0833)\">\r\n       <defs>\r\n        <path d=\"M 1228 531 \r\nL 3431 531 \r\nL 3431 0 \r\nL 469 0 \r\nL 469 531 \r\nQ 828 903 1448 1529 \r\nQ 2069 2156 2228 2338 \r\nQ 2531 2678 2651 2914 \r\nQ 2772 3150 2772 3378 \r\nQ 2772 3750 2511 3984 \r\nQ 2250 4219 1831 4219 \r\nQ 1534 4219 1204 4116 \r\nQ 875 4013 500 3803 \r\nL 500 4441 \r\nQ 881 4594 1212 4672 \r\nQ 1544 4750 1819 4750 \r\nQ 2544 4750 2975 4387 \r\nQ 3406 4025 3406 3419 \r\nQ 3406 3131 3298 2873 \r\nQ 3191 2616 2906 2266 \r\nQ 2828 2175 2409 1742 \r\nQ 1991 1309 1228 531 \r\nz\r\n\" id=\"DejaVuSans-32\" transform=\"scale(0.015625)\"/>\r\n        <path d=\"M 2034 4250 \r\nQ 1547 4250 1301 3770 \r\nQ 1056 3291 1056 2328 \r\nQ 1056 1369 1301 889 \r\nQ 1547 409 2034 409 \r\nQ 2525 409 2770 889 \r\nQ 3016 1369 3016 2328 \r\nQ 3016 3291 2770 3770 \r\nQ 2525 4250 2034 4250 \r\nz\r\nM 2034 4750 \r\nQ 2819 4750 3233 4129 \r\nQ 3647 3509 3647 2328 \r\nQ 3647 1150 3233 529 \r\nQ 2819 -91 2034 -91 \r\nQ 1250 -91 836 529 \r\nQ 422 1150 422 2328 \r\nQ 422 3509 836 4129 \r\nQ 1250 4750 2034 4750 \r\nz\r\n\" id=\"DejaVuSans-30\" transform=\"scale(0.015625)\"/>\r\n        <path d=\"M 794 531 \r\nL 1825 531 \r\nL 1825 4091 \r\nL 703 3866 \r\nL 703 4441 \r\nL 1819 4666 \r\nL 2450 4666 \r\nL 2450 531 \r\nL 3481 531 \r\nL 3481 0 \r\nL 794 0 \r\nL 794 531 \r\nz\r\n\" id=\"DejaVuSans-31\" transform=\"scale(0.015625)\"/>\r\n        <path d=\"M 313 2009 \r\nL 1997 2009 \r\nL 1997 1497 \r\nL 313 1497 \r\nL 313 2009 \r\nz\r\n\" id=\"DejaVuSans-2d\" transform=\"scale(0.015625)\"/>\r\n        <path d=\"M 2419 4116 \r\nL 825 1625 \r\nL 2419 1625 \r\nL 2419 4116 \r\nz\r\nM 2253 4666 \r\nL 3047 4666 \r\nL 3047 1625 \r\nL 3713 1625 \r\nL 3713 1100 \r\nL 3047 1100 \r\nL 3047 0 \r\nL 2419 0 \r\nL 2419 1100 \r\nL 313 1100 \r\nL 313 1709 \r\nL 2253 4666 \r\nz\r\n\" id=\"DejaVuSans-34\" transform=\"scale(0.015625)\"/>\r\n       </defs>\r\n       <use xlink:href=\"#DejaVuSans-32\"/>\r\n       <use x=\"63.623047\" xlink:href=\"#DejaVuSans-30\"/>\r\n       <use x=\"127.246094\" xlink:href=\"#DejaVuSans-32\"/>\r\n       <use x=\"190.869141\" xlink:href=\"#DejaVuSans-31\"/>\r\n       <use x=\"254.492188\" xlink:href=\"#DejaVuSans-2d\"/>\r\n       <use x=\"290.576172\" xlink:href=\"#DejaVuSans-30\"/>\r\n       <use x=\"354.199219\" xlink:href=\"#DejaVuSans-34\"/>\r\n      </g>\r\n     </g>\r\n    </g>\r\n    <g id=\"xtick_2\">\r\n     <g id=\"line2d_2\">\r\n      <path clip-path=\"url(#p63dc4b3fec)\" d=\"M 125.138212 233.969498 \r\nL 125.138212 16.529498 \r\n\" style=\"fill:none;stroke:#dedede;stroke-linecap:square;stroke-width:0.8;\"/>\r\n     </g>\r\n     <g id=\"text_2\">\r\n      <!-- 2021-05 -->\r\n      <g style=\"fill:#333333;\" transform=\"translate(94.129936 263.853546)rotate(-30)scale(0.0833 -0.0833)\">\r\n       <defs>\r\n        <path d=\"M 691 4666 \r\nL 3169 4666 \r\nL 3169 4134 \r\nL 1269 4134 \r\nL 1269 2991 \r\nQ 1406 3038 1543 3061 \r\nQ 1681 3084 1819 3084 \r\nQ 2600 3084 3056 2656 \r\nQ 3513 2228 3513 1497 \r\nQ 3513 744 3044 326 \r\nQ 2575 -91 1722 -91 \r\nQ 1428 -91 1123 -41 \r\nQ 819 9 494 109 \r\nL 494 744 \r\nQ 775 591 1075 516 \r\nQ 1375 441 1709 441 \r\nQ 2250 441 2565 725 \r\nQ 2881 1009 2881 1497 \r\nQ 2881 1984 2565 2268 \r\nQ 2250 2553 1709 2553 \r\nQ 1456 2553 1204 2497 \r\nQ 953 2441 691 2322 \r\nL 691 4666 \r\nz\r\n\" id=\"DejaVuSans-35\" transform=\"scale(0.015625)\"/>\r\n       </defs>\r\n       <use xlink:href=\"#DejaVuSans-32\"/>\r\n       <use x=\"63.623047\" xlink:href=\"#DejaVuSans-30\"/>\r\n       <use x=\"127.246094\" xlink:href=\"#DejaVuSans-32\"/>\r\n       <use x=\"190.869141\" xlink:href=\"#DejaVuSans-31\"/>\r\n       <use x=\"254.492188\" xlink:href=\"#DejaVuSans-2d\"/>\r\n       <use x=\"290.576172\" xlink:href=\"#DejaVuSans-30\"/>\r\n       <use x=\"354.199219\" xlink:href=\"#DejaVuSans-35\"/>\r\n      </g>\r\n     </g>\r\n    </g>\r\n    <g id=\"xtick_3\">\r\n     <g id=\"line2d_3\">\r\n      <path clip-path=\"url(#p63dc4b3fec)\" d=\"M 186.010939 233.969498 \r\nL 186.010939 16.529498 \r\n\" style=\"fill:none;stroke:#dedede;stroke-linecap:square;stroke-width:0.8;\"/>\r\n     </g>\r\n     <g id=\"text_3\">\r\n      <!-- 2021-06 -->\r\n      <g style=\"fill:#333333;\" transform=\"translate(155.002664 263.853546)rotate(-30)scale(0.0833 -0.0833)\">\r\n       <defs>\r\n        <path d=\"M 2113 2584 \r\nQ 1688 2584 1439 2293 \r\nQ 1191 2003 1191 1497 \r\nQ 1191 994 1439 701 \r\nQ 1688 409 2113 409 \r\nQ 2538 409 2786 701 \r\nQ 3034 994 3034 1497 \r\nQ 3034 2003 2786 2293 \r\nQ 2538 2584 2113 2584 \r\nz\r\nM 3366 4563 \r\nL 3366 3988 \r\nQ 3128 4100 2886 4159 \r\nQ 2644 4219 2406 4219 \r\nQ 1781 4219 1451 3797 \r\nQ 1122 3375 1075 2522 \r\nQ 1259 2794 1537 2939 \r\nQ 1816 3084 2150 3084 \r\nQ 2853 3084 3261 2657 \r\nQ 3669 2231 3669 1497 \r\nQ 3669 778 3244 343 \r\nQ 2819 -91 2113 -91 \r\nQ 1303 -91 875 529 \r\nQ 447 1150 447 2328 \r\nQ 447 3434 972 4092 \r\nQ 1497 4750 2381 4750 \r\nQ 2619 4750 2861 4703 \r\nQ 3103 4656 3366 4563 \r\nz\r\n\" id=\"DejaVuSans-36\" transform=\"scale(0.015625)\"/>\r\n       </defs>\r\n       <use xlink:href=\"#DejaVuSans-32\"/>\r\n       <use x=\"63.623047\" xlink:href=\"#DejaVuSans-30\"/>\r\n       <use x=\"127.246094\" xlink:href=\"#DejaVuSans-32\"/>\r\n       <use x=\"190.869141\" xlink:href=\"#DejaVuSans-31\"/>\r\n       <use x=\"254.492188\" xlink:href=\"#DejaVuSans-2d\"/>\r\n       <use x=\"290.576172\" xlink:href=\"#DejaVuSans-30\"/>\r\n       <use x=\"354.199219\" xlink:href=\"#DejaVuSans-36\"/>\r\n      </g>\r\n     </g>\r\n    </g>\r\n    <g id=\"xtick_4\">\r\n     <g id=\"line2d_4\">\r\n      <path clip-path=\"url(#p63dc4b3fec)\" d=\"M 244.92003 233.969498 \r\nL 244.92003 16.529498 \r\n\" style=\"fill:none;stroke:#dedede;stroke-linecap:square;stroke-width:0.8;\"/>\r\n     </g>\r\n     <g id=\"text_4\">\r\n      <!-- 2021-07 -->\r\n      <g style=\"fill:#333333;\" transform=\"translate(213.911755 263.853546)rotate(-30)scale(0.0833 -0.0833)\">\r\n       <defs>\r\n        <path d=\"M 525 4666 \r\nL 3525 4666 \r\nL 3525 4397 \r\nL 1831 0 \r\nL 1172 0 \r\nL 2766 4134 \r\nL 525 4134 \r\nL 525 4666 \r\nz\r\n\" id=\"DejaVuSans-37\" transform=\"scale(0.015625)\"/>\r\n       </defs>\r\n       <use xlink:href=\"#DejaVuSans-32\"/>\r\n       <use x=\"63.623047\" xlink:href=\"#DejaVuSans-30\"/>\r\n       <use x=\"127.246094\" xlink:href=\"#DejaVuSans-32\"/>\r\n       <use x=\"190.869141\" xlink:href=\"#DejaVuSans-31\"/>\r\n       <use x=\"254.492188\" xlink:href=\"#DejaVuSans-2d\"/>\r\n       <use x=\"290.576172\" xlink:href=\"#DejaVuSans-30\"/>\r\n       <use x=\"354.199219\" xlink:href=\"#DejaVuSans-37\"/>\r\n      </g>\r\n     </g>\r\n    </g>\r\n    <g id=\"xtick_5\">\r\n     <g id=\"line2d_5\">\r\n      <path clip-path=\"url(#p63dc4b3fec)\" d=\"M 305.792758 233.969498 \r\nL 305.792758 16.529498 \r\n\" style=\"fill:none;stroke:#dedede;stroke-linecap:square;stroke-width:0.8;\"/>\r\n     </g>\r\n     <g id=\"text_5\">\r\n      <!-- 2021-08 -->\r\n      <g style=\"fill:#333333;\" transform=\"translate(274.784482 263.853546)rotate(-30)scale(0.0833 -0.0833)\">\r\n       <defs>\r\n        <path d=\"M 2034 2216 \r\nQ 1584 2216 1326 1975 \r\nQ 1069 1734 1069 1313 \r\nQ 1069 891 1326 650 \r\nQ 1584 409 2034 409 \r\nQ 2484 409 2743 651 \r\nQ 3003 894 3003 1313 \r\nQ 3003 1734 2745 1975 \r\nQ 2488 2216 2034 2216 \r\nz\r\nM 1403 2484 \r\nQ 997 2584 770 2862 \r\nQ 544 3141 544 3541 \r\nQ 544 4100 942 4425 \r\nQ 1341 4750 2034 4750 \r\nQ 2731 4750 3128 4425 \r\nQ 3525 4100 3525 3541 \r\nQ 3525 3141 3298 2862 \r\nQ 3072 2584 2669 2484 \r\nQ 3125 2378 3379 2068 \r\nQ 3634 1759 3634 1313 \r\nQ 3634 634 3220 271 \r\nQ 2806 -91 2034 -91 \r\nQ 1263 -91 848 271 \r\nQ 434 634 434 1313 \r\nQ 434 1759 690 2068 \r\nQ 947 2378 1403 2484 \r\nz\r\nM 1172 3481 \r\nQ 1172 3119 1398 2916 \r\nQ 1625 2713 2034 2713 \r\nQ 2441 2713 2670 2916 \r\nQ 2900 3119 2900 3481 \r\nQ 2900 3844 2670 4047 \r\nQ 2441 4250 2034 4250 \r\nQ 1625 4250 1398 4047 \r\nQ 1172 3844 1172 3481 \r\nz\r\n\" id=\"DejaVuSans-38\" transform=\"scale(0.015625)\"/>\r\n       </defs>\r\n       <use xlink:href=\"#DejaVuSans-32\"/>\r\n       <use x=\"63.623047\" xlink:href=\"#DejaVuSans-30\"/>\r\n       <use x=\"127.246094\" xlink:href=\"#DejaVuSans-32\"/>\r\n       <use x=\"190.869141\" xlink:href=\"#DejaVuSans-31\"/>\r\n       <use x=\"254.492188\" xlink:href=\"#DejaVuSans-2d\"/>\r\n       <use x=\"290.576172\" xlink:href=\"#DejaVuSans-30\"/>\r\n       <use x=\"354.199219\" xlink:href=\"#DejaVuSans-38\"/>\r\n      </g>\r\n     </g>\r\n    </g>\r\n    <g id=\"text_6\">\r\n     <!-- time -->\r\n     <g style=\"fill:#333333;\" transform=\"translate(182.141834 276.952269)scale(0.1 -0.1)\">\r\n      <defs>\r\n       <path d=\"M 1759 4494 \r\nL 1759 3500 \r\nL 2913 3500 \r\nL 2913 2700 \r\nL 1759 2700 \r\nL 1759 1216 \r\nQ 1759 972 1856 886 \r\nQ 1953 800 2241 800 \r\nL 2816 800 \r\nL 2816 0 \r\nL 1856 0 \r\nQ 1194 0 917 276 \r\nQ 641 553 641 1216 \r\nL 641 2700 \r\nL 84 2700 \r\nL 84 3500 \r\nL 641 3500 \r\nL 641 4494 \r\nL 1759 4494 \r\nz\r\n\" id=\"DejaVuSans-Bold-74\" transform=\"scale(0.015625)\"/>\r\n       <path d=\"M 538 3500 \r\nL 1656 3500 \r\nL 1656 0 \r\nL 538 0 \r\nL 538 3500 \r\nz\r\nM 538 4863 \r\nL 1656 4863 \r\nL 1656 3950 \r\nL 538 3950 \r\nL 538 4863 \r\nz\r\n\" id=\"DejaVuSans-Bold-69\" transform=\"scale(0.015625)\"/>\r\n       <path d=\"M 3781 2919 \r\nQ 3994 3244 4286 3414 \r\nQ 4578 3584 4928 3584 \r\nQ 5531 3584 5847 3212 \r\nQ 6163 2841 6163 2131 \r\nL 6163 0 \r\nL 5038 0 \r\nL 5038 1825 \r\nQ 5041 1866 5042 1909 \r\nQ 5044 1953 5044 2034 \r\nQ 5044 2406 4934 2573 \r\nQ 4825 2741 4581 2741 \r\nQ 4263 2741 4089 2478 \r\nQ 3916 2216 3909 1719 \r\nL 3909 0 \r\nL 2784 0 \r\nL 2784 1825 \r\nQ 2784 2406 2684 2573 \r\nQ 2584 2741 2328 2741 \r\nQ 2006 2741 1831 2477 \r\nQ 1656 2213 1656 1722 \r\nL 1656 0 \r\nL 531 0 \r\nL 531 3500 \r\nL 1656 3500 \r\nL 1656 2988 \r\nQ 1863 3284 2130 3434 \r\nQ 2397 3584 2719 3584 \r\nQ 3081 3584 3359 3409 \r\nQ 3638 3234 3781 2919 \r\nz\r\n\" id=\"DejaVuSans-Bold-6d\" transform=\"scale(0.015625)\"/>\r\n       <path d=\"M 4031 1759 \r\nL 4031 1441 \r\nL 1416 1441 \r\nQ 1456 1047 1700 850 \r\nQ 1944 653 2381 653 \r\nQ 2734 653 3104 758 \r\nQ 3475 863 3866 1075 \r\nL 3866 213 \r\nQ 3469 63 3072 -14 \r\nQ 2675 -91 2278 -91 \r\nQ 1328 -91 801 392 \r\nQ 275 875 275 1747 \r\nQ 275 2603 792 3093 \r\nQ 1309 3584 2216 3584 \r\nQ 3041 3584 3536 3087 \r\nQ 4031 2591 4031 1759 \r\nz\r\nM 2881 2131 \r\nQ 2881 2450 2695 2645 \r\nQ 2509 2841 2209 2841 \r\nQ 1884 2841 1681 2658 \r\nQ 1478 2475 1428 2131 \r\nL 2881 2131 \r\nz\r\n\" id=\"DejaVuSans-Bold-65\" transform=\"scale(0.015625)\"/>\r\n      </defs>\r\n      <use xlink:href=\"#DejaVuSans-Bold-74\"/>\r\n      <use x=\"47.802734\" xlink:href=\"#DejaVuSans-Bold-69\"/>\r\n      <use x=\"82.080078\" xlink:href=\"#DejaVuSans-Bold-6d\"/>\r\n      <use x=\"186.279297\" xlink:href=\"#DejaVuSans-Bold-65\"/>\r\n     </g>\r\n    </g>\r\n   </g>\r\n   <g id=\"matplotlib.axis_2\">\r\n    <g id=\"ytick_1\">\r\n     <g id=\"line2d_6\">\r\n      <path clip-path=\"url(#p63dc4b3fec)\" d=\"M 27.447303 206.386038 \r\nL 362.247303 206.386038 \r\n\" style=\"fill:none;stroke:#dedede;stroke-linecap:square;stroke-width:0.8;\"/>\r\n     </g>\r\n     <g id=\"line2d_7\">\r\n      <defs>\r\n       <path d=\"M 0 0 \r\nL -3.5 0 \r\n\" id=\"m036b195aaa\" style=\"stroke:#333333;stroke-width:0.8;\"/>\r\n      </defs>\r\n      <g>\r\n       <use style=\"fill:#333333;stroke:#333333;stroke-width:0.8;\" x=\"27.447303\" xlink:href=\"#m036b195aaa\" y=\"206.386038\"/>\r\n      </g>\r\n     </g>\r\n     <g id=\"text_7\">\r\n      <!-- 0.5 -->\r\n      <g style=\"fill:#333333;\" transform=\"translate(7.2 209.550787)scale(0.0833 -0.0833)\">\r\n       <defs>\r\n        <path d=\"M 684 794 \r\nL 1344 794 \r\nL 1344 0 \r\nL 684 0 \r\nL 684 794 \r\nz\r\n\" id=\"DejaVuSans-2e\" transform=\"scale(0.015625)\"/>\r\n       </defs>\r\n       <use xlink:href=\"#DejaVuSans-30\"/>\r\n       <use x=\"63.623047\" xlink:href=\"#DejaVuSans-2e\"/>\r\n       <use x=\"95.410156\" xlink:href=\"#DejaVuSans-35\"/>\r\n      </g>\r\n     </g>\r\n    </g>\r\n    <g id=\"ytick_2\">\r\n     <g id=\"line2d_8\">\r\n      <path clip-path=\"url(#p63dc4b3fec)\" d=\"M 27.447303 173.454894 \r\nL 362.247303 173.454894 \r\n\" style=\"fill:none;stroke:#dedede;stroke-linecap:square;stroke-width:0.8;\"/>\r\n     </g>\r\n     <g id=\"line2d_9\">\r\n      <g>\r\n       <use style=\"fill:#333333;stroke:#333333;stroke-width:0.8;\" x=\"27.447303\" xlink:href=\"#m036b195aaa\" y=\"173.454894\"/>\r\n      </g>\r\n     </g>\r\n     <g id=\"text_8\">\r\n      <!-- 1.0 -->\r\n      <g style=\"fill:#333333;\" transform=\"translate(7.2 176.619643)scale(0.0833 -0.0833)\">\r\n       <use xlink:href=\"#DejaVuSans-31\"/>\r\n       <use x=\"63.623047\" xlink:href=\"#DejaVuSans-2e\"/>\r\n       <use x=\"95.410156\" xlink:href=\"#DejaVuSans-30\"/>\r\n      </g>\r\n     </g>\r\n    </g>\r\n    <g id=\"ytick_3\">\r\n     <g id=\"line2d_10\">\r\n      <path clip-path=\"url(#p63dc4b3fec)\" d=\"M 27.447303 140.52375 \r\nL 362.247303 140.52375 \r\n\" style=\"fill:none;stroke:#dedede;stroke-linecap:square;stroke-width:0.8;\"/>\r\n     </g>\r\n     <g id=\"line2d_11\">\r\n      <g>\r\n       <use style=\"fill:#333333;stroke:#333333;stroke-width:0.8;\" x=\"27.447303\" xlink:href=\"#m036b195aaa\" y=\"140.52375\"/>\r\n      </g>\r\n     </g>\r\n     <g id=\"text_9\">\r\n      <!-- 1.5 -->\r\n      <g style=\"fill:#333333;\" transform=\"translate(7.2 143.688499)scale(0.0833 -0.0833)\">\r\n       <use xlink:href=\"#DejaVuSans-31\"/>\r\n       <use x=\"63.623047\" xlink:href=\"#DejaVuSans-2e\"/>\r\n       <use x=\"95.410156\" xlink:href=\"#DejaVuSans-35\"/>\r\n      </g>\r\n     </g>\r\n    </g>\r\n    <g id=\"ytick_4\">\r\n     <g id=\"line2d_12\">\r\n      <path clip-path=\"url(#p63dc4b3fec)\" d=\"M 27.447303 107.592606 \r\nL 362.247303 107.592606 \r\n\" style=\"fill:none;stroke:#dedede;stroke-linecap:square;stroke-width:0.8;\"/>\r\n     </g>\r\n     <g id=\"line2d_13\">\r\n      <g>\r\n       <use style=\"fill:#333333;stroke:#333333;stroke-width:0.8;\" x=\"27.447303\" xlink:href=\"#m036b195aaa\" y=\"107.592606\"/>\r\n      </g>\r\n     </g>\r\n     <g id=\"text_10\">\r\n      <!-- 2.0 -->\r\n      <g style=\"fill:#333333;\" transform=\"translate(7.2 110.757355)scale(0.0833 -0.0833)\">\r\n       <use xlink:href=\"#DejaVuSans-32\"/>\r\n       <use x=\"63.623047\" xlink:href=\"#DejaVuSans-2e\"/>\r\n       <use x=\"95.410156\" xlink:href=\"#DejaVuSans-30\"/>\r\n      </g>\r\n     </g>\r\n    </g>\r\n    <g id=\"ytick_5\">\r\n     <g id=\"line2d_14\">\r\n      <path clip-path=\"url(#p63dc4b3fec)\" d=\"M 27.447303 74.661462 \r\nL 362.247303 74.661462 \r\n\" style=\"fill:none;stroke:#dedede;stroke-linecap:square;stroke-width:0.8;\"/>\r\n     </g>\r\n     <g id=\"line2d_15\">\r\n      <g>\r\n       <use style=\"fill:#333333;stroke:#333333;stroke-width:0.8;\" x=\"27.447303\" xlink:href=\"#m036b195aaa\" y=\"74.661462\"/>\r\n      </g>\r\n     </g>\r\n     <g id=\"text_11\">\r\n      <!-- 2.5 -->\r\n      <g style=\"fill:#333333;\" transform=\"translate(7.2 77.826212)scale(0.0833 -0.0833)\">\r\n       <use xlink:href=\"#DejaVuSans-32\"/>\r\n       <use x=\"63.623047\" xlink:href=\"#DejaVuSans-2e\"/>\r\n       <use x=\"95.410156\" xlink:href=\"#DejaVuSans-35\"/>\r\n      </g>\r\n     </g>\r\n    </g>\r\n    <g id=\"ytick_6\">\r\n     <g id=\"line2d_16\">\r\n      <path clip-path=\"url(#p63dc4b3fec)\" d=\"M 27.447303 41.730319 \r\nL 362.247303 41.730319 \r\n\" style=\"fill:none;stroke:#dedede;stroke-linecap:square;stroke-width:0.8;\"/>\r\n     </g>\r\n     <g id=\"line2d_17\">\r\n      <g>\r\n       <use style=\"fill:#333333;stroke:#333333;stroke-width:0.8;\" x=\"27.447303\" xlink:href=\"#m036b195aaa\" y=\"41.730319\"/>\r\n      </g>\r\n     </g>\r\n     <g id=\"text_12\">\r\n      <!-- 3.0 -->\r\n      <g style=\"fill:#333333;\" transform=\"translate(7.2 44.895068)scale(0.0833 -0.0833)\">\r\n       <defs>\r\n        <path d=\"M 2597 2516 \r\nQ 3050 2419 3304 2112 \r\nQ 3559 1806 3559 1356 \r\nQ 3559 666 3084 287 \r\nQ 2609 -91 1734 -91 \r\nQ 1441 -91 1130 -33 \r\nQ 819 25 488 141 \r\nL 488 750 \r\nQ 750 597 1062 519 \r\nQ 1375 441 1716 441 \r\nQ 2309 441 2620 675 \r\nQ 2931 909 2931 1356 \r\nQ 2931 1769 2642 2001 \r\nQ 2353 2234 1838 2234 \r\nL 1294 2234 \r\nL 1294 2753 \r\nL 1863 2753 \r\nQ 2328 2753 2575 2939 \r\nQ 2822 3125 2822 3475 \r\nQ 2822 3834 2567 4026 \r\nQ 2313 4219 1838 4219 \r\nQ 1578 4219 1281 4162 \r\nQ 984 4106 628 3988 \r\nL 628 4550 \r\nQ 988 4650 1302 4700 \r\nQ 1616 4750 1894 4750 \r\nQ 2613 4750 3031 4423 \r\nQ 3450 4097 3450 3541 \r\nQ 3450 3153 3228 2886 \r\nQ 3006 2619 2597 2516 \r\nz\r\n\" id=\"DejaVuSans-33\" transform=\"scale(0.015625)\"/>\r\n       </defs>\r\n       <use xlink:href=\"#DejaVuSans-33\"/>\r\n       <use x=\"63.623047\" xlink:href=\"#DejaVuSans-2e\"/>\r\n       <use x=\"95.410156\" xlink:href=\"#DejaVuSans-30\"/>\r\n      </g>\r\n     </g>\r\n    </g>\r\n    <g id=\"text_13\">\r\n     <!-- 1e7 -->\r\n     <g style=\"fill:#333333;\" transform=\"translate(27.447303 13.529498)scale(0.0833 -0.0833)\">\r\n      <defs>\r\n       <path d=\"M 3597 1894 \r\nL 3597 1613 \r\nL 953 1613 \r\nQ 991 1019 1311 708 \r\nQ 1631 397 2203 397 \r\nQ 2534 397 2845 478 \r\nQ 3156 559 3463 722 \r\nL 3463 178 \r\nQ 3153 47 2828 -22 \r\nQ 2503 -91 2169 -91 \r\nQ 1331 -91 842 396 \r\nQ 353 884 353 1716 \r\nQ 353 2575 817 3079 \r\nQ 1281 3584 2069 3584 \r\nQ 2775 3584 3186 3129 \r\nQ 3597 2675 3597 1894 \r\nz\r\nM 3022 2063 \r\nQ 3016 2534 2758 2815 \r\nQ 2500 3097 2075 3097 \r\nQ 1594 3097 1305 2825 \r\nQ 1016 2553 972 2059 \r\nL 3022 2063 \r\nz\r\n\" id=\"DejaVuSans-65\" transform=\"scale(0.015625)\"/>\r\n      </defs>\r\n      <use xlink:href=\"#DejaVuSans-31\"/>\r\n      <use x=\"63.623047\" xlink:href=\"#DejaVuSans-65\"/>\r\n      <use x=\"125.146484\" xlink:href=\"#DejaVuSans-37\"/>\r\n     </g>\r\n    </g>\r\n   </g>\r\n   <g id=\"line2d_18\">\r\n    <path clip-path=\"url(#p63dc4b3fec)\" d=\"M 44.629121 224.085862 \r\nL 46.592758 222.888347 \r\nL 50.52003 219.946977 \r\nL 52.483667 219.45845 \r\nL 54.447303 218.553357 \r\nL 56.410939 218.010553 \r\nL 58.374576 217.932954 \r\nL 60.338212 217.380831 \r\nL 62.301849 215.862356 \r\nL 66.229121 213.930885 \r\nL 68.192758 213.843216 \r\nL 70.156394 213.272974 \r\nL 72.12003 212.87477 \r\nL 76.047303 210.130282 \r\nL 78.010939 209.318918 \r\nL 79.974576 208.379057 \r\nL 81.938212 206.700734 \r\nL 83.901849 205.865409 \r\nL 85.865485 205.714762 \r\nL 87.829121 204.261972 \r\nL 89.792758 203.529491 \r\nL 93.72003 201.671529 \r\nL 95.683667 200.972895 \r\nL 97.647303 200.519091 \r\nL 99.610939 200.383724 \r\nL 101.574576 199.453294 \r\nL 103.538212 198.754258 \r\nL 105.501849 197.547773 \r\nL 107.465485 196.584432 \r\nL 109.429121 195.193881 \r\nL 111.392758 194.542411 \r\nL 113.356394 194.337092 \r\nL 119.247303 190.506014 \r\nL 121.210939 189.370891 \r\nL 123.174576 188.957006 \r\nL 127.101849 188.582737 \r\nL 131.029121 186.612624 \r\nL 136.92003 183.426088 \r\nL 138.883667 182.595539 \r\nL 140.847303 182.38694 \r\nL 142.810939 181.325694 \r\nL 144.774576 180.775296 \r\nL 146.738212 180.57603 \r\nL 150.665485 180.554993 \r\nL 152.629121 180.304071 \r\nL 154.592758 180.199607 \r\nL 156.556394 179.422248 \r\nL 158.52003 178.222092 \r\nL 164.410939 175.124358 \r\nL 166.374576 174.420099 \r\nL 170.301849 174.069857 \r\nL 172.265485 172.628454 \r\nL 174.229121 171.900419 \r\nL 176.192758 170.634993 \r\nL 178.156394 170.020571 \r\nL 180.12003 169.691608 \r\nL 182.083667 169.605315 \r\nL 184.047303 168.858681 \r\nL 186.010939 168.705709 \r\nL 187.974576 167.678053 \r\nL 189.938212 166.847905 \r\nL 193.865485 166.049628 \r\nL 195.829121 166.027182 \r\nL 197.792758 165.345132 \r\nL 199.756394 164.241609 \r\nL 203.683667 163.549555 \r\nL 207.610939 163.13125 \r\nL 209.574576 163.124769 \r\nL 213.501849 162.264753 \r\nL 217.429121 160.133429 \r\nL 219.392758 159.36151 \r\nL 221.356394 158.749814 \r\nL 223.32003 158.68789 \r\nL 225.283667 157.658298 \r\nL 227.247303 156.440103 \r\nL 229.210939 155.852559 \r\nL 231.174576 154.75827 \r\nL 235.101849 153.237292 \r\nL 237.065485 152.933779 \r\nL 239.029121 151.998594 \r\nL 240.992758 151.263288 \r\nL 246.883667 148.226233 \r\nL 248.847303 147.304022 \r\nL 250.810939 147.244575 \r\nL 252.774576 146.478359 \r\nL 254.738212 144.757951 \r\nL 258.665485 142.767224 \r\nL 260.629121 140.854846 \r\nL 266.52003 140.269864 \r\nL 268.483667 138.849392 \r\nL 270.447303 136.008666 \r\nL 272.410939 134.749096 \r\nL 274.374576 133.285491 \r\nL 276.338212 132.502678 \r\nL 278.301849 132.071359 \r\nL 280.265485 131.010193 \r\nL 282.229121 130.948658 \r\nL 284.192758 129.238866 \r\nL 286.156394 127.266791 \r\nL 288.12003 125.680307 \r\nL 290.083667 122.094566 \r\nL 292.047303 121.20262 \r\nL 294.010939 118.347272 \r\nL 301.865485 105.597987 \r\nL 303.829121 103.500622 \r\nL 305.792758 102.935471 \r\nL 307.756394 100.538123 \r\nL 309.72003 97.733055 \r\nL 311.683667 94.574095 \r\nL 313.647303 92.549765 \r\nL 315.610939 87.293711 \r\nL 317.574576 84.355535 \r\nL 319.538212 79.851253 \r\nL 321.501849 77.190811 \r\nL 323.465485 73.014958 \r\nL 325.429121 71.349584 \r\nL 327.392758 67.12575 \r\nL 329.356394 61.12123 \r\nL 331.32003 55.56157 \r\nL 333.283667 54.163241 \r\nL 335.247303 50.89009 \r\nL 337.210939 49.284374 \r\nL 341.138212 40.213951 \r\nL 343.101849 37.874227 \r\nL 345.065485 31.411773 \r\nL 347.029121 31.183132 \r\nL 347.029121 31.183132 \r\n\" style=\"fill:none;stroke:#000000;stroke-linecap:square;stroke-width:2;\"/>\r\n   </g>\r\n   <g id=\"line2d_19\">\r\n    <path clip-path=\"url(#p63dc4b3fec)\" d=\"M 42.665485 223.890556 \r\nL 44.629121 223.213516 \r\nL 46.592758 222.805486 \r\nL 50.52003 220.46421 \r\nL 52.483667 219.094778 \r\nL 54.447303 218.043323 \r\nL 56.410939 217.350526 \r\nL 58.374576 216.796792 \r\nL 60.338212 216.699117 \r\nL 62.301849 216.284375 \r\nL 64.265485 215.11901 \r\nL 68.192758 213.070967 \r\nL 70.156394 212.926421 \r\nL 74.083667 212.045824 \r\nL 76.047303 210.888545 \r\nL 78.010939 209.499325 \r\nL 81.938212 207.699651 \r\nL 83.901849 205.9265 \r\nL 85.865485 204.844126 \r\nL 87.829121 204.359277 \r\nL 89.792758 203.208913 \r\nL 93.72003 201.691584 \r\nL 95.683667 200.805891 \r\nL 97.647303 200.275562 \r\nL 99.610939 199.612253 \r\nL 101.574576 199.088657 \r\nL 107.465485 196.440628 \r\nL 113.356394 193.499353 \r\nL 115.32003 192.972748 \r\nL 119.247303 190.841194 \r\nL 123.174576 188.459633 \r\nL 125.138212 187.629943 \r\nL 127.101849 186.968235 \r\nL 129.065485 186.508328 \r\nL 131.029121 185.840248 \r\nL 132.992758 184.913588 \r\nL 134.956394 184.182764 \r\nL 140.847303 181.267083 \r\nL 142.810939 180.563786 \r\nL 144.774576 179.570016 \r\nL 146.738212 178.766358 \r\nL 148.701849 178.649288 \r\nL 152.629121 179.084921 \r\nL 156.556394 178.807864 \r\nL 158.52003 178.347908 \r\nL 162.447303 176.86251 \r\nL 164.410939 175.920034 \r\nL 168.338212 173.400801 \r\nL 170.301849 172.634632 \r\nL 172.265485 172.283151 \r\nL 174.229121 171.229071 \r\nL 180.12003 168.775319 \r\nL 182.083667 168.428185 \r\nL 184.047303 168.225711 \r\nL 189.938212 166.532043 \r\nL 191.901849 165.862065 \r\nL 195.829121 164.955043 \r\nL 197.792758 164.71288 \r\nL 199.756394 164.158979 \r\nL 201.72003 163.315223 \r\nL 205.647303 162.293541 \r\nL 213.501849 161.022623 \r\nL 215.465485 160.569075 \r\nL 217.429121 159.994737 \r\nL 223.32003 157.851657 \r\nL 225.283667 157.423565 \r\nL 227.247303 156.619597 \r\nL 229.210939 155.441367 \r\nL 231.174576 154.623074 \r\nL 233.138212 153.634877 \r\nL 237.065485 152.072037 \r\nL 239.029121 151.502262 \r\nL 242.956394 149.806348 \r\nL 246.883667 148.069151 \r\nL 250.810939 146.137687 \r\nL 252.774576 145.670703 \r\nL 254.738212 145.017916 \r\nL 256.701849 143.627484 \r\nL 260.629121 141.427519 \r\nL 262.592758 139.844315 \r\nL 264.556394 138.990206 \r\nL 268.483667 138.246173 \r\nL 270.447303 137.196209 \r\nL 272.410939 135.098423 \r\nL 276.338212 131.97931 \r\nL 278.301849 130.727295 \r\nL 280.265485 130.16354 \r\nL 282.229121 128.840327 \r\nL 284.192758 128.282151 \r\nL 286.156394 127.146158 \r\nL 288.12003 125.69508 \r\nL 290.083667 124.486797 \r\nL 292.047303 121.387647 \r\nL 294.010939 119.243553 \r\nL 295.974576 116.280013 \r\nL 297.938212 112.20456 \r\nL 301.865485 106.078775 \r\nL 305.792758 100.581935 \r\nL 307.756394 98.756271 \r\nL 309.72003 96.212077 \r\nL 311.683667 93.384135 \r\nL 313.647303 90.324581 \r\nL 315.610939 87.590348 \r\nL 317.574576 83.815214 \r\nL 329.356394 63.507816 \r\nL 333.283667 53.409046 \r\nL 339.174576 43.405645 \r\nL 341.138212 39.590058 \r\nL 343.101849 34.93665 \r\nL 345.065485 31.616756 \r\nL 347.029121 26.413135 \r\nL 347.029121 26.413135 \r\n\" style=\"fill:none;stroke:#003dfd;stroke-linecap:square;stroke-width:2;\"/>\r\n   </g>\r\n   <g id=\"legend_1\">\r\n    <g id=\"line2d_20\">\r\n     <path d=\"M 36.447303 29.627936 \r\nL 56.447303 29.627936 \r\n\" style=\"fill:none;stroke:#000000;stroke-linecap:square;stroke-width:2;\"/>\r\n    </g>\r\n    <g id=\"line2d_21\"/>\r\n    <g id=\"text_14\">\r\n     <!-- actual -->\r\n     <g transform=\"translate(64.447303 33.127936)scale(0.1 -0.1)\">\r\n      <defs>\r\n       <path d=\"M 2194 1759 \r\nQ 1497 1759 1228 1600 \r\nQ 959 1441 959 1056 \r\nQ 959 750 1161 570 \r\nQ 1363 391 1709 391 \r\nQ 2188 391 2477 730 \r\nQ 2766 1069 2766 1631 \r\nL 2766 1759 \r\nL 2194 1759 \r\nz\r\nM 3341 1997 \r\nL 3341 0 \r\nL 2766 0 \r\nL 2766 531 \r\nQ 2569 213 2275 61 \r\nQ 1981 -91 1556 -91 \r\nQ 1019 -91 701 211 \r\nQ 384 513 384 1019 \r\nQ 384 1609 779 1909 \r\nQ 1175 2209 1959 2209 \r\nL 2766 2209 \r\nL 2766 2266 \r\nQ 2766 2663 2505 2880 \r\nQ 2244 3097 1772 3097 \r\nQ 1472 3097 1187 3025 \r\nQ 903 2953 641 2809 \r\nL 641 3341 \r\nQ 956 3463 1253 3523 \r\nQ 1550 3584 1831 3584 \r\nQ 2591 3584 2966 3190 \r\nQ 3341 2797 3341 1997 \r\nz\r\n\" id=\"DejaVuSans-61\" transform=\"scale(0.015625)\"/>\r\n       <path d=\"M 3122 3366 \r\nL 3122 2828 \r\nQ 2878 2963 2633 3030 \r\nQ 2388 3097 2138 3097 \r\nQ 1578 3097 1268 2742 \r\nQ 959 2388 959 1747 \r\nQ 959 1106 1268 751 \r\nQ 1578 397 2138 397 \r\nQ 2388 397 2633 464 \r\nQ 2878 531 3122 666 \r\nL 3122 134 \r\nQ 2881 22 2623 -34 \r\nQ 2366 -91 2075 -91 \r\nQ 1284 -91 818 406 \r\nQ 353 903 353 1747 \r\nQ 353 2603 823 3093 \r\nQ 1294 3584 2113 3584 \r\nQ 2378 3584 2631 3529 \r\nQ 2884 3475 3122 3366 \r\nz\r\n\" id=\"DejaVuSans-63\" transform=\"scale(0.015625)\"/>\r\n       <path d=\"M 1172 4494 \r\nL 1172 3500 \r\nL 2356 3500 \r\nL 2356 3053 \r\nL 1172 3053 \r\nL 1172 1153 \r\nQ 1172 725 1289 603 \r\nQ 1406 481 1766 481 \r\nL 2356 481 \r\nL 2356 0 \r\nL 1766 0 \r\nQ 1100 0 847 248 \r\nQ 594 497 594 1153 \r\nL 594 3053 \r\nL 172 3053 \r\nL 172 3500 \r\nL 594 3500 \r\nL 594 4494 \r\nL 1172 4494 \r\nz\r\n\" id=\"DejaVuSans-74\" transform=\"scale(0.015625)\"/>\r\n       <path d=\"M 544 1381 \r\nL 544 3500 \r\nL 1119 3500 \r\nL 1119 1403 \r\nQ 1119 906 1312 657 \r\nQ 1506 409 1894 409 \r\nQ 2359 409 2629 706 \r\nQ 2900 1003 2900 1516 \r\nL 2900 3500 \r\nL 3475 3500 \r\nL 3475 0 \r\nL 2900 0 \r\nL 2900 538 \r\nQ 2691 219 2414 64 \r\nQ 2138 -91 1772 -91 \r\nQ 1169 -91 856 284 \r\nQ 544 659 544 1381 \r\nz\r\nM 1991 3584 \r\nL 1991 3584 \r\nz\r\n\" id=\"DejaVuSans-75\" transform=\"scale(0.015625)\"/>\r\n       <path d=\"M 603 4863 \r\nL 1178 4863 \r\nL 1178 0 \r\nL 603 0 \r\nL 603 4863 \r\nz\r\n\" id=\"DejaVuSans-6c\" transform=\"scale(0.015625)\"/>\r\n      </defs>\r\n      <use xlink:href=\"#DejaVuSans-61\"/>\r\n      <use x=\"61.279297\" xlink:href=\"#DejaVuSans-63\"/>\r\n      <use x=\"116.259766\" xlink:href=\"#DejaVuSans-74\"/>\r\n      <use x=\"155.46875\" xlink:href=\"#DejaVuSans-75\"/>\r\n      <use x=\"218.847656\" xlink:href=\"#DejaVuSans-61\"/>\r\n      <use x=\"280.126953\" xlink:href=\"#DejaVuSans-6c\"/>\r\n     </g>\r\n    </g>\r\n    <g id=\"line2d_22\">\r\n     <path d=\"M 36.447303 44.306061 \r\nL 56.447303 44.306061 \r\n\" style=\"fill:none;stroke:#003dfd;stroke-linecap:square;stroke-width:2;\"/>\r\n    </g>\r\n    <g id=\"line2d_23\"/>\r\n    <g id=\"text_15\">\r\n     <!-- predict -->\r\n     <g transform=\"translate(64.447303 47.806061)scale(0.1 -0.1)\">\r\n      <defs>\r\n       <path d=\"M 1159 525 \r\nL 1159 -1331 \r\nL 581 -1331 \r\nL 581 3500 \r\nL 1159 3500 \r\nL 1159 2969 \r\nQ 1341 3281 1617 3432 \r\nQ 1894 3584 2278 3584 \r\nQ 2916 3584 3314 3078 \r\nQ 3713 2572 3713 1747 \r\nQ 3713 922 3314 415 \r\nQ 2916 -91 2278 -91 \r\nQ 1894 -91 1617 61 \r\nQ 1341 213 1159 525 \r\nz\r\nM 3116 1747 \r\nQ 3116 2381 2855 2742 \r\nQ 2594 3103 2138 3103 \r\nQ 1681 3103 1420 2742 \r\nQ 1159 2381 1159 1747 \r\nQ 1159 1113 1420 752 \r\nQ 1681 391 2138 391 \r\nQ 2594 391 2855 752 \r\nQ 3116 1113 3116 1747 \r\nz\r\n\" id=\"DejaVuSans-70\" transform=\"scale(0.015625)\"/>\r\n       <path d=\"M 2631 2963 \r\nQ 2534 3019 2420 3045 \r\nQ 2306 3072 2169 3072 \r\nQ 1681 3072 1420 2755 \r\nQ 1159 2438 1159 1844 \r\nL 1159 0 \r\nL 581 0 \r\nL 581 3500 \r\nL 1159 3500 \r\nL 1159 2956 \r\nQ 1341 3275 1631 3429 \r\nQ 1922 3584 2338 3584 \r\nQ 2397 3584 2469 3576 \r\nQ 2541 3569 2628 3553 \r\nL 2631 2963 \r\nz\r\n\" id=\"DejaVuSans-72\" transform=\"scale(0.015625)\"/>\r\n       <path d=\"M 2906 2969 \r\nL 2906 4863 \r\nL 3481 4863 \r\nL 3481 0 \r\nL 2906 0 \r\nL 2906 525 \r\nQ 2725 213 2448 61 \r\nQ 2172 -91 1784 -91 \r\nQ 1150 -91 751 415 \r\nQ 353 922 353 1747 \r\nQ 353 2572 751 3078 \r\nQ 1150 3584 1784 3584 \r\nQ 2172 3584 2448 3432 \r\nQ 2725 3281 2906 2969 \r\nz\r\nM 947 1747 \r\nQ 947 1113 1208 752 \r\nQ 1469 391 1925 391 \r\nQ 2381 391 2643 752 \r\nQ 2906 1113 2906 1747 \r\nQ 2906 2381 2643 2742 \r\nQ 2381 3103 1925 3103 \r\nQ 1469 3103 1208 2742 \r\nQ 947 2381 947 1747 \r\nz\r\n\" id=\"DejaVuSans-64\" transform=\"scale(0.015625)\"/>\r\n       <path d=\"M 603 3500 \r\nL 1178 3500 \r\nL 1178 0 \r\nL 603 0 \r\nL 603 3500 \r\nz\r\nM 603 4863 \r\nL 1178 4863 \r\nL 1178 4134 \r\nL 603 4134 \r\nL 603 4863 \r\nz\r\n\" id=\"DejaVuSans-69\" transform=\"scale(0.015625)\"/>\r\n      </defs>\r\n      <use xlink:href=\"#DejaVuSans-70\"/>\r\n      <use x=\"63.476562\" xlink:href=\"#DejaVuSans-72\"/>\r\n      <use x=\"102.339844\" xlink:href=\"#DejaVuSans-65\"/>\r\n      <use x=\"163.863281\" xlink:href=\"#DejaVuSans-64\"/>\r\n      <use x=\"227.339844\" xlink:href=\"#DejaVuSans-69\"/>\r\n      <use x=\"255.123047\" xlink:href=\"#DejaVuSans-63\"/>\r\n      <use x=\"310.103516\" xlink:href=\"#DejaVuSans-74\"/>\r\n     </g>\r\n    </g>\r\n   </g>\r\n  </g>\r\n </g>\r\n <defs>\r\n  <clipPath id=\"p63dc4b3fec\">\r\n   <rect height=\"217.44\" width=\"334.8\" x=\"27.447303\" y=\"16.529498\"/>\r\n  </clipPath>\r\n </defs>\r\n</svg>\r\n",
      "image/png": "[encoded data removed]"
     },
     "metadata": {
      "needs_background": "light"
     }
    }
   ],
   "metadata": {}
  },
  {
   "cell_type": "markdown",
   "source": [
    "## **Future Prediction**"
   ],
   "metadata": {}
  },
  {
   "cell_type": "code",
   "execution_count": 412,
   "source": [
    "prediction = model.predict(100)\r\n",
    "prediction = prediction.pd_dataframe()"
   ],
   "outputs": [],
   "metadata": {}
  },
  {
   "cell_type": "code",
   "execution_count": 413,
   "source": [
    "series = series.pd_dataframe()"
   ],
   "outputs": [],
   "metadata": {}
  },
  {
   "cell_type": "code",
   "execution_count": 424,
   "source": [
    "min_case = date(2021, 8, 23) - date(2021, 11, 6)\r\n",
    "min_case = abs(min_case.days)\r\n",
    "dates = list(pd.date_range(start=\"2021-08-23\", periods=min_case))"
   ],
   "outputs": [],
   "metadata": {}
  },
  {
   "cell_type": "code",
   "execution_count": 415,
   "source": [
    "prediction = prediction.reset_index()\r\n",
    "series = series.reset_index()\r\n",
    "\r\n",
    "for i, col in enumerate(variable):\r\n",
    "    prediction = prediction.rename(columns={'{}'.format(i) : col})\r\n",
    "    series = series.rename(columns={'{}'.format(i): col})"
   ],
   "outputs": [],
   "metadata": {}
  },
  {
   "cell_type": "code",
   "execution_count": 427,
   "source": [
    "line_stat = []\r\n",
    "\r\n",
    "for x in range(0,1):\r\n",
    "    line_stat.append(go.Scatter(x=df_timeseries.tanggal, y=series[variable[x]], name=variable[x], mode='lines'))\r\n",
    "    line_stat.append(go.Scatter(x=dates, y=prediction[variable[x]], name=f'Forecast {variable[x]}', mode='lines'))\r\n",
    "\r\n",
    "fig = go.Figure(data=line_stat)\r\n",
    "fig.update_layout(title_text=f\"Indonesia Vaccination Within {min_case} Days Periods\")\r\n",
    "fig.show()"
   ],
   "outputs": [
    {
     "output_type": "display_data",
     "data": {
      "application/vnd.plotly.v1+json": {
       "config": {
        "plotlyServerURL": "https://plot.ly"
       },
       "data": [
        {
         "mode": "lines",
         "name": "Dosis kedua",
         "type": "scatter",
         "x": [
          "2021-01-27T00:00:00",
          "2021-01-28T00:00:00",
          "2021-01-29T00:00:00",
          "2021-01-30T00:00:00",
          "2021-01-31T00:00:00",
          "2021-02-01T00:00:00",
          "2021-02-02T00:00:00",
          "2021-02-03T00:00:00",
          "2021-02-04T00:00:00",
          "2021-02-05T00:00:00",
          "2021-02-06T00:00:00",
          "2021-02-07T00:00:00",
          "2021-02-08T00:00:00",
          "2021-02-09T00:00:00",
          "2021-02-10T00:00:00",
          "2021-02-11T00:00:00",
          "2021-02-12T00:00:00",
          "2021-02-13T00:00:00",
          "2021-02-14T00:00:00",
          "2021-02-15T00:00:00",
          "2021-02-16T00:00:00",
          "2021-02-17T00:00:00",
          "2021-02-18T00:00:00",
          "2021-02-19T00:00:00",
          "2021-02-20T00:00:00",
          "2021-02-21T00:00:00",
          "2021-02-22T00:00:00",
          "2021-02-23T00:00:00",
          "2021-02-24T00:00:00",
          "2021-02-25T00:00:00",
          "2021-02-26T00:00:00",
          "2021-02-27T00:00:00",
          "2021-02-28T00:00:00",
          "2021-03-01T00:00:00",
          "2021-03-02T00:00:00",
          "2021-03-03T00:00:00",
          "2021-03-04T00:00:00",
          "2021-03-05T00:00:00",
          "2021-03-06T00:00:00",
          "2021-03-07T00:00:00",
          "2021-03-08T00:00:00",
          "2021-03-09T00:00:00",
          "2021-03-10T00:00:00",
          "2021-03-11T00:00:00",
          "2021-03-12T00:00:00",
          "2021-03-13T00:00:00",
          "2021-03-14T00:00:00",
          "2021-03-15T00:00:00",
          "2021-03-16T00:00:00",
          "2021-03-17T00:00:00",
          "2021-03-18T00:00:00",
          "2021-03-19T00:00:00",
          "2021-03-20T00:00:00",
          "2021-03-21T00:00:00",
          "2021-03-22T00:00:00",
          "2021-03-23T00:00:00",
          "2021-03-24T00:00:00",
          "2021-03-25T00:00:00",
          "2021-03-26T00:00:00",
          "2021-03-27T00:00:00",
          "2021-03-28T00:00:00",
          "2021-03-29T00:00:00",
          "2021-03-30T00:00:00",
          "2021-03-31T00:00:00",
          "2021-04-01T00:00:00",
          "2021-04-02T00:00:00",
          "2021-04-03T00:00:00",
          "2021-04-04T00:00:00",
          "2021-04-05T00:00:00",
          "2021-04-06T00:00:00",
          "2021-04-07T00:00:00",
          "2021-04-08T00:00:00",
          "2021-04-09T00:00:00",
          "2021-04-10T00:00:00",
          "2021-04-11T00:00:00",
          "2021-04-12T00:00:00",
          "2021-04-13T00:00:00",
          "2021-04-14T00:00:00",
          "2021-04-15T00:00:00",
          "2021-04-16T00:00:00",
          "2021-04-17T00:00:00",
          "2021-04-18T00:00:00",
          "2021-04-19T00:00:00",
          "2021-04-20T00:00:00",
          "2021-04-21T00:00:00",
          "2021-04-22T00:00:00",
          "2021-04-23T00:00:00",
          "2021-04-24T00:00:00",
          "2021-04-25T00:00:00",
          "2021-04-26T00:00:00",
          "2021-04-27T00:00:00",
          "2021-04-28T00:00:00",
          "2021-04-29T00:00:00",
          "2021-04-30T00:00:00",
          "2021-05-01T00:00:00",
          "2021-05-02T00:00:00",
          "2021-05-03T00:00:00",
          "2021-05-04T00:00:00",
          "2021-05-05T00:00:00",
          "2021-05-06T00:00:00",
          "2021-05-07T00:00:00",
          "2021-05-08T00:00:00",
          "2021-05-09T00:00:00",
          "2021-05-10T00:00:00",
          "2021-05-11T00:00:00",
          "2021-05-12T00:00:00",
          "2021-05-13T00:00:00",
          "2021-05-14T00:00:00",
          "2021-05-15T00:00:00",
          "2021-05-16T00:00:00",
          "2021-05-17T00:00:00",
          "2021-05-18T00:00:00",
          "2021-05-19T00:00:00",
          "2021-05-20T00:00:00",
          "2021-05-21T00:00:00",
          "2021-05-22T00:00:00",
          "2021-05-23T00:00:00",
          "2021-05-24T00:00:00",
          "2021-05-25T00:00:00",
          "2021-05-26T00:00:00",
          "2021-05-27T00:00:00",
          "2021-05-28T00:00:00",
          "2021-05-29T00:00:00",
          "2021-05-30T00:00:00",
          "2021-05-31T00:00:00",
          "2021-06-01T00:00:00",
          "2021-06-02T00:00:00",
          "2021-06-03T00:00:00",
          "2021-06-04T00:00:00",
          "2021-06-05T00:00:00",
          "2021-06-06T00:00:00",
          "2021-06-07T00:00:00",
          "2021-06-08T00:00:00",
          "2021-06-09T00:00:00",
          "2021-06-10T00:00:00",
          "2021-06-11T00:00:00",
          "2021-06-12T00:00:00",
          "2021-06-13T00:00:00",
          "2021-06-14T00:00:00",
          "2021-06-15T00:00:00",
          "2021-06-16T00:00:00",
          "2021-06-17T00:00:00",
          "2021-06-18T00:00:00",
          "2021-06-19T00:00:00",
          "2021-06-20T00:00:00",
          "2021-06-21T00:00:00",
          "2021-06-22T00:00:00",
          "2021-06-23T00:00:00",
          "2021-06-24T00:00:00",
          "2021-06-25T00:00:00",
          "2021-06-26T00:00:00",
          "2021-06-27T00:00:00",
          "2021-06-28T00:00:00",
          "2021-06-29T00:00:00",
          "2021-06-30T00:00:00",
          "2021-07-01T00:00:00",
          "2021-07-02T00:00:00",
          "2021-07-03T00:00:00",
          "2021-07-04T00:00:00",
          "2021-07-05T00:00:00",
          "2021-07-06T00:00:00",
          "2021-07-07T00:00:00",
          "2021-07-08T00:00:00",
          "2021-07-09T00:00:00",
          "2021-07-10T00:00:00",
          "2021-07-11T00:00:00",
          "2021-07-12T00:00:00",
          "2021-07-13T00:00:00",
          "2021-07-14T00:00:00",
          "2021-07-15T00:00:00",
          "2021-07-16T00:00:00",
          "2021-07-17T00:00:00",
          "2021-07-18T00:00:00",
          "2021-07-19T00:00:00",
          "2021-07-20T00:00:00",
          "2021-07-21T00:00:00",
          "2021-07-22T00:00:00",
          "2021-07-23T00:00:00",
          "2021-07-24T00:00:00",
          "2021-07-25T00:00:00",
          "2021-07-26T00:00:00",
          "2021-07-27T00:00:00",
          "2021-07-28T00:00:00",
          "2021-07-29T00:00:00",
          "2021-07-30T00:00:00",
          "2021-07-31T00:00:00",
          "2021-08-01T00:00:00",
          "2021-08-02T00:00:00",
          "2021-08-03T00:00:00",
          "2021-08-04T00:00:00",
          "2021-08-05T00:00:00",
          "2021-08-06T00:00:00",
          "2021-08-07T00:00:00",
          "2021-08-08T00:00:00",
          "2021-08-09T00:00:00",
          "2021-08-10T00:00:00",
          "2021-08-11T00:00:00",
          "2021-08-12T00:00:00",
          "2021-08-13T00:00:00",
          "2021-08-14T00:00:00",
          "2021-08-15T00:00:00",
          "2021-08-16T00:00:00",
          "2021-08-17T00:00:00",
          "2021-08-18T00:00:00",
          "2021-08-19T00:00:00",
          "2021-08-20T00:00:00",
          "2021-08-21T00:00:00",
          "2021-08-22T00:00:00"
         ],
         "y": [
          66,
          5468,
          11287,
          20810,
          22548,
          35406,
          51999,
          71621,
          96553,
          120725,
          137207,
          139131,
          171270,
          221453,
          279251,
          345605,
          380545,
          415486,
          425578,
          482625,
          537147,
          597328,
          623832,
          668914,
          732634,
          736710,
          764905,
          789966,
          825650,
          853745,
          865870,
          982370,
          998439,
          1002218,
          1047288,
          1076409,
          1100228,
          1114537,
          1130524,
          1133787,
          1158432,
          1197772,
          1262878,
          1295615,
          1339362,
          1454836,
          1460222,
          1572786,
          1716749,
          1876140,
          1948531,
          2221200,
          2301978,
          2312601,
          2494422,
          2709545,
          2941016,
          3015190,
          3152612,
          3235027,
          3246809,
          3330639,
          3561192,
          3717081,
          3854451,
          3867762,
          3954343,
          4014803,
          4230800,
          4431504,
          4554695,
          4697396,
          4952219,
          5079048,
          5101921,
          5322501,
          5433715,
          5572859,
          5715813,
          5821888,
          5890790,
          5911343,
          6052612,
          6158748,
          6341931,
          6488197,
          6699327,
          6798241,
          6829415,
          7023351,
          7214534,
          7411095,
          7583443,
          7646284,
          7678485,
          7703110,
          7850407,
          8002236,
          8166067,
          8339055,
          8486054,
          8612158,
          8643830,
          8804961,
          8888529,
          8918784,
          8919949,
          8921978,
          8960076,
          8975937,
          9093965,
          9276187,
          9428223,
          9580546,
          9746522,
          9853451,
          9881024,
          9906629,
          10125480,
          10236019,
          10428151,
          10521440,
          10571387,
          10584489,
          10697852,
          10721078,
          10877109,
          11003152,
          11070389,
          11124356,
          11127764,
          11231321,
          11398871,
          11455920,
          11503947,
          11534345,
          11567459,
          11568443,
          11637090,
          11699021,
          11859890,
          12022624,
          12139826,
          12232701,
          12242103,
          12398428,
          12583389,
          12672597,
          12838745,
          12956968,
          13069678,
          13115761,
          13257752,
          13369395,
          13528655,
          13677230,
          13830517,
          13970538,
          13979564,
          14095900,
          14357113,
          14516938,
          14659369,
          14949729,
          14983549,
          15016402,
          15038548,
          15254221,
          15685534,
          15876777,
          16098999,
          16217855,
          16283343,
          16444462,
          16453805,
          16713406,
          17012830,
          17253709,
          17798139,
          17933565,
          18367098,
          18857251,
          19354329,
          19867271,
          20302847,
          20621294,
          20707102,
          21071096,
          21496995,
          21976626,
          22283984,
          23082021,
          23528130,
          24212024,
          24615964,
          25249992,
          25502849,
          26144162,
          27055840,
          27899974,
          28112285,
          28609254,
          28853053,
          29527386,
          30230233,
          30585478,
          31566685,
          31601400
         ]
        },
        {
         "mode": "lines",
         "name": "Forecast Dosis kedua",
         "type": "scatter",
         "x": [
          "2021-08-23T00:00:00",
          "2021-08-24T00:00:00",
          "2021-08-25T00:00:00",
          "2021-08-26T00:00:00",
          "2021-08-27T00:00:00",
          "2021-08-28T00:00:00",
          "2021-08-29T00:00:00",
          "2021-08-30T00:00:00",
          "2021-08-31T00:00:00",
          "2021-09-01T00:00:00",
          "2021-09-02T00:00:00",
          "2021-09-03T00:00:00",
          "2021-09-04T00:00:00",
          "2021-09-05T00:00:00",
          "2021-09-06T00:00:00",
          "2021-09-07T00:00:00",
          "2021-09-08T00:00:00",
          "2021-09-09T00:00:00",
          "2021-09-10T00:00:00",
          "2021-09-11T00:00:00",
          "2021-09-12T00:00:00",
          "2021-09-13T00:00:00",
          "2021-09-14T00:00:00",
          "2021-09-15T00:00:00",
          "2021-09-16T00:00:00",
          "2021-09-17T00:00:00",
          "2021-09-18T00:00:00",
          "2021-09-19T00:00:00",
          "2021-09-20T00:00:00",
          "2021-09-21T00:00:00",
          "2021-09-22T00:00:00",
          "2021-09-23T00:00:00",
          "2021-09-24T00:00:00",
          "2021-09-25T00:00:00",
          "2021-09-26T00:00:00",
          "2021-09-27T00:00:00",
          "2021-09-28T00:00:00",
          "2021-09-29T00:00:00",
          "2021-09-30T00:00:00",
          "2021-10-01T00:00:00",
          "2021-10-02T00:00:00",
          "2021-10-03T00:00:00",
          "2021-10-04T00:00:00",
          "2021-10-05T00:00:00",
          "2021-10-06T00:00:00",
          "2021-10-07T00:00:00",
          "2021-10-08T00:00:00",
          "2021-10-09T00:00:00",
          "2021-10-10T00:00:00",
          "2021-10-11T00:00:00",
          "2021-10-12T00:00:00",
          "2021-10-13T00:00:00",
          "2021-10-14T00:00:00",
          "2021-10-15T00:00:00",
          "2021-10-16T00:00:00",
          "2021-10-17T00:00:00",
          "2021-10-18T00:00:00",
          "2021-10-19T00:00:00",
          "2021-10-20T00:00:00",
          "2021-10-21T00:00:00",
          "2021-10-22T00:00:00",
          "2021-10-23T00:00:00",
          "2021-10-24T00:00:00",
          "2021-10-25T00:00:00",
          "2021-10-26T00:00:00",
          "2021-10-27T00:00:00",
          "2021-10-28T00:00:00",
          "2021-10-29T00:00:00",
          "2021-10-30T00:00:00",
          "2021-10-31T00:00:00",
          "2021-11-01T00:00:00",
          "2021-11-02T00:00:00",
          "2021-11-03T00:00:00",
          "2021-11-04T00:00:00",
          "2021-11-05T00:00:00"
         ],
         "y": [
          32753922,
          33112816,
          33760876,
          34161860,
          34799768,
          35989164,
          36544892,
          37508636,
          38082168,
          38733296,
          39193576,
          39985788,
          41306408,
          41991632,
          43059224,
          43725132,
          44497268,
          44957932,
          45889892,
          47408360,
          48171332,
          49418036,
          50165112,
          51058728,
          51582924,
          52644716,
          54397448,
          55270564,
          56702436,
          57558676,
          58582224,
          59185932,
          60403188,
          62414252,
          63418120,
          65059528,
          66043524,
          67216792,
          67909296,
          69306608,
          71613392,
          72765720,
          74648928,
          75777960,
          77124232,
          77918544,
          79521872,
          82168704,
          83490792,
          85651672,
          86946984,
          88491768,
          89403096,
          91242712,
          94279720,
          95796672,
          98276056,
          99762256,
          101534744,
          102580384,
          104691136,
          108175800,
          109916312,
          112761112,
          114466416,
          116500120,
          117699904,
          120121776,
          124120040,
          126117096,
          129381200,
          131337856,
          133671312,
          135047920,
          137826800,
          142414336,
          144705728,
          148450928,
          150696016,
          153373360,
          154952912,
          158141328,
          163405088,
          166034144,
          170331408,
          172907328,
          175979376,
          177791712,
          181450080,
          187489632,
          190506304,
          195436912,
          198392560,
          203570448,
          206535312,
          210622976,
          213088192,
          217542992,
          224768288,
          227938736
         ]
        }
       ],
       "layout": {
        "template": {
         "data": {
          "bar": [
           {
            "error_x": {
             "color": "#2a3f5f"
            },
            "error_y": {
             "color": "#2a3f5f"
            },
            "marker": {
             "line": {
              "color": "#E5ECF6",
              "width": 0.5
             },
             "pattern": {
              "fillmode": "overlay",
              "size": 10,
              "solidity": 0.2
             }
            },
            "type": "bar"
           }
          ],
          "barpolar": [
           {
            "marker": {
             "line": {
              "color": "#E5ECF6",
              "width": 0.5
             },
             "pattern": {
              "fillmode": "overlay",
              "size": 10,
              "solidity": 0.2
             }
            },
            "type": "barpolar"
           }
          ],
          "carpet": [
           {
            "aaxis": {
             "endlinecolor": "#2a3f5f",
             "gridcolor": "white",
             "linecolor": "white",
             "minorgridcolor": "white",
             "startlinecolor": "#2a3f5f"
            },
            "baxis": {
             "endlinecolor": "#2a3f5f",
             "gridcolor": "white",
             "linecolor": "white",
             "minorgridcolor": "white",
             "startlinecolor": "#2a3f5f"
            },
            "type": "carpet"
           }
          ],
          "choropleth": [
           {
            "colorbar": {
             "outlinewidth": 0,
             "ticks": ""
            },
            "type": "choropleth"
           }
          ],
          "contour": [
           {
            "colorbar": {
             "outlinewidth": 0,
             "ticks": ""
            },
            "colorscale": [
             [
              0,
              "#0d0887"
             ],
             [
              0.1111111111111111,
              "#46039f"
             ],
             [
              0.2222222222222222,
              "#7201a8"
             ],
             [
              0.3333333333333333,
              "#9c179e"
             ],
             [
              0.4444444444444444,
              "#bd3786"
             ],
             [
              0.5555555555555556,
              "#d8576b"
             ],
             [
              0.6666666666666666,
              "#ed7953"
             ],
             [
              0.7777777777777778,
              "#fb9f3a"
             ],
             [
              0.8888888888888888,
              "#fdca26"
             ],
             [
              1,
              "#f0f921"
             ]
            ],
            "type": "contour"
           }
          ],
          "contourcarpet": [
           {
            "colorbar": {
             "outlinewidth": 0,
             "ticks": ""
            },
            "type": "contourcarpet"
           }
          ],
          "heatmap": [
           {
            "colorbar": {
             "outlinewidth": 0,
             "ticks": ""
            },
            "colorscale": [
             [
              0,
              "#0d0887"
             ],
             [
              0.1111111111111111,
              "#46039f"
             ],
             [
              0.2222222222222222,
              "#7201a8"
             ],
             [
              0.3333333333333333,
              "#9c179e"
             ],
             [
              0.4444444444444444,
              "#bd3786"
             ],
             [
              0.5555555555555556,
              "#d8576b"
             ],
             [
              0.6666666666666666,
              "#ed7953"
             ],
             [
              0.7777777777777778,
              "#fb9f3a"
             ],
             [
              0.8888888888888888,
              "#fdca26"
             ],
             [
              1,
              "#f0f921"
             ]
            ],
            "type": "heatmap"
           }
          ],
          "heatmapgl": [
           {
            "colorbar": {
             "outlinewidth": 0,
             "ticks": ""
            },
            "colorscale": [
             [
              0,
              "#0d0887"
             ],
             [
              0.1111111111111111,
              "#46039f"
             ],
             [
              0.2222222222222222,
              "#7201a8"
             ],
             [
              0.3333333333333333,
              "#9c179e"
             ],
             [
              0.4444444444444444,
              "#bd3786"
             ],
             [
              0.5555555555555556,
              "#d8576b"
             ],
             [
              0.6666666666666666,
              "#ed7953"
             ],
             [
              0.7777777777777778,
              "#fb9f3a"
             ],
             [
              0.8888888888888888,
              "#fdca26"
             ],
             [
              1,
              "#f0f921"
             ]
            ],
            "type": "heatmapgl"
           }
          ],
          "histogram": [
           {
            "marker": {
             "pattern": {
              "fillmode": "overlay",
              "size": 10,
              "solidity": 0.2
             }
            },
            "type": "histogram"
           }
          ],
          "histogram2d": [
           {
            "colorbar": {
             "outlinewidth": 0,
             "ticks": ""
            },
            "colorscale": [
             [
              0,
              "#0d0887"
             ],
             [
              0.1111111111111111,
              "#46039f"
             ],
             [
              0.2222222222222222,
              "#7201a8"
             ],
             [
              0.3333333333333333,
              "#9c179e"
             ],
             [
              0.4444444444444444,
              "#bd3786"
             ],
             [
              0.5555555555555556,
              "#d8576b"
             ],
             [
              0.6666666666666666,
              "#ed7953"
             ],
             [
              0.7777777777777778,
              "#fb9f3a"
             ],
             [
              0.8888888888888888,
              "#fdca26"
             ],
             [
              1,
              "#f0f921"
             ]
            ],
            "type": "histogram2d"
           }
          ],
          "histogram2dcontour": [
           {
            "colorbar": {
             "outlinewidth": 0,
             "ticks": ""
            },
            "colorscale": [
             [
              0,
              "#0d0887"
             ],
             [
              0.1111111111111111,
              "#46039f"
             ],
             [
              0.2222222222222222,
              "#7201a8"
             ],
             [
              0.3333333333333333,
              "#9c179e"
             ],
             [
              0.4444444444444444,
              "#bd3786"
             ],
             [
              0.5555555555555556,
              "#d8576b"
             ],
             [
              0.6666666666666666,
              "#ed7953"
             ],
             [
              0.7777777777777778,
              "#fb9f3a"
             ],
             [
              0.8888888888888888,
              "#fdca26"
             ],
             [
              1,
              "#f0f921"
             ]
            ],
            "type": "histogram2dcontour"
           }
          ],
          "mesh3d": [
           {
            "colorbar": {
             "outlinewidth": 0,
             "ticks": ""
            },
            "type": "mesh3d"
           }
          ],
          "parcoords": [
           {
            "line": {
             "colorbar": {
              "outlinewidth": 0,
              "ticks": ""
             }
            },
            "type": "parcoords"
           }
          ],
          "pie": [
           {
            "automargin": true,
            "type": "pie"
           }
          ],
          "scatter": [
           {
            "marker": {
             "colorbar": {
              "outlinewidth": 0,
              "ticks": ""
             }
            },
            "type": "scatter"
           }
          ],
          "scatter3d": [
           {
            "line": {
             "colorbar": {
              "outlinewidth": 0,
              "ticks": ""
             }
            },
            "marker": {
             "colorbar": {
              "outlinewidth": 0,
              "ticks": ""
             }
            },
            "type": "scatter3d"
           }
          ],
          "scattercarpet": [
           {
            "marker": {
             "colorbar": {
              "outlinewidth": 0,
              "ticks": ""
             }
            },
            "type": "scattercarpet"
           }
          ],
          "scattergeo": [
           {
            "marker": {
             "colorbar": {
              "outlinewidth": 0,
              "ticks": ""
             }
            },
            "type": "scattergeo"
           }
          ],
          "scattergl": [
           {
            "marker": {
             "colorbar": {
              "outlinewidth": 0,
              "ticks": ""
             }
            },
            "type": "scattergl"
           }
          ],
          "scattermapbox": [
           {
            "marker": {
             "colorbar": {
              "outlinewidth": 0,
              "ticks": ""
             }
            },
            "type": "scattermapbox"
           }
          ],
          "scatterpolar": [
           {
            "marker": {
             "colorbar": {
              "outlinewidth": 0,
              "ticks": ""
             }
            },
            "type": "scatterpolar"
           }
          ],
          "scatterpolargl": [
           {
            "marker": {
             "colorbar": {
              "outlinewidth": 0,
              "ticks": ""
             }
            },
            "type": "scatterpolargl"
           }
          ],
          "scatterternary": [
           {
            "marker": {
             "colorbar": {
              "outlinewidth": 0,
              "ticks": ""
             }
            },
            "type": "scatterternary"
           }
          ],
          "surface": [
           {
            "colorbar": {
             "outlinewidth": 0,
             "ticks": ""
            },
            "colorscale": [
             [
              0,
              "#0d0887"
             ],
             [
              0.1111111111111111,
              "#46039f"
             ],
             [
              0.2222222222222222,
              "#7201a8"
             ],
             [
              0.3333333333333333,
              "#9c179e"
             ],
             [
              0.4444444444444444,
              "#bd3786"
             ],
             [
              0.5555555555555556,
              "#d8576b"
             ],
             [
              0.6666666666666666,
              "#ed7953"
             ],
             [
              0.7777777777777778,
              "#fb9f3a"
             ],
             [
              0.8888888888888888,
              "#fdca26"
             ],
             [
              1,
              "#f0f921"
             ]
            ],
            "type": "surface"
           }
          ],
          "table": [
           {
            "cells": {
             "fill": {
              "color": "#EBF0F8"
             },
             "line": {
              "color": "white"
             }
            },
            "header": {
             "fill": {
              "color": "#C8D4E3"
             },
             "line": {
              "color": "white"
             }
            },
            "type": "table"
           }
          ]
         },
         "layout": {
          "annotationdefaults": {
           "arrowcolor": "#2a3f5f",
           "arrowhead": 0,
           "arrowwidth": 1
          },
          "autotypenumbers": "strict",
          "coloraxis": {
           "colorbar": {
            "outlinewidth": 0,
            "ticks": ""
           }
          },
          "colorscale": {
           "diverging": [
            [
             0,
             "#8e0152"
            ],
            [
             0.1,
             "#c51b7d"
            ],
            [
             0.2,
             "#de77ae"
            ],
            [
             0.3,
             "#f1b6da"
            ],
            [
             0.4,
             "#fde0ef"
            ],
            [
             0.5,
             "#f7f7f7"
            ],
            [
             0.6,
             "#e6f5d0"
            ],
            [
             0.7,
             "#b8e186"
            ],
            [
             0.8,
             "#7fbc41"
            ],
            [
             0.9,
             "#4d9221"
            ],
            [
             1,
             "#276419"
            ]
           ],
           "sequential": [
            [
             0,
             "#0d0887"
            ],
            [
             0.1111111111111111,
             "#46039f"
            ],
            [
             0.2222222222222222,
             "#7201a8"
            ],
            [
             0.3333333333333333,
             "#9c179e"
            ],
            [
             0.4444444444444444,
             "#bd3786"
            ],
            [
             0.5555555555555556,
             "#d8576b"
            ],
            [
             0.6666666666666666,
             "#ed7953"
            ],
            [
             0.7777777777777778,
             "#fb9f3a"
            ],
            [
             0.8888888888888888,
             "#fdca26"
            ],
            [
             1,
             "#f0f921"
            ]
           ],
           "sequentialminus": [
            [
             0,
             "#0d0887"
            ],
            [
             0.1111111111111111,
             "#46039f"
            ],
            [
             0.2222222222222222,
             "#7201a8"
            ],
            [
             0.3333333333333333,
             "#9c179e"
            ],
            [
             0.4444444444444444,
             "#bd3786"
            ],
            [
             0.5555555555555556,
             "#d8576b"
            ],
            [
             0.6666666666666666,
             "#ed7953"
            ],
            [
             0.7777777777777778,
             "#fb9f3a"
            ],
            [
             0.8888888888888888,
             "#fdca26"
            ],
            [
             1,
             "#f0f921"
            ]
           ]
          },
          "colorway": [
           "#636efa",
           "#EF553B",
           "#00cc96",
           "#ab63fa",
           "#FFA15A",
           "#19d3f3",
           "#FF6692",
           "#B6E880",
           "#FF97FF",
           "#FECB52"
          ],
          "font": {
           "color": "#2a3f5f"
          },
          "geo": {
           "bgcolor": "white",
           "lakecolor": "white",
           "landcolor": "#E5ECF6",
           "showlakes": true,
           "showland": true,
           "subunitcolor": "white"
          },
          "hoverlabel": {
           "align": "left"
          },
          "hovermode": "closest",
          "mapbox": {
           "style": "light"
          },
          "paper_bgcolor": "white",
          "plot_bgcolor": "#E5ECF6",
          "polar": {
           "angularaxis": {
            "gridcolor": "white",
            "linecolor": "white",
            "ticks": ""
           },
           "bgcolor": "#E5ECF6",
           "radialaxis": {
            "gridcolor": "white",
            "linecolor": "white",
            "ticks": ""
           }
          },
          "scene": {
           "xaxis": {
            "backgroundcolor": "#E5ECF6",
            "gridcolor": "white",
            "gridwidth": 2,
            "linecolor": "white",
            "showbackground": true,
            "ticks": "",
            "zerolinecolor": "white"
           },
           "yaxis": {
            "backgroundcolor": "#E5ECF6",
            "gridcolor": "white",
            "gridwidth": 2,
            "linecolor": "white",
            "showbackground": true,
            "ticks": "",
            "zerolinecolor": "white"
           },
           "zaxis": {
            "backgroundcolor": "#E5ECF6",
            "gridcolor": "white",
            "gridwidth": 2,
            "linecolor": "white",
            "showbackground": true,
            "ticks": "",
            "zerolinecolor": "white"
           }
          },
          "shapedefaults": {
           "line": {
            "color": "#2a3f5f"
           }
          },
          "ternary": {
           "aaxis": {
            "gridcolor": "white",
            "linecolor": "white",
            "ticks": ""
           },
           "baxis": {
            "gridcolor": "white",
            "linecolor": "white",
            "ticks": ""
           },
           "bgcolor": "#E5ECF6",
           "caxis": {
            "gridcolor": "white",
            "linecolor": "white",
            "ticks": ""
           }
          },
          "title": {
           "x": 0.05
          },
          "xaxis": {
           "automargin": true,
           "gridcolor": "white",
           "linecolor": "white",
           "ticks": "",
           "title": {
            "standoff": 15
           },
           "zerolinecolor": "white",
           "zerolinewidth": 2
          },
          "yaxis": {
           "automargin": true,
           "gridcolor": "white",
           "linecolor": "white",
           "ticks": "",
           "title": {
            "standoff": 15
           },
           "zerolinecolor": "white",
           "zerolinewidth": 2
          }
         }
        },
        "title": {
         "text": "Indonesia Vaccination Within 75 Days Periods"
        }
       }
      }
     },
     "metadata": {}
    }
   ],
   "metadata": {
    "id": "KwMh1Bzx9fzD"
   }
  },
  {
   "cell_type": "code",
   "execution_count": 430,
   "source": [
    "import matplotlib.pyplot as plt\r\n",
    "\r\n",
    "prediction = model.predict(min_case)\r\n",
    "plt.figure(figsize=(12, 6))\r\n",
    "\r\n",
    "train['Dosis kedua'].plot(label='Indonesia Second Dose')\r\n",
    "prediction['0'].plot(label='Forecast Second Dose')"
   ],
   "outputs": [
    {
     "output_type": "display_data",
     "data": {
      "text/plain": [
       "<Figure size 864x432 with 1 Axes>"
      ],
      "image/svg+xml": "<?xml version=\"1.0\" encoding=\"utf-8\" standalone=\"no\"?>\r\n<!DOCTYPE svg PUBLIC \"-//W3C//DTD SVG 1.1//EN\"\r\n  \"http://www.w3.org/Graphics/SVG/1.1/DTD/svg11.dtd\">\r\n<svg height=\"394.951956pt\" version=\"1.1\" viewBox=\"0 0 704.247303 394.951956\" width=\"704.247303pt\" xmlns=\"http://www.w3.org/2000/svg\" xmlns:xlink=\"http://www.w3.org/1999/xlink\">\r\n <metadata>\r\n  <rdf:RDF xmlns:cc=\"http://creativecommons.org/ns#\" xmlns:dc=\"http://purl.org/dc/elements/1.1/\" xmlns:rdf=\"http://www.w3.org/1999/02/22-rdf-syntax-ns#\">\r\n   <cc:Work>\r\n    <dc:type rdf:resource=\"http://purl.org/dc/dcmitype/StillImage\"/>\r\n    <dc:date>2021-08-24T00:06:39.824407</dc:date>\r\n    <dc:format>image/svg+xml</dc:format>\r\n    <dc:creator>\r\n     <cc:Agent>\r\n      <dc:title>Matplotlib v3.4.3, https://matplotlib.org/</dc:title>\r\n     </cc:Agent>\r\n    </dc:creator>\r\n   </cc:Work>\r\n  </rdf:RDF>\r\n </metadata>\r\n <defs>\r\n  <style type=\"text/css\">*{stroke-linecap:butt;stroke-linejoin:round;}</style>\r\n </defs>\r\n <g id=\"figure_1\">\r\n  <g id=\"patch_1\">\r\n   <path d=\"M 0 394.951956 \r\nL 704.247303 394.951956 \r\nL 704.247303 0 \r\nL 0 0 \r\nz\r\n\" style=\"fill:none;\"/>\r\n  </g>\r\n  <g id=\"axes_1\">\r\n   <g id=\"patch_2\">\r\n    <path d=\"M 27.447303 342.689498 \r\nL 697.047303 342.689498 \r\nL 697.047303 16.529498 \r\nL 27.447303 16.529498 \r\nz\r\n\" style=\"fill:#ffffff;\"/>\r\n   </g>\r\n   <g id=\"matplotlib.axis_1\">\r\n    <g id=\"xtick_1\">\r\n     <g id=\"line2d_1\">\r\n      <path clip-path=\"url(#p4cc5b0b3e8)\" d=\"M 68.676704 342.689498 \r\nL 68.676704 16.529498 \r\n\" style=\"fill:none;stroke:#dedede;stroke-linecap:square;stroke-width:0.8;\"/>\r\n     </g>\r\n     <g id=\"text_1\">\r\n      <!-- 2021-02 -->\r\n      <g style=\"fill:#333333;\" transform=\"translate(37.668428 372.573546)rotate(-30)scale(0.0833 -0.0833)\">\r\n       <defs>\r\n        <path d=\"M 1228 531 \r\nL 3431 531 \r\nL 3431 0 \r\nL 469 0 \r\nL 469 531 \r\nQ 828 903 1448 1529 \r\nQ 2069 2156 2228 2338 \r\nQ 2531 2678 2651 2914 \r\nQ 2772 3150 2772 3378 \r\nQ 2772 3750 2511 3984 \r\nQ 2250 4219 1831 4219 \r\nQ 1534 4219 1204 4116 \r\nQ 875 4013 500 3803 \r\nL 500 4441 \r\nQ 881 4594 1212 4672 \r\nQ 1544 4750 1819 4750 \r\nQ 2544 4750 2975 4387 \r\nQ 3406 4025 3406 3419 \r\nQ 3406 3131 3298 2873 \r\nQ 3191 2616 2906 2266 \r\nQ 2828 2175 2409 1742 \r\nQ 1991 1309 1228 531 \r\nz\r\n\" id=\"DejaVuSans-32\" transform=\"scale(0.015625)\"/>\r\n        <path d=\"M 2034 4250 \r\nQ 1547 4250 1301 3770 \r\nQ 1056 3291 1056 2328 \r\nQ 1056 1369 1301 889 \r\nQ 1547 409 2034 409 \r\nQ 2525 409 2770 889 \r\nQ 3016 1369 3016 2328 \r\nQ 3016 3291 2770 3770 \r\nQ 2525 4250 2034 4250 \r\nz\r\nM 2034 4750 \r\nQ 2819 4750 3233 4129 \r\nQ 3647 3509 3647 2328 \r\nQ 3647 1150 3233 529 \r\nQ 2819 -91 2034 -91 \r\nQ 1250 -91 836 529 \r\nQ 422 1150 422 2328 \r\nQ 422 3509 836 4129 \r\nQ 1250 4750 2034 4750 \r\nz\r\n\" id=\"DejaVuSans-30\" transform=\"scale(0.015625)\"/>\r\n        <path d=\"M 794 531 \r\nL 1825 531 \r\nL 1825 4091 \r\nL 703 3866 \r\nL 703 4441 \r\nL 1819 4666 \r\nL 2450 4666 \r\nL 2450 531 \r\nL 3481 531 \r\nL 3481 0 \r\nL 794 0 \r\nL 794 531 \r\nz\r\n\" id=\"DejaVuSans-31\" transform=\"scale(0.015625)\"/>\r\n        <path d=\"M 313 2009 \r\nL 1997 2009 \r\nL 1997 1497 \r\nL 313 1497 \r\nL 313 2009 \r\nz\r\n\" id=\"DejaVuSans-2d\" transform=\"scale(0.015625)\"/>\r\n       </defs>\r\n       <use xlink:href=\"#DejaVuSans-32\"/>\r\n       <use x=\"63.623047\" xlink:href=\"#DejaVuSans-30\"/>\r\n       <use x=\"127.246094\" xlink:href=\"#DejaVuSans-32\"/>\r\n       <use x=\"190.869141\" xlink:href=\"#DejaVuSans-31\"/>\r\n       <use x=\"254.492188\" xlink:href=\"#DejaVuSans-2d\"/>\r\n       <use x=\"290.576172\" xlink:href=\"#DejaVuSans-30\"/>\r\n       <use x=\"354.199219\" xlink:href=\"#DejaVuSans-32\"/>\r\n      </g>\r\n     </g>\r\n    </g>\r\n    <g id=\"xtick_2\">\r\n     <g id=\"line2d_2\">\r\n      <path clip-path=\"url(#p4cc5b0b3e8)\" d=\"M 129.117709 342.689498 \r\nL 129.117709 16.529498 \r\n\" style=\"fill:none;stroke:#dedede;stroke-linecap:square;stroke-width:0.8;\"/>\r\n     </g>\r\n     <g id=\"text_2\">\r\n      <!-- 2021-03 -->\r\n      <g style=\"fill:#333333;\" transform=\"translate(98.109434 372.573546)rotate(-30)scale(0.0833 -0.0833)\">\r\n       <defs>\r\n        <path d=\"M 2597 2516 \r\nQ 3050 2419 3304 2112 \r\nQ 3559 1806 3559 1356 \r\nQ 3559 666 3084 287 \r\nQ 2609 -91 1734 -91 \r\nQ 1441 -91 1130 -33 \r\nQ 819 25 488 141 \r\nL 488 750 \r\nQ 750 597 1062 519 \r\nQ 1375 441 1716 441 \r\nQ 2309 441 2620 675 \r\nQ 2931 909 2931 1356 \r\nQ 2931 1769 2642 2001 \r\nQ 2353 2234 1838 2234 \r\nL 1294 2234 \r\nL 1294 2753 \r\nL 1863 2753 \r\nQ 2328 2753 2575 2939 \r\nQ 2822 3125 2822 3475 \r\nQ 2822 3834 2567 4026 \r\nQ 2313 4219 1838 4219 \r\nQ 1578 4219 1281 4162 \r\nQ 984 4106 628 3988 \r\nL 628 4550 \r\nQ 988 4650 1302 4700 \r\nQ 1616 4750 1894 4750 \r\nQ 2613 4750 3031 4423 \r\nQ 3450 4097 3450 3541 \r\nQ 3450 3153 3228 2886 \r\nQ 3006 2619 2597 2516 \r\nz\r\n\" id=\"DejaVuSans-33\" transform=\"scale(0.015625)\"/>\r\n       </defs>\r\n       <use xlink:href=\"#DejaVuSans-32\"/>\r\n       <use x=\"63.623047\" xlink:href=\"#DejaVuSans-30\"/>\r\n       <use x=\"127.246094\" xlink:href=\"#DejaVuSans-32\"/>\r\n       <use x=\"190.869141\" xlink:href=\"#DejaVuSans-31\"/>\r\n       <use x=\"254.492188\" xlink:href=\"#DejaVuSans-2d\"/>\r\n       <use x=\"290.576172\" xlink:href=\"#DejaVuSans-30\"/>\r\n       <use x=\"354.199219\" xlink:href=\"#DejaVuSans-33\"/>\r\n      </g>\r\n     </g>\r\n    </g>\r\n    <g id=\"xtick_3\">\r\n     <g id=\"line2d_3\">\r\n      <path clip-path=\"url(#p4cc5b0b3e8)\" d=\"M 196.034537 342.689498 \r\nL 196.034537 16.529498 \r\n\" style=\"fill:none;stroke:#dedede;stroke-linecap:square;stroke-width:0.8;\"/>\r\n     </g>\r\n     <g id=\"text_3\">\r\n      <!-- 2021-04 -->\r\n      <g style=\"fill:#333333;\" transform=\"translate(165.026261 372.573546)rotate(-30)scale(0.0833 -0.0833)\">\r\n       <defs>\r\n        <path d=\"M 2419 4116 \r\nL 825 1625 \r\nL 2419 1625 \r\nL 2419 4116 \r\nz\r\nM 2253 4666 \r\nL 3047 4666 \r\nL 3047 1625 \r\nL 3713 1625 \r\nL 3713 1100 \r\nL 3047 1100 \r\nL 3047 0 \r\nL 2419 0 \r\nL 2419 1100 \r\nL 313 1100 \r\nL 313 1709 \r\nL 2253 4666 \r\nz\r\n\" id=\"DejaVuSans-34\" transform=\"scale(0.015625)\"/>\r\n       </defs>\r\n       <use xlink:href=\"#DejaVuSans-32\"/>\r\n       <use x=\"63.623047\" xlink:href=\"#DejaVuSans-30\"/>\r\n       <use x=\"127.246094\" xlink:href=\"#DejaVuSans-32\"/>\r\n       <use x=\"190.869141\" xlink:href=\"#DejaVuSans-31\"/>\r\n       <use x=\"254.492188\" xlink:href=\"#DejaVuSans-2d\"/>\r\n       <use x=\"290.576172\" xlink:href=\"#DejaVuSans-30\"/>\r\n       <use x=\"354.199219\" xlink:href=\"#DejaVuSans-34\"/>\r\n      </g>\r\n     </g>\r\n    </g>\r\n    <g id=\"xtick_4\">\r\n     <g id=\"line2d_4\">\r\n      <path clip-path=\"url(#p4cc5b0b3e8)\" d=\"M 260.792758 342.689498 \r\nL 260.792758 16.529498 \r\n\" style=\"fill:none;stroke:#dedede;stroke-linecap:square;stroke-width:0.8;\"/>\r\n     </g>\r\n     <g id=\"text_4\">\r\n      <!-- 2021-05 -->\r\n      <g style=\"fill:#333333;\" transform=\"translate(229.784482 372.573546)rotate(-30)scale(0.0833 -0.0833)\">\r\n       <defs>\r\n        <path d=\"M 691 4666 \r\nL 3169 4666 \r\nL 3169 4134 \r\nL 1269 4134 \r\nL 1269 2991 \r\nQ 1406 3038 1543 3061 \r\nQ 1681 3084 1819 3084 \r\nQ 2600 3084 3056 2656 \r\nQ 3513 2228 3513 1497 \r\nQ 3513 744 3044 326 \r\nQ 2575 -91 1722 -91 \r\nQ 1428 -91 1123 -41 \r\nQ 819 9 494 109 \r\nL 494 744 \r\nQ 775 591 1075 516 \r\nQ 1375 441 1709 441 \r\nQ 2250 441 2565 725 \r\nQ 2881 1009 2881 1497 \r\nQ 2881 1984 2565 2268 \r\nQ 2250 2553 1709 2553 \r\nQ 1456 2553 1204 2497 \r\nQ 953 2441 691 2322 \r\nL 691 4666 \r\nz\r\n\" id=\"DejaVuSans-35\" transform=\"scale(0.015625)\"/>\r\n       </defs>\r\n       <use xlink:href=\"#DejaVuSans-32\"/>\r\n       <use x=\"63.623047\" xlink:href=\"#DejaVuSans-30\"/>\r\n       <use x=\"127.246094\" xlink:href=\"#DejaVuSans-32\"/>\r\n       <use x=\"190.869141\" xlink:href=\"#DejaVuSans-31\"/>\r\n       <use x=\"254.492188\" xlink:href=\"#DejaVuSans-2d\"/>\r\n       <use x=\"290.576172\" xlink:href=\"#DejaVuSans-30\"/>\r\n       <use x=\"354.199219\" xlink:href=\"#DejaVuSans-35\"/>\r\n      </g>\r\n     </g>\r\n    </g>\r\n    <g id=\"xtick_5\">\r\n     <g id=\"line2d_5\">\r\n      <path clip-path=\"url(#p4cc5b0b3e8)\" d=\"M 327.709586 342.689498 \r\nL 327.709586 16.529498 \r\n\" style=\"fill:none;stroke:#dedede;stroke-linecap:square;stroke-width:0.8;\"/>\r\n     </g>\r\n     <g id=\"text_5\">\r\n      <!-- 2021-06 -->\r\n      <g style=\"fill:#333333;\" transform=\"translate(296.70131 372.573546)rotate(-30)scale(0.0833 -0.0833)\">\r\n       <defs>\r\n        <path d=\"M 2113 2584 \r\nQ 1688 2584 1439 2293 \r\nQ 1191 2003 1191 1497 \r\nQ 1191 994 1439 701 \r\nQ 1688 409 2113 409 \r\nQ 2538 409 2786 701 \r\nQ 3034 994 3034 1497 \r\nQ 3034 2003 2786 2293 \r\nQ 2538 2584 2113 2584 \r\nz\r\nM 3366 4563 \r\nL 3366 3988 \r\nQ 3128 4100 2886 4159 \r\nQ 2644 4219 2406 4219 \r\nQ 1781 4219 1451 3797 \r\nQ 1122 3375 1075 2522 \r\nQ 1259 2794 1537 2939 \r\nQ 1816 3084 2150 3084 \r\nQ 2853 3084 3261 2657 \r\nQ 3669 2231 3669 1497 \r\nQ 3669 778 3244 343 \r\nQ 2819 -91 2113 -91 \r\nQ 1303 -91 875 529 \r\nQ 447 1150 447 2328 \r\nQ 447 3434 972 4092 \r\nQ 1497 4750 2381 4750 \r\nQ 2619 4750 2861 4703 \r\nQ 3103 4656 3366 4563 \r\nz\r\n\" id=\"DejaVuSans-36\" transform=\"scale(0.015625)\"/>\r\n       </defs>\r\n       <use xlink:href=\"#DejaVuSans-32\"/>\r\n       <use x=\"63.623047\" xlink:href=\"#DejaVuSans-30\"/>\r\n       <use x=\"127.246094\" xlink:href=\"#DejaVuSans-32\"/>\r\n       <use x=\"190.869141\" xlink:href=\"#DejaVuSans-31\"/>\r\n       <use x=\"254.492188\" xlink:href=\"#DejaVuSans-2d\"/>\r\n       <use x=\"290.576172\" xlink:href=\"#DejaVuSans-30\"/>\r\n       <use x=\"354.199219\" xlink:href=\"#DejaVuSans-36\"/>\r\n      </g>\r\n     </g>\r\n    </g>\r\n    <g id=\"xtick_6\">\r\n     <g id=\"line2d_6\">\r\n      <path clip-path=\"url(#p4cc5b0b3e8)\" d=\"M 392.467806 342.689498 \r\nL 392.467806 16.529498 \r\n\" style=\"fill:none;stroke:#dedede;stroke-linecap:square;stroke-width:0.8;\"/>\r\n     </g>\r\n     <g id=\"text_6\">\r\n      <!-- 2021-07 -->\r\n      <g style=\"fill:#333333;\" transform=\"translate(361.45953 372.573546)rotate(-30)scale(0.0833 -0.0833)\">\r\n       <defs>\r\n        <path d=\"M 525 4666 \r\nL 3525 4666 \r\nL 3525 4397 \r\nL 1831 0 \r\nL 1172 0 \r\nL 2766 4134 \r\nL 525 4134 \r\nL 525 4666 \r\nz\r\n\" id=\"DejaVuSans-37\" transform=\"scale(0.015625)\"/>\r\n       </defs>\r\n       <use xlink:href=\"#DejaVuSans-32\"/>\r\n       <use x=\"63.623047\" xlink:href=\"#DejaVuSans-30\"/>\r\n       <use x=\"127.246094\" xlink:href=\"#DejaVuSans-32\"/>\r\n       <use x=\"190.869141\" xlink:href=\"#DejaVuSans-31\"/>\r\n       <use x=\"254.492188\" xlink:href=\"#DejaVuSans-2d\"/>\r\n       <use x=\"290.576172\" xlink:href=\"#DejaVuSans-30\"/>\r\n       <use x=\"354.199219\" xlink:href=\"#DejaVuSans-37\"/>\r\n      </g>\r\n     </g>\r\n    </g>\r\n    <g id=\"xtick_7\">\r\n     <g id=\"line2d_7\">\r\n      <path clip-path=\"url(#p4cc5b0b3e8)\" d=\"M 459.384634 342.689498 \r\nL 459.384634 16.529498 \r\n\" style=\"fill:none;stroke:#dedede;stroke-linecap:square;stroke-width:0.8;\"/>\r\n     </g>\r\n     <g id=\"text_7\">\r\n      <!-- 2021-08 -->\r\n      <g style=\"fill:#333333;\" transform=\"translate(428.376358 372.573546)rotate(-30)scale(0.0833 -0.0833)\">\r\n       <defs>\r\n        <path d=\"M 2034 2216 \r\nQ 1584 2216 1326 1975 \r\nQ 1069 1734 1069 1313 \r\nQ 1069 891 1326 650 \r\nQ 1584 409 2034 409 \r\nQ 2484 409 2743 651 \r\nQ 3003 894 3003 1313 \r\nQ 3003 1734 2745 1975 \r\nQ 2488 2216 2034 2216 \r\nz\r\nM 1403 2484 \r\nQ 997 2584 770 2862 \r\nQ 544 3141 544 3541 \r\nQ 544 4100 942 4425 \r\nQ 1341 4750 2034 4750 \r\nQ 2731 4750 3128 4425 \r\nQ 3525 4100 3525 3541 \r\nQ 3525 3141 3298 2862 \r\nQ 3072 2584 2669 2484 \r\nQ 3125 2378 3379 2068 \r\nQ 3634 1759 3634 1313 \r\nQ 3634 634 3220 271 \r\nQ 2806 -91 2034 -91 \r\nQ 1263 -91 848 271 \r\nQ 434 634 434 1313 \r\nQ 434 1759 690 2068 \r\nQ 947 2378 1403 2484 \r\nz\r\nM 1172 3481 \r\nQ 1172 3119 1398 2916 \r\nQ 1625 2713 2034 2713 \r\nQ 2441 2713 2670 2916 \r\nQ 2900 3119 2900 3481 \r\nQ 2900 3844 2670 4047 \r\nQ 2441 4250 2034 4250 \r\nQ 1625 4250 1398 4047 \r\nQ 1172 3844 1172 3481 \r\nz\r\n\" id=\"DejaVuSans-38\" transform=\"scale(0.015625)\"/>\r\n       </defs>\r\n       <use xlink:href=\"#DejaVuSans-32\"/>\r\n       <use x=\"63.623047\" xlink:href=\"#DejaVuSans-30\"/>\r\n       <use x=\"127.246094\" xlink:href=\"#DejaVuSans-32\"/>\r\n       <use x=\"190.869141\" xlink:href=\"#DejaVuSans-31\"/>\r\n       <use x=\"254.492188\" xlink:href=\"#DejaVuSans-2d\"/>\r\n       <use x=\"290.576172\" xlink:href=\"#DejaVuSans-30\"/>\r\n       <use x=\"354.199219\" xlink:href=\"#DejaVuSans-38\"/>\r\n      </g>\r\n     </g>\r\n    </g>\r\n    <g id=\"xtick_8\">\r\n     <g id=\"line2d_8\">\r\n      <path clip-path=\"url(#p4cc5b0b3e8)\" d=\"M 526.301462 342.689498 \r\nL 526.301462 16.529498 \r\n\" style=\"fill:none;stroke:#dedede;stroke-linecap:square;stroke-width:0.8;\"/>\r\n     </g>\r\n     <g id=\"text_8\">\r\n      <!-- 2021-09 -->\r\n      <g style=\"fill:#333333;\" transform=\"translate(495.293186 372.573546)rotate(-30)scale(0.0833 -0.0833)\">\r\n       <defs>\r\n        <path d=\"M 703 97 \r\nL 703 672 \r\nQ 941 559 1184 500 \r\nQ 1428 441 1663 441 \r\nQ 2288 441 2617 861 \r\nQ 2947 1281 2994 2138 \r\nQ 2813 1869 2534 1725 \r\nQ 2256 1581 1919 1581 \r\nQ 1219 1581 811 2004 \r\nQ 403 2428 403 3163 \r\nQ 403 3881 828 4315 \r\nQ 1253 4750 1959 4750 \r\nQ 2769 4750 3195 4129 \r\nQ 3622 3509 3622 2328 \r\nQ 3622 1225 3098 567 \r\nQ 2575 -91 1691 -91 \r\nQ 1453 -91 1209 -44 \r\nQ 966 3 703 97 \r\nz\r\nM 1959 2075 \r\nQ 2384 2075 2632 2365 \r\nQ 2881 2656 2881 3163 \r\nQ 2881 3666 2632 3958 \r\nQ 2384 4250 1959 4250 \r\nQ 1534 4250 1286 3958 \r\nQ 1038 3666 1038 3163 \r\nQ 1038 2656 1286 2365 \r\nQ 1534 2075 1959 2075 \r\nz\r\n\" id=\"DejaVuSans-39\" transform=\"scale(0.015625)\"/>\r\n       </defs>\r\n       <use xlink:href=\"#DejaVuSans-32\"/>\r\n       <use x=\"63.623047\" xlink:href=\"#DejaVuSans-30\"/>\r\n       <use x=\"127.246094\" xlink:href=\"#DejaVuSans-32\"/>\r\n       <use x=\"190.869141\" xlink:href=\"#DejaVuSans-31\"/>\r\n       <use x=\"254.492188\" xlink:href=\"#DejaVuSans-2d\"/>\r\n       <use x=\"290.576172\" xlink:href=\"#DejaVuSans-30\"/>\r\n       <use x=\"354.199219\" xlink:href=\"#DejaVuSans-39\"/>\r\n      </g>\r\n     </g>\r\n    </g>\r\n    <g id=\"xtick_9\">\r\n     <g id=\"line2d_9\">\r\n      <path clip-path=\"url(#p4cc5b0b3e8)\" d=\"M 591.059682 342.689498 \r\nL 591.059682 16.529498 \r\n\" style=\"fill:none;stroke:#dedede;stroke-linecap:square;stroke-width:0.8;\"/>\r\n     </g>\r\n     <g id=\"text_9\">\r\n      <!-- 2021-10 -->\r\n      <g style=\"fill:#333333;\" transform=\"translate(560.051406 372.573546)rotate(-30)scale(0.0833 -0.0833)\">\r\n       <use xlink:href=\"#DejaVuSans-32\"/>\r\n       <use x=\"63.623047\" xlink:href=\"#DejaVuSans-30\"/>\r\n       <use x=\"127.246094\" xlink:href=\"#DejaVuSans-32\"/>\r\n       <use x=\"190.869141\" xlink:href=\"#DejaVuSans-31\"/>\r\n       <use x=\"254.492188\" xlink:href=\"#DejaVuSans-2d\"/>\r\n       <use x=\"290.576172\" xlink:href=\"#DejaVuSans-31\"/>\r\n       <use x=\"354.199219\" xlink:href=\"#DejaVuSans-30\"/>\r\n      </g>\r\n     </g>\r\n    </g>\r\n    <g id=\"xtick_10\">\r\n     <g id=\"line2d_10\">\r\n      <path clip-path=\"url(#p4cc5b0b3e8)\" d=\"M 657.97651 342.689498 \r\nL 657.97651 16.529498 \r\n\" style=\"fill:none;stroke:#dedede;stroke-linecap:square;stroke-width:0.8;\"/>\r\n     </g>\r\n     <g id=\"text_10\">\r\n      <!-- 2021-11 -->\r\n      <g style=\"fill:#333333;\" transform=\"translate(626.968234 372.573546)rotate(-30)scale(0.0833 -0.0833)\">\r\n       <use xlink:href=\"#DejaVuSans-32\"/>\r\n       <use x=\"63.623047\" xlink:href=\"#DejaVuSans-30\"/>\r\n       <use x=\"127.246094\" xlink:href=\"#DejaVuSans-32\"/>\r\n       <use x=\"190.869141\" xlink:href=\"#DejaVuSans-31\"/>\r\n       <use x=\"254.492188\" xlink:href=\"#DejaVuSans-2d\"/>\r\n       <use x=\"290.576172\" xlink:href=\"#DejaVuSans-31\"/>\r\n       <use x=\"354.199219\" xlink:href=\"#DejaVuSans-31\"/>\r\n      </g>\r\n     </g>\r\n    </g>\r\n    <g id=\"text_11\">\r\n     <!-- time -->\r\n     <g style=\"fill:#333333;\" transform=\"translate(349.541834 385.672269)scale(0.1 -0.1)\">\r\n      <defs>\r\n       <path d=\"M 1759 4494 \r\nL 1759 3500 \r\nL 2913 3500 \r\nL 2913 2700 \r\nL 1759 2700 \r\nL 1759 1216 \r\nQ 1759 972 1856 886 \r\nQ 1953 800 2241 800 \r\nL 2816 800 \r\nL 2816 0 \r\nL 1856 0 \r\nQ 1194 0 917 276 \r\nQ 641 553 641 1216 \r\nL 641 2700 \r\nL 84 2700 \r\nL 84 3500 \r\nL 641 3500 \r\nL 641 4494 \r\nL 1759 4494 \r\nz\r\n\" id=\"DejaVuSans-Bold-74\" transform=\"scale(0.015625)\"/>\r\n       <path d=\"M 538 3500 \r\nL 1656 3500 \r\nL 1656 0 \r\nL 538 0 \r\nL 538 3500 \r\nz\r\nM 538 4863 \r\nL 1656 4863 \r\nL 1656 3950 \r\nL 538 3950 \r\nL 538 4863 \r\nz\r\n\" id=\"DejaVuSans-Bold-69\" transform=\"scale(0.015625)\"/>\r\n       <path d=\"M 3781 2919 \r\nQ 3994 3244 4286 3414 \r\nQ 4578 3584 4928 3584 \r\nQ 5531 3584 5847 3212 \r\nQ 6163 2841 6163 2131 \r\nL 6163 0 \r\nL 5038 0 \r\nL 5038 1825 \r\nQ 5041 1866 5042 1909 \r\nQ 5044 1953 5044 2034 \r\nQ 5044 2406 4934 2573 \r\nQ 4825 2741 4581 2741 \r\nQ 4263 2741 4089 2478 \r\nQ 3916 2216 3909 1719 \r\nL 3909 0 \r\nL 2784 0 \r\nL 2784 1825 \r\nQ 2784 2406 2684 2573 \r\nQ 2584 2741 2328 2741 \r\nQ 2006 2741 1831 2477 \r\nQ 1656 2213 1656 1722 \r\nL 1656 0 \r\nL 531 0 \r\nL 531 3500 \r\nL 1656 3500 \r\nL 1656 2988 \r\nQ 1863 3284 2130 3434 \r\nQ 2397 3584 2719 3584 \r\nQ 3081 3584 3359 3409 \r\nQ 3638 3234 3781 2919 \r\nz\r\n\" id=\"DejaVuSans-Bold-6d\" transform=\"scale(0.015625)\"/>\r\n       <path d=\"M 4031 1759 \r\nL 4031 1441 \r\nL 1416 1441 \r\nQ 1456 1047 1700 850 \r\nQ 1944 653 2381 653 \r\nQ 2734 653 3104 758 \r\nQ 3475 863 3866 1075 \r\nL 3866 213 \r\nQ 3469 63 3072 -14 \r\nQ 2675 -91 2278 -91 \r\nQ 1328 -91 801 392 \r\nQ 275 875 275 1747 \r\nQ 275 2603 792 3093 \r\nQ 1309 3584 2216 3584 \r\nQ 3041 3584 3536 3087 \r\nQ 4031 2591 4031 1759 \r\nz\r\nM 2881 2131 \r\nQ 2881 2450 2695 2645 \r\nQ 2509 2841 2209 2841 \r\nQ 1884 2841 1681 2658 \r\nQ 1478 2475 1428 2131 \r\nL 2881 2131 \r\nz\r\n\" id=\"DejaVuSans-Bold-65\" transform=\"scale(0.015625)\"/>\r\n      </defs>\r\n      <use xlink:href=\"#DejaVuSans-Bold-74\"/>\r\n      <use x=\"47.802734\" xlink:href=\"#DejaVuSans-Bold-69\"/>\r\n      <use x=\"82.080078\" xlink:href=\"#DejaVuSans-Bold-6d\"/>\r\n      <use x=\"186.279297\" xlink:href=\"#DejaVuSans-Bold-65\"/>\r\n     </g>\r\n    </g>\r\n   </g>\r\n   <g id=\"matplotlib.axis_2\">\r\n    <g id=\"ytick_1\">\r\n     <g id=\"line2d_11\">\r\n      <path clip-path=\"url(#p4cc5b0b3e8)\" d=\"M 27.447303 327.864185 \r\nL 697.047303 327.864185 \r\n\" style=\"fill:none;stroke:#dedede;stroke-linecap:square;stroke-width:0.8;\"/>\r\n     </g>\r\n     <g id=\"line2d_12\">\r\n      <defs>\r\n       <path d=\"M 0 0 \r\nL -3.5 0 \r\n\" id=\"m18ed191b1d\" style=\"stroke:#333333;stroke-width:0.8;\"/>\r\n      </defs>\r\n      <g>\r\n       <use style=\"fill:#333333;stroke:#333333;stroke-width:0.8;\" x=\"27.447303\" xlink:href=\"#m18ed191b1d\" y=\"327.864185\"/>\r\n      </g>\r\n     </g>\r\n     <g id=\"text_12\">\r\n      <!-- 0.0 -->\r\n      <g style=\"fill:#333333;\" transform=\"translate(7.2 331.028935)scale(0.0833 -0.0833)\">\r\n       <defs>\r\n        <path d=\"M 684 794 \r\nL 1344 794 \r\nL 1344 0 \r\nL 684 0 \r\nL 684 794 \r\nz\r\n\" id=\"DejaVuSans-2e\" transform=\"scale(0.015625)\"/>\r\n       </defs>\r\n       <use xlink:href=\"#DejaVuSans-30\"/>\r\n       <use x=\"63.623047\" xlink:href=\"#DejaVuSans-2e\"/>\r\n       <use x=\"95.410156\" xlink:href=\"#DejaVuSans-30\"/>\r\n      </g>\r\n     </g>\r\n    </g>\r\n    <g id=\"ytick_2\">\r\n     <g id=\"line2d_13\">\r\n      <path clip-path=\"url(#p4cc5b0b3e8)\" d=\"M 27.447303 285.003108 \r\nL 697.047303 285.003108 \r\n\" style=\"fill:none;stroke:#dedede;stroke-linecap:square;stroke-width:0.8;\"/>\r\n     </g>\r\n     <g id=\"line2d_14\">\r\n      <g>\r\n       <use style=\"fill:#333333;stroke:#333333;stroke-width:0.8;\" x=\"27.447303\" xlink:href=\"#m18ed191b1d\" y=\"285.003108\"/>\r\n      </g>\r\n     </g>\r\n     <g id=\"text_13\">\r\n      <!-- 0.2 -->\r\n      <g style=\"fill:#333333;\" transform=\"translate(7.2 288.167857)scale(0.0833 -0.0833)\">\r\n       <use xlink:href=\"#DejaVuSans-30\"/>\r\n       <use x=\"63.623047\" xlink:href=\"#DejaVuSans-2e\"/>\r\n       <use x=\"95.410156\" xlink:href=\"#DejaVuSans-32\"/>\r\n      </g>\r\n     </g>\r\n    </g>\r\n    <g id=\"ytick_3\">\r\n     <g id=\"line2d_15\">\r\n      <path clip-path=\"url(#p4cc5b0b3e8)\" d=\"M 27.447303 242.14203 \r\nL 697.047303 242.14203 \r\n\" style=\"fill:none;stroke:#dedede;stroke-linecap:square;stroke-width:0.8;\"/>\r\n     </g>\r\n     <g id=\"line2d_16\">\r\n      <g>\r\n       <use style=\"fill:#333333;stroke:#333333;stroke-width:0.8;\" x=\"27.447303\" xlink:href=\"#m18ed191b1d\" y=\"242.14203\"/>\r\n      </g>\r\n     </g>\r\n     <g id=\"text_14\">\r\n      <!-- 0.4 -->\r\n      <g style=\"fill:#333333;\" transform=\"translate(7.2 245.306779)scale(0.0833 -0.0833)\">\r\n       <use xlink:href=\"#DejaVuSans-30\"/>\r\n       <use x=\"63.623047\" xlink:href=\"#DejaVuSans-2e\"/>\r\n       <use x=\"95.410156\" xlink:href=\"#DejaVuSans-34\"/>\r\n      </g>\r\n     </g>\r\n    </g>\r\n    <g id=\"ytick_4\">\r\n     <g id=\"line2d_17\">\r\n      <path clip-path=\"url(#p4cc5b0b3e8)\" d=\"M 27.447303 199.280952 \r\nL 697.047303 199.280952 \r\n\" style=\"fill:none;stroke:#dedede;stroke-linecap:square;stroke-width:0.8;\"/>\r\n     </g>\r\n     <g id=\"line2d_18\">\r\n      <g>\r\n       <use style=\"fill:#333333;stroke:#333333;stroke-width:0.8;\" x=\"27.447303\" xlink:href=\"#m18ed191b1d\" y=\"199.280952\"/>\r\n      </g>\r\n     </g>\r\n     <g id=\"text_15\">\r\n      <!-- 0.6 -->\r\n      <g style=\"fill:#333333;\" transform=\"translate(7.2 202.445701)scale(0.0833 -0.0833)\">\r\n       <use xlink:href=\"#DejaVuSans-30\"/>\r\n       <use x=\"63.623047\" xlink:href=\"#DejaVuSans-2e\"/>\r\n       <use x=\"95.410156\" xlink:href=\"#DejaVuSans-36\"/>\r\n      </g>\r\n     </g>\r\n    </g>\r\n    <g id=\"ytick_5\">\r\n     <g id=\"line2d_19\">\r\n      <path clip-path=\"url(#p4cc5b0b3e8)\" d=\"M 27.447303 156.419875 \r\nL 697.047303 156.419875 \r\n\" style=\"fill:none;stroke:#dedede;stroke-linecap:square;stroke-width:0.8;\"/>\r\n     </g>\r\n     <g id=\"line2d_20\">\r\n      <g>\r\n       <use style=\"fill:#333333;stroke:#333333;stroke-width:0.8;\" x=\"27.447303\" xlink:href=\"#m18ed191b1d\" y=\"156.419875\"/>\r\n      </g>\r\n     </g>\r\n     <g id=\"text_16\">\r\n      <!-- 0.8 -->\r\n      <g style=\"fill:#333333;\" transform=\"translate(7.2 159.584624)scale(0.0833 -0.0833)\">\r\n       <use xlink:href=\"#DejaVuSans-30\"/>\r\n       <use x=\"63.623047\" xlink:href=\"#DejaVuSans-2e\"/>\r\n       <use x=\"95.410156\" xlink:href=\"#DejaVuSans-38\"/>\r\n      </g>\r\n     </g>\r\n    </g>\r\n    <g id=\"ytick_6\">\r\n     <g id=\"line2d_21\">\r\n      <path clip-path=\"url(#p4cc5b0b3e8)\" d=\"M 27.447303 113.558797 \r\nL 697.047303 113.558797 \r\n\" style=\"fill:none;stroke:#dedede;stroke-linecap:square;stroke-width:0.8;\"/>\r\n     </g>\r\n     <g id=\"line2d_22\">\r\n      <g>\r\n       <use style=\"fill:#333333;stroke:#333333;stroke-width:0.8;\" x=\"27.447303\" xlink:href=\"#m18ed191b1d\" y=\"113.558797\"/>\r\n      </g>\r\n     </g>\r\n     <g id=\"text_17\">\r\n      <!-- 1.0 -->\r\n      <g style=\"fill:#333333;\" transform=\"translate(7.2 116.723546)scale(0.0833 -0.0833)\">\r\n       <use xlink:href=\"#DejaVuSans-31\"/>\r\n       <use x=\"63.623047\" xlink:href=\"#DejaVuSans-2e\"/>\r\n       <use x=\"95.410156\" xlink:href=\"#DejaVuSans-30\"/>\r\n      </g>\r\n     </g>\r\n    </g>\r\n    <g id=\"ytick_7\">\r\n     <g id=\"line2d_23\">\r\n      <path clip-path=\"url(#p4cc5b0b3e8)\" d=\"M 27.447303 70.697719 \r\nL 697.047303 70.697719 \r\n\" style=\"fill:none;stroke:#dedede;stroke-linecap:square;stroke-width:0.8;\"/>\r\n     </g>\r\n     <g id=\"line2d_24\">\r\n      <g>\r\n       <use style=\"fill:#333333;stroke:#333333;stroke-width:0.8;\" x=\"27.447303\" xlink:href=\"#m18ed191b1d\" y=\"70.697719\"/>\r\n      </g>\r\n     </g>\r\n     <g id=\"text_18\">\r\n      <!-- 1.2 -->\r\n      <g style=\"fill:#333333;\" transform=\"translate(7.2 73.862468)scale(0.0833 -0.0833)\">\r\n       <use xlink:href=\"#DejaVuSans-31\"/>\r\n       <use x=\"63.623047\" xlink:href=\"#DejaVuSans-2e\"/>\r\n       <use x=\"95.410156\" xlink:href=\"#DejaVuSans-32\"/>\r\n      </g>\r\n     </g>\r\n    </g>\r\n    <g id=\"ytick_8\">\r\n     <g id=\"line2d_25\">\r\n      <path clip-path=\"url(#p4cc5b0b3e8)\" d=\"M 27.447303 27.836641 \r\nL 697.047303 27.836641 \r\n\" style=\"fill:none;stroke:#dedede;stroke-linecap:square;stroke-width:0.8;\"/>\r\n     </g>\r\n     <g id=\"line2d_26\">\r\n      <g>\r\n       <use style=\"fill:#333333;stroke:#333333;stroke-width:0.8;\" x=\"27.447303\" xlink:href=\"#m18ed191b1d\" y=\"27.836641\"/>\r\n      </g>\r\n     </g>\r\n     <g id=\"text_19\">\r\n      <!-- 1.4 -->\r\n      <g style=\"fill:#333333;\" transform=\"translate(7.2 31.001391)scale(0.0833 -0.0833)\">\r\n       <use xlink:href=\"#DejaVuSans-31\"/>\r\n       <use x=\"63.623047\" xlink:href=\"#DejaVuSans-2e\"/>\r\n       <use x=\"95.410156\" xlink:href=\"#DejaVuSans-34\"/>\r\n      </g>\r\n     </g>\r\n    </g>\r\n    <g id=\"text_20\">\r\n     <!-- 1e8 -->\r\n     <g style=\"fill:#333333;\" transform=\"translate(27.447303 13.529498)scale(0.0833 -0.0833)\">\r\n      <defs>\r\n       <path d=\"M 3597 1894 \r\nL 3597 1613 \r\nL 953 1613 \r\nQ 991 1019 1311 708 \r\nQ 1631 397 2203 397 \r\nQ 2534 397 2845 478 \r\nQ 3156 559 3463 722 \r\nL 3463 178 \r\nQ 3153 47 2828 -22 \r\nQ 2503 -91 2169 -91 \r\nQ 1331 -91 842 396 \r\nQ 353 884 353 1716 \r\nQ 353 2575 817 3079 \r\nQ 1281 3584 2069 3584 \r\nQ 2775 3584 3186 3129 \r\nQ 3597 2675 3597 1894 \r\nz\r\nM 3022 2063 \r\nQ 3016 2534 2758 2815 \r\nQ 2500 3097 2075 3097 \r\nQ 1594 3097 1305 2825 \r\nQ 1016 2553 972 2059 \r\nL 3022 2063 \r\nz\r\n\" id=\"DejaVuSans-65\" transform=\"scale(0.015625)\"/>\r\n      </defs>\r\n      <use xlink:href=\"#DejaVuSans-31\"/>\r\n      <use x=\"63.623047\" xlink:href=\"#DejaVuSans-65\"/>\r\n      <use x=\"125.146484\" xlink:href=\"#DejaVuSans-38\"/>\r\n     </g>\r\n    </g>\r\n   </g>\r\n   <g id=\"line2d_27\">\r\n    <path clip-path=\"url(#p4cc5b0b3e8)\" d=\"M 57.883667 327.864044 \r\nL 72.993918 327.710698 \r\nL 88.10417 327.265735 \r\nL 92.421384 327.048657 \r\nL 107.531636 326.430667 \r\nL 109.690243 326.294111 \r\nL 116.166065 326.171246 \r\nL 137.752139 325.475672 \r\nL 146.386568 325.297295 \r\nL 150.703783 325.087613 \r\nL 152.86239 324.99386 \r\nL 155.020998 324.746393 \r\nL 157.179605 324.734851 \r\nL 161.49682 324.1851 \r\nL 163.655427 323.843516 \r\nL 165.814034 323.688378 \r\nL 167.972642 323.104034 \r\nL 170.131249 322.930922 \r\nL 172.289856 322.908157 \r\nL 176.607071 322.057484 \r\nL 178.765678 321.56143 \r\nL 180.924286 321.402471 \r\nL 183.082893 321.107968 \r\nL 185.2415 320.931348 \r\nL 187.400108 320.906099 \r\nL 189.558715 320.726446 \r\nL 191.717322 320.232359 \r\nL 196.034537 319.603889 \r\nL 198.193145 319.575363 \r\nL 202.510359 319.260246 \r\nL 206.827574 318.367233 \r\nL 211.144789 317.797413 \r\nL 213.303396 317.251313 \r\nL 215.462003 316.979512 \r\nL 217.620611 316.930494 \r\nL 219.779218 316.457779 \r\nL 224.096433 315.921248 \r\nL 228.413647 315.387566 \r\nL 234.889469 314.893112 \r\nL 237.048077 314.665657 \r\nL 243.523899 313.507167 \r\nL 245.682506 313.295189 \r\nL 247.841114 313.228381 \r\nL 256.475543 311.612458 \r\nL 260.792758 311.408778 \r\nL 262.951365 311.356006 \r\nL 275.903009 309.407867 \r\nL 278.061616 309.339992 \r\nL 280.220224 308.994679 \r\nL 282.378831 308.815589 \r\nL 286.696046 308.748254 \r\nL 293.171868 308.628269 \r\nL 295.330475 308.375328 \r\nL 299.64769 307.658995 \r\nL 306.123512 306.747709 \r\nL 310.440727 306.633746 \r\nL 312.599334 306.164736 \r\nL 314.757941 305.927845 \r\nL 316.916549 305.516096 \r\nL 321.233763 305.209133 \r\nL 323.392371 305.181055 \r\nL 325.550978 304.938112 \r\nL 327.709586 304.888337 \r\nL 332.0268 304.283838 \r\nL 336.344015 304.024091 \r\nL 338.502622 304.016787 \r\nL 340.66123 303.794859 \r\nL 342.819837 303.435791 \r\nL 349.295659 303.145462 \r\nL 357.930088 302.792553 \r\nL 364.40591 301.847884 \r\nL 366.564518 301.648848 \r\nL 368.723125 301.628699 \r\nL 377.357555 300.350063 \r\nL 381.674769 299.855161 \r\nL 383.833377 299.756403 \r\nL 396.785021 297.92457 \r\nL 398.943628 297.905226 \r\nL 401.102235 297.655912 \r\nL 403.260843 297.096119 \r\nL 407.578057 296.448368 \r\nL 409.736665 295.826111 \r\nL 416.212487 295.635767 \r\nL 418.371094 295.173568 \r\nL 420.529702 294.249241 \r\nL 427.005524 293.108448 \r\nL 429.164131 292.968104 \r\nL 431.322738 292.622817 \r\nL 433.481346 292.602795 \r\nL 439.957168 290.888557 \r\nL 442.115775 289.721814 \r\nL 444.274382 289.431589 \r\nL 446.43299 288.502505 \r\nL 455.067419 284.35409 \r\nL 457.226027 283.671641 \r\nL 459.384634 283.48775 \r\nL 461.543241 282.707691 \r\nL 465.860456 280.767092 \r\nL 468.019063 280.108407 \r\nL 470.177671 278.398171 \r\nL 472.336278 277.442135 \r\nL 474.494885 275.976513 \r\nL 476.653493 275.110848 \r\nL 478.8121 273.752092 \r\nL 480.970707 273.210206 \r\nL 483.129315 271.835837 \r\nL 487.446529 268.073038 \r\nL 489.605137 267.618044 \r\nL 491.763744 266.553012 \r\nL 493.922351 266.030538 \r\nL 498.239566 263.079167 \r\nL 500.398174 262.317858 \r\nL 502.556781 260.215078 \r\nL 504.715388 260.140682 \r\nL 504.715388 260.140682 \r\n\" style=\"fill:none;stroke:#000000;stroke-linecap:square;stroke-width:2;\"/>\r\n   </g>\r\n   <g id=\"line2d_28\">\r\n    <path clip-path=\"url(#p4cc5b0b3e8)\" d=\"M 506.873996 257.670766 \r\nL 509.032603 256.901636 \r\nL 511.19121 255.512809 \r\nL 513.349818 254.653479 \r\nL 515.508425 253.286407 \r\nL 517.667032 250.737468 \r\nL 519.82564 249.546513 \r\nL 521.984247 247.481157 \r\nL 524.142854 246.252047 \r\nL 526.301462 244.856645 \r\nL 528.460069 243.87024 \r\nL 530.618676 242.172487 \r\nL 532.777284 239.342327 \r\nL 534.935891 237.873855 \r\nL 537.094498 235.585948 \r\nL 539.253106 234.158871 \r\nL 541.411713 232.504142 \r\nL 543.570321 231.516914 \r\nL 545.728928 229.519674 \r\nL 547.887535 226.265515 \r\nL 550.046143 224.630425 \r\nL 552.20475 221.958671 \r\nL 554.363357 220.357647 \r\nL 556.521965 218.44258 \r\nL 558.680572 217.3192 \r\nL 560.839179 215.043722 \r\nL 562.997787 211.287523 \r\nL 565.156394 209.416388 \r\nL 567.315001 206.34781 \r\nL 569.473609 204.512841 \r\nL 571.632216 202.319323 \r\nL 573.790823 201.025544 \r\nL 575.949431 198.416899 \r\nL 578.108038 194.10708 \r\nL 580.266645 191.955737 \r\nL 582.425253 188.438111 \r\nL 584.58386 186.329355 \r\nL 586.742468 183.814978 \r\nL 588.901075 182.330905 \r\nL 591.059682 179.33639 \r\nL 593.21829 174.392827 \r\nL 595.376897 171.923326 \r\nL 597.535504 167.88751 \r\nL 599.694112 165.467934 \r\nL 601.852719 162.5828 \r\nL 604.011326 160.880547 \r\nL 606.169934 157.444529 \r\nL 608.328541 151.772225 \r\nL 610.487148 148.938919 \r\nL 612.645756 144.308037 \r\nL 614.804363 141.532113 \r\nL 616.96297 138.221558 \r\nL 619.121578 136.268533 \r\nL 621.280185 132.326137 \r\nL 623.438792 125.817665 \r\nL 625.5974 122.566755 \r\nL 627.756007 117.253302 \r\nL 629.914615 114.068295 \r\nL 632.073222 110.269758 \r\nL 634.231829 108.028895 \r\nL 636.390437 103.50544 \r\nL 638.549044 96.037617 \r\nL 640.707651 92.307606 \r\nL 642.866259 86.211046 \r\nL 645.024866 82.556488 \r\nL 647.183473 78.198151 \r\nL 649.342081 75.626949 \r\nL 651.500688 70.436747 \r\nL 653.659295 62.842467 \r\nL 655.817903 58.68309 \r\nL 657.97651 53.245014 \r\nL 660.135117 50.101068 \r\nL 662.293725 45.019939 \r\nL 664.452332 35.534662 \r\nL 666.610939 31.354953 \r\n\" style=\"fill:none;stroke:#003dfd;stroke-linecap:square;stroke-width:2;\"/>\r\n   </g>\r\n   <g id=\"legend_1\">\r\n    <g id=\"line2d_29\">\r\n     <path d=\"M 36.447303 29.627936 \r\nL 56.447303 29.627936 \r\n\" style=\"fill:none;stroke:#000000;stroke-linecap:square;stroke-width:2;\"/>\r\n    </g>\r\n    <g id=\"line2d_30\"/>\r\n    <g id=\"text_21\">\r\n     <!-- Indonesia Second Dose -->\r\n     <g transform=\"translate(64.447303 33.127936)scale(0.1 -0.1)\">\r\n      <defs>\r\n       <path d=\"M 628 4666 \r\nL 1259 4666 \r\nL 1259 0 \r\nL 628 0 \r\nL 628 4666 \r\nz\r\n\" id=\"DejaVuSans-49\" transform=\"scale(0.015625)\"/>\r\n       <path d=\"M 3513 2113 \r\nL 3513 0 \r\nL 2938 0 \r\nL 2938 2094 \r\nQ 2938 2591 2744 2837 \r\nQ 2550 3084 2163 3084 \r\nQ 1697 3084 1428 2787 \r\nQ 1159 2491 1159 1978 \r\nL 1159 0 \r\nL 581 0 \r\nL 581 3500 \r\nL 1159 3500 \r\nL 1159 2956 \r\nQ 1366 3272 1645 3428 \r\nQ 1925 3584 2291 3584 \r\nQ 2894 3584 3203 3211 \r\nQ 3513 2838 3513 2113 \r\nz\r\n\" id=\"DejaVuSans-6e\" transform=\"scale(0.015625)\"/>\r\n       <path d=\"M 2906 2969 \r\nL 2906 4863 \r\nL 3481 4863 \r\nL 3481 0 \r\nL 2906 0 \r\nL 2906 525 \r\nQ 2725 213 2448 61 \r\nQ 2172 -91 1784 -91 \r\nQ 1150 -91 751 415 \r\nQ 353 922 353 1747 \r\nQ 353 2572 751 3078 \r\nQ 1150 3584 1784 3584 \r\nQ 2172 3584 2448 3432 \r\nQ 2725 3281 2906 2969 \r\nz\r\nM 947 1747 \r\nQ 947 1113 1208 752 \r\nQ 1469 391 1925 391 \r\nQ 2381 391 2643 752 \r\nQ 2906 1113 2906 1747 \r\nQ 2906 2381 2643 2742 \r\nQ 2381 3103 1925 3103 \r\nQ 1469 3103 1208 2742 \r\nQ 947 2381 947 1747 \r\nz\r\n\" id=\"DejaVuSans-64\" transform=\"scale(0.015625)\"/>\r\n       <path d=\"M 1959 3097 \r\nQ 1497 3097 1228 2736 \r\nQ 959 2375 959 1747 \r\nQ 959 1119 1226 758 \r\nQ 1494 397 1959 397 \r\nQ 2419 397 2687 759 \r\nQ 2956 1122 2956 1747 \r\nQ 2956 2369 2687 2733 \r\nQ 2419 3097 1959 3097 \r\nz\r\nM 1959 3584 \r\nQ 2709 3584 3137 3096 \r\nQ 3566 2609 3566 1747 \r\nQ 3566 888 3137 398 \r\nQ 2709 -91 1959 -91 \r\nQ 1206 -91 779 398 \r\nQ 353 888 353 1747 \r\nQ 353 2609 779 3096 \r\nQ 1206 3584 1959 3584 \r\nz\r\n\" id=\"DejaVuSans-6f\" transform=\"scale(0.015625)\"/>\r\n       <path d=\"M 2834 3397 \r\nL 2834 2853 \r\nQ 2591 2978 2328 3040 \r\nQ 2066 3103 1784 3103 \r\nQ 1356 3103 1142 2972 \r\nQ 928 2841 928 2578 \r\nQ 928 2378 1081 2264 \r\nQ 1234 2150 1697 2047 \r\nL 1894 2003 \r\nQ 2506 1872 2764 1633 \r\nQ 3022 1394 3022 966 \r\nQ 3022 478 2636 193 \r\nQ 2250 -91 1575 -91 \r\nQ 1294 -91 989 -36 \r\nQ 684 19 347 128 \r\nL 347 722 \r\nQ 666 556 975 473 \r\nQ 1284 391 1588 391 \r\nQ 1994 391 2212 530 \r\nQ 2431 669 2431 922 \r\nQ 2431 1156 2273 1281 \r\nQ 2116 1406 1581 1522 \r\nL 1381 1569 \r\nQ 847 1681 609 1914 \r\nQ 372 2147 372 2553 \r\nQ 372 3047 722 3315 \r\nQ 1072 3584 1716 3584 \r\nQ 2034 3584 2315 3537 \r\nQ 2597 3491 2834 3397 \r\nz\r\n\" id=\"DejaVuSans-73\" transform=\"scale(0.015625)\"/>\r\n       <path d=\"M 603 3500 \r\nL 1178 3500 \r\nL 1178 0 \r\nL 603 0 \r\nL 603 3500 \r\nz\r\nM 603 4863 \r\nL 1178 4863 \r\nL 1178 4134 \r\nL 603 4134 \r\nL 603 4863 \r\nz\r\n\" id=\"DejaVuSans-69\" transform=\"scale(0.015625)\"/>\r\n       <path d=\"M 2194 1759 \r\nQ 1497 1759 1228 1600 \r\nQ 959 1441 959 1056 \r\nQ 959 750 1161 570 \r\nQ 1363 391 1709 391 \r\nQ 2188 391 2477 730 \r\nQ 2766 1069 2766 1631 \r\nL 2766 1759 \r\nL 2194 1759 \r\nz\r\nM 3341 1997 \r\nL 3341 0 \r\nL 2766 0 \r\nL 2766 531 \r\nQ 2569 213 2275 61 \r\nQ 1981 -91 1556 -91 \r\nQ 1019 -91 701 211 \r\nQ 384 513 384 1019 \r\nQ 384 1609 779 1909 \r\nQ 1175 2209 1959 2209 \r\nL 2766 2209 \r\nL 2766 2266 \r\nQ 2766 2663 2505 2880 \r\nQ 2244 3097 1772 3097 \r\nQ 1472 3097 1187 3025 \r\nQ 903 2953 641 2809 \r\nL 641 3341 \r\nQ 956 3463 1253 3523 \r\nQ 1550 3584 1831 3584 \r\nQ 2591 3584 2966 3190 \r\nQ 3341 2797 3341 1997 \r\nz\r\n\" id=\"DejaVuSans-61\" transform=\"scale(0.015625)\"/>\r\n       <path id=\"DejaVuSans-20\" transform=\"scale(0.015625)\"/>\r\n       <path d=\"M 3425 4513 \r\nL 3425 3897 \r\nQ 3066 4069 2747 4153 \r\nQ 2428 4238 2131 4238 \r\nQ 1616 4238 1336 4038 \r\nQ 1056 3838 1056 3469 \r\nQ 1056 3159 1242 3001 \r\nQ 1428 2844 1947 2747 \r\nL 2328 2669 \r\nQ 3034 2534 3370 2195 \r\nQ 3706 1856 3706 1288 \r\nQ 3706 609 3251 259 \r\nQ 2797 -91 1919 -91 \r\nQ 1588 -91 1214 -16 \r\nQ 841 59 441 206 \r\nL 441 856 \r\nQ 825 641 1194 531 \r\nQ 1563 422 1919 422 \r\nQ 2459 422 2753 634 \r\nQ 3047 847 3047 1241 \r\nQ 3047 1584 2836 1778 \r\nQ 2625 1972 2144 2069 \r\nL 1759 2144 \r\nQ 1053 2284 737 2584 \r\nQ 422 2884 422 3419 \r\nQ 422 4038 858 4394 \r\nQ 1294 4750 2059 4750 \r\nQ 2388 4750 2728 4690 \r\nQ 3069 4631 3425 4513 \r\nz\r\n\" id=\"DejaVuSans-53\" transform=\"scale(0.015625)\"/>\r\n       <path d=\"M 3122 3366 \r\nL 3122 2828 \r\nQ 2878 2963 2633 3030 \r\nQ 2388 3097 2138 3097 \r\nQ 1578 3097 1268 2742 \r\nQ 959 2388 959 1747 \r\nQ 959 1106 1268 751 \r\nQ 1578 397 2138 397 \r\nQ 2388 397 2633 464 \r\nQ 2878 531 3122 666 \r\nL 3122 134 \r\nQ 2881 22 2623 -34 \r\nQ 2366 -91 2075 -91 \r\nQ 1284 -91 818 406 \r\nQ 353 903 353 1747 \r\nQ 353 2603 823 3093 \r\nQ 1294 3584 2113 3584 \r\nQ 2378 3584 2631 3529 \r\nQ 2884 3475 3122 3366 \r\nz\r\n\" id=\"DejaVuSans-63\" transform=\"scale(0.015625)\"/>\r\n       <path d=\"M 1259 4147 \r\nL 1259 519 \r\nL 2022 519 \r\nQ 2988 519 3436 956 \r\nQ 3884 1394 3884 2338 \r\nQ 3884 3275 3436 3711 \r\nQ 2988 4147 2022 4147 \r\nL 1259 4147 \r\nz\r\nM 628 4666 \r\nL 1925 4666 \r\nQ 3281 4666 3915 4102 \r\nQ 4550 3538 4550 2338 \r\nQ 4550 1131 3912 565 \r\nQ 3275 0 1925 0 \r\nL 628 0 \r\nL 628 4666 \r\nz\r\n\" id=\"DejaVuSans-44\" transform=\"scale(0.015625)\"/>\r\n      </defs>\r\n      <use xlink:href=\"#DejaVuSans-49\"/>\r\n      <use x=\"29.492188\" xlink:href=\"#DejaVuSans-6e\"/>\r\n      <use x=\"92.871094\" xlink:href=\"#DejaVuSans-64\"/>\r\n      <use x=\"156.347656\" xlink:href=\"#DejaVuSans-6f\"/>\r\n      <use x=\"217.529297\" xlink:href=\"#DejaVuSans-6e\"/>\r\n      <use x=\"280.908203\" xlink:href=\"#DejaVuSans-65\"/>\r\n      <use x=\"342.431641\" xlink:href=\"#DejaVuSans-73\"/>\r\n      <use x=\"394.53125\" xlink:href=\"#DejaVuSans-69\"/>\r\n      <use x=\"422.314453\" xlink:href=\"#DejaVuSans-61\"/>\r\n      <use x=\"483.59375\" xlink:href=\"#DejaVuSans-20\"/>\r\n      <use x=\"515.380859\" xlink:href=\"#DejaVuSans-53\"/>\r\n      <use x=\"578.857422\" xlink:href=\"#DejaVuSans-65\"/>\r\n      <use x=\"640.380859\" xlink:href=\"#DejaVuSans-63\"/>\r\n      <use x=\"695.361328\" xlink:href=\"#DejaVuSans-6f\"/>\r\n      <use x=\"756.542969\" xlink:href=\"#DejaVuSans-6e\"/>\r\n      <use x=\"819.921875\" xlink:href=\"#DejaVuSans-64\"/>\r\n      <use x=\"883.398438\" xlink:href=\"#DejaVuSans-20\"/>\r\n      <use x=\"915.185547\" xlink:href=\"#DejaVuSans-44\"/>\r\n      <use x=\"992.1875\" xlink:href=\"#DejaVuSans-6f\"/>\r\n      <use x=\"1053.369141\" xlink:href=\"#DejaVuSans-73\"/>\r\n      <use x=\"1105.46875\" xlink:href=\"#DejaVuSans-65\"/>\r\n     </g>\r\n    </g>\r\n    <g id=\"line2d_31\">\r\n     <path d=\"M 36.447303 44.306061 \r\nL 56.447303 44.306061 \r\n\" style=\"fill:none;stroke:#003dfd;stroke-linecap:square;stroke-width:2;\"/>\r\n    </g>\r\n    <g id=\"line2d_32\"/>\r\n    <g id=\"text_22\">\r\n     <!-- Forecast Second Dose -->\r\n     <g transform=\"translate(64.447303 47.806061)scale(0.1 -0.1)\">\r\n      <defs>\r\n       <path d=\"M 628 4666 \r\nL 3309 4666 \r\nL 3309 4134 \r\nL 1259 4134 \r\nL 1259 2759 \r\nL 3109 2759 \r\nL 3109 2228 \r\nL 1259 2228 \r\nL 1259 0 \r\nL 628 0 \r\nL 628 4666 \r\nz\r\n\" id=\"DejaVuSans-46\" transform=\"scale(0.015625)\"/>\r\n       <path d=\"M 2631 2963 \r\nQ 2534 3019 2420 3045 \r\nQ 2306 3072 2169 3072 \r\nQ 1681 3072 1420 2755 \r\nQ 1159 2438 1159 1844 \r\nL 1159 0 \r\nL 581 0 \r\nL 581 3500 \r\nL 1159 3500 \r\nL 1159 2956 \r\nQ 1341 3275 1631 3429 \r\nQ 1922 3584 2338 3584 \r\nQ 2397 3584 2469 3576 \r\nQ 2541 3569 2628 3553 \r\nL 2631 2963 \r\nz\r\n\" id=\"DejaVuSans-72\" transform=\"scale(0.015625)\"/>\r\n       <path d=\"M 1172 4494 \r\nL 1172 3500 \r\nL 2356 3500 \r\nL 2356 3053 \r\nL 1172 3053 \r\nL 1172 1153 \r\nQ 1172 725 1289 603 \r\nQ 1406 481 1766 481 \r\nL 2356 481 \r\nL 2356 0 \r\nL 1766 0 \r\nQ 1100 0 847 248 \r\nQ 594 497 594 1153 \r\nL 594 3053 \r\nL 172 3053 \r\nL 172 3500 \r\nL 594 3500 \r\nL 594 4494 \r\nL 1172 4494 \r\nz\r\n\" id=\"DejaVuSans-74\" transform=\"scale(0.015625)\"/>\r\n      </defs>\r\n      <use xlink:href=\"#DejaVuSans-46\"/>\r\n      <use x=\"53.894531\" xlink:href=\"#DejaVuSans-6f\"/>\r\n      <use x=\"115.076172\" xlink:href=\"#DejaVuSans-72\"/>\r\n      <use x=\"153.939453\" xlink:href=\"#DejaVuSans-65\"/>\r\n      <use x=\"215.462891\" xlink:href=\"#DejaVuSans-63\"/>\r\n      <use x=\"270.443359\" xlink:href=\"#DejaVuSans-61\"/>\r\n      <use x=\"331.722656\" xlink:href=\"#DejaVuSans-73\"/>\r\n      <use x=\"383.822266\" xlink:href=\"#DejaVuSans-74\"/>\r\n      <use x=\"423.03125\" xlink:href=\"#DejaVuSans-20\"/>\r\n      <use x=\"454.818359\" xlink:href=\"#DejaVuSans-53\"/>\r\n      <use x=\"518.294922\" xlink:href=\"#DejaVuSans-65\"/>\r\n      <use x=\"579.818359\" xlink:href=\"#DejaVuSans-63\"/>\r\n      <use x=\"634.798828\" xlink:href=\"#DejaVuSans-6f\"/>\r\n      <use x=\"695.980469\" xlink:href=\"#DejaVuSans-6e\"/>\r\n      <use x=\"759.359375\" xlink:href=\"#DejaVuSans-64\"/>\r\n      <use x=\"822.835938\" xlink:href=\"#DejaVuSans-20\"/>\r\n      <use x=\"854.623047\" xlink:href=\"#DejaVuSans-44\"/>\r\n      <use x=\"931.625\" xlink:href=\"#DejaVuSans-6f\"/>\r\n      <use x=\"992.806641\" xlink:href=\"#DejaVuSans-73\"/>\r\n      <use x=\"1044.90625\" xlink:href=\"#DejaVuSans-65\"/>\r\n     </g>\r\n    </g>\r\n   </g>\r\n  </g>\r\n </g>\r\n <defs>\r\n  <clipPath id=\"p4cc5b0b3e8\">\r\n   <rect height=\"326.16\" width=\"669.6\" x=\"27.447303\" y=\"16.529498\"/>\r\n  </clipPath>\r\n </defs>\r\n</svg>\r\n",
      "image/png": "[encoded data removed]"
     },
     "metadata": {
      "needs_background": "light"
     }
    }
   ],
   "metadata": {}
  }
 ],
 "metadata": {
  "colab": {
   "collapsed_sections": [],
   "name": "Time Series Multivariate - Covid 19 Indonesia.ipynb",
   "provenance": []
  },
  "kernelspec": {
   "name": "python3",
   "display_name": "Python 3.7.10 64-bit ('darts-conda': conda)"
  },
  "language_info": {
   "name": "python",
   "version": "3.7.10",
   "mimetype": "text/x-python",
   "codemirror_mode": {
    "name": "ipython",
    "version": 3
   },
   "pygments_lexer": "ipython3",
   "nbconvert_exporter": "python",
   "file_extension": ".py"
  },
  "interpreter": {
   "hash": "04c3c95a2730d3fc55aa04c880f5a5df299a11dd8b150327dea45235a97e1ef1"
  }
 },
 "nbformat": 4,
 "nbformat_minor": 1
}