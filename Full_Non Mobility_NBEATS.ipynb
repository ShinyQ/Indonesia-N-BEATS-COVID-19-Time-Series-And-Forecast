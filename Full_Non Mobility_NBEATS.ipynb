{
 "cells": [
  {
   "cell_type": "code",
   "execution_count": 1,
   "source": [
    "import pandas as pd\r\n",
    "import plotly.graph_objects as go\r\n",
    "import torch\r\n",
    "\r\n",
    "from darts.dataprocessing.transformers import Scaler"
   ],
   "outputs": [
    {
     "output_type": "error",
     "ename": "KeyboardInterrupt",
     "evalue": "",
     "traceback": [
      "\u001b[1;31m---------------------------------------------------------------------------\u001b[0m",
      "\u001b[1;31mKeyboardInterrupt\u001b[0m                         Traceback (most recent call last)",
      "\u001b[1;32m~\\AppData\\Local\\Temp/ipykernel_17732/3093277001.py\u001b[0m in \u001b[0;36m<module>\u001b[1;34m\u001b[0m\n\u001b[0;32m      1\u001b[0m \u001b[1;32mimport\u001b[0m \u001b[0mpandas\u001b[0m \u001b[1;32mas\u001b[0m \u001b[0mpd\u001b[0m\u001b[1;33m\u001b[0m\u001b[1;33m\u001b[0m\u001b[0m\n\u001b[0;32m      2\u001b[0m \u001b[1;32mimport\u001b[0m \u001b[0mplotly\u001b[0m\u001b[1;33m.\u001b[0m\u001b[0mgraph_objects\u001b[0m \u001b[1;32mas\u001b[0m \u001b[0mgo\u001b[0m\u001b[1;33m\u001b[0m\u001b[1;33m\u001b[0m\u001b[0m\n\u001b[1;32m----> 3\u001b[1;33m \u001b[1;32mimport\u001b[0m \u001b[0mtorch\u001b[0m\u001b[1;33m\u001b[0m\u001b[1;33m\u001b[0m\u001b[0m\n\u001b[0m\u001b[0;32m      4\u001b[0m \u001b[1;33m\u001b[0m\u001b[0m\n\u001b[0;32m      5\u001b[0m \u001b[1;32mfrom\u001b[0m \u001b[0mdarts\u001b[0m\u001b[1;33m.\u001b[0m\u001b[0mdataprocessing\u001b[0m\u001b[1;33m.\u001b[0m\u001b[0mtransformers\u001b[0m \u001b[1;32mimport\u001b[0m \u001b[0mScaler\u001b[0m\u001b[1;33m\u001b[0m\u001b[1;33m\u001b[0m\u001b[0m\n",
      "\u001b[1;32mE:\\Anaconda\\envs\\darts-conda\\lib\\site-packages\\torch\\__init__.py\u001b[0m in \u001b[0;36m<module>\u001b[1;34m\u001b[0m\n\u001b[0;32m    116\u001b[0m         \u001b[0mis_loaded\u001b[0m \u001b[1;33m=\u001b[0m \u001b[1;32mFalse\u001b[0m\u001b[1;33m\u001b[0m\u001b[1;33m\u001b[0m\u001b[0m\n\u001b[0;32m    117\u001b[0m         \u001b[1;32mif\u001b[0m \u001b[0mwith_load_library_flags\u001b[0m\u001b[1;33m:\u001b[0m\u001b[1;33m\u001b[0m\u001b[1;33m\u001b[0m\u001b[0m\n\u001b[1;32m--> 118\u001b[1;33m             \u001b[0mres\u001b[0m \u001b[1;33m=\u001b[0m \u001b[0mkernel32\u001b[0m\u001b[1;33m.\u001b[0m\u001b[0mLoadLibraryExW\u001b[0m\u001b[1;33m(\u001b[0m\u001b[0mdll\u001b[0m\u001b[1;33m,\u001b[0m \u001b[1;32mNone\u001b[0m\u001b[1;33m,\u001b[0m \u001b[1;36m0x00001100\u001b[0m\u001b[1;33m)\u001b[0m\u001b[1;33m\u001b[0m\u001b[1;33m\u001b[0m\u001b[0m\n\u001b[0m\u001b[0;32m    119\u001b[0m             \u001b[0mlast_error\u001b[0m \u001b[1;33m=\u001b[0m \u001b[0mctypes\u001b[0m\u001b[1;33m.\u001b[0m\u001b[0mget_last_error\u001b[0m\u001b[1;33m(\u001b[0m\u001b[1;33m)\u001b[0m\u001b[1;33m\u001b[0m\u001b[1;33m\u001b[0m\u001b[0m\n\u001b[0;32m    120\u001b[0m             \u001b[1;32mif\u001b[0m \u001b[0mres\u001b[0m \u001b[1;32mis\u001b[0m \u001b[1;32mNone\u001b[0m \u001b[1;32mand\u001b[0m \u001b[0mlast_error\u001b[0m \u001b[1;33m!=\u001b[0m \u001b[1;36m126\u001b[0m\u001b[1;33m:\u001b[0m\u001b[1;33m\u001b[0m\u001b[1;33m\u001b[0m\u001b[0m\n",
      "\u001b[1;31mKeyboardInterrupt\u001b[0m: "
     ]
    }
   ],
   "metadata": {
    "id": "YSpyw4nLQi6X"
   }
  },
  {
   "cell_type": "code",
   "execution_count": null,
   "source": [
    "df = pd.read_excel('dataset/kawaldata_clean.xlsx', parse_dates=True)\r\n",
    "df.head()"
   ],
   "outputs": [],
   "metadata": {
    "colab": {
     "base_uri": "https://localhost:8080/",
     "height": 400
    },
    "id": "JFKYyVgDnNvz",
    "outputId": "d4edb0a4-52a2-4fc2-a720-4a23c10d17e7"
   }
  },
  {
   "cell_type": "markdown",
   "source": [
    "## **COVID-19 Indonesia Statistics**"
   ],
   "metadata": {
    "id": "oYncXogHvaPk"
   }
  },
  {
   "cell_type": "code",
   "execution_count": null,
   "source": [
    "df_stats = pd.concat([df['tanggal'], df['Kasus harian'], df['Meninggal\\n(baru)'], df['Sembuh\\n(baru)']], axis=1)\r\n",
    "df_stats = df_stats.loc[(df.tanggal >= \"2021-01-13\")]\r\n",
    "df_stats = df_stats.dropna()\r\n",
    "\r\n",
    "print(f'Total Statistic Days {len(df_stats)}')"
   ],
   "outputs": [],
   "metadata": {
    "colab": {
     "base_uri": "https://localhost:8080/"
    },
    "id": "yYNXwjuOvZ6N",
    "outputId": "ba0e3fe5-0ada-4004-e053-c42383c57294"
   }
  },
  {
   "cell_type": "code",
   "execution_count": null,
   "source": [
    "line_stat = []\r\n",
    "line_stat.append(go.Scatter(x=df_stats.tanggal, y=df_stats['Kasus harian'], name=\"Kasus Harian\", mode='lines'))\r\n",
    "line_stat.append(go.Scatter(x=df_stats.tanggal, y=df_stats['Sembuh\\n(baru)'], name=\"Sembuh\", mode='lines'))\r\n",
    "\r\n",
    "fig = go.Figure(data=line_stat)\r\n",
    "fig.update_layout(title_text=\"COVID-19 Case Indonesia\")\r\n",
    "fig.show()"
   ],
   "outputs": [],
   "metadata": {
    "colab": {
     "base_uri": "https://localhost:8080/",
     "height": 542
    },
    "id": "vFaawH7do-ly",
    "outputId": "b0aa92f7-df91-47b7-9d4b-b5c4911ebbe5"
   }
  },
  {
   "cell_type": "markdown",
   "source": [
    "## **Vaccination Indonesia Statistics**"
   ],
   "metadata": {
    "id": "DrspzJoNsODX"
   }
  },
  {
   "cell_type": "code",
   "execution_count": null,
   "source": [
    "df_vaccine = pd.concat([df['tanggal'], df['Dosis pertama (harian)'], df['Dosis kedua (harian)']], axis=1)\r\n",
    "df_vaccine = df_vaccine.loc[(df.tanggal >= \"2021-01-13\")]\r\n",
    "\r\n",
    "print(f'Total Vaccine Days {len(df_vaccine)}')"
   ],
   "outputs": [],
   "metadata": {
    "colab": {
     "base_uri": "https://localhost:8080/"
    },
    "id": "Mup8Iyv1sU1Q",
    "outputId": "d6997e74-2475-4fdb-fc30-36144830fbe6"
   }
  },
  {
   "cell_type": "code",
   "execution_count": null,
   "source": [
    "line_stat = []\r\n",
    "line_stat.append(go.Scatter(x=df_vaccine.tanggal, y=df_vaccine['Dosis pertama (harian)'], name=\"Dosis Pertama\", mode='lines'))\r\n",
    "line_stat.append(go.Scatter(x=df_vaccine.tanggal, y=df_vaccine['Dosis kedua (harian)'], name=\"Dosis Kedua\", mode='lines'))\r\n",
    "\r\n",
    "\r\n",
    "fig = go.Figure(data=line_stat)\r\n",
    "fig.update_layout(title_text=\"Vaccination Indonesia\")\r\n",
    "fig.show()"
   ],
   "outputs": [],
   "metadata": {
    "colab": {
     "base_uri": "https://localhost:8080/",
     "height": 542
    },
    "id": "BcV-qChWsM-v",
    "outputId": "e50abd78-25c2-4067-dc9c-a751b97709c7"
   }
  },
  {
   "cell_type": "code",
   "execution_count": null,
   "source": [
    "df_mobility = pd.read_csv(\"dataset/mobility_clean.csv\")\r\n",
    "df_mobility.tail()"
   ],
   "outputs": [],
   "metadata": {
    "colab": {
     "base_uri": "https://localhost:8080/",
     "height": 312
    },
    "id": "5usUmFNOfgFo",
    "outputId": "48849f3d-f329-4808-ceeb-bf843fa0e626"
   }
  },
  {
   "cell_type": "code",
   "execution_count": null,
   "source": [
    "len(df_mobility)"
   ],
   "outputs": [],
   "metadata": {
    "colab": {
     "base_uri": "https://localhost:8080/"
    },
    "id": "xLnUfAdtnBpi",
    "outputId": "d492f2b7-7900-4420-a2b4-def3cdadf09a"
   }
  },
  {
   "cell_type": "code",
   "execution_count": null,
   "source": [
    "line_stat = []\r\n",
    "line_stat.append(go.Scatter(x=df_mobility.date, y=df_mobility['retail_and_recreation_percent_change_from_baseline'], name=\"Retail And Recreation\", mode='lines'))\r\n",
    "\r\n",
    "fig = go.Figure(data=line_stat)\r\n",
    "fig.update_layout(title_text=\"Indonesia Mobility\")\r\n",
    "fig.show()"
   ],
   "outputs": [],
   "metadata": {
    "colab": {
     "base_uri": "https://localhost:8080/",
     "height": 542
    },
    "id": "vpRYD3ACgo17",
    "outputId": "012fae4c-9b39-4799-ffb4-c3893315517f"
   }
  },
  {
   "cell_type": "code",
   "execution_count": null,
   "source": [
    "df_bobot = pd.read_csv('dataset/bobot_2021.csv')\r\n",
    "df_bobot = df_bobot.loc[(df_bobot.date >= \"2021-01-13\") & (df_bobot.date <= \"2021-08-16\")]\r\n",
    "df_bobot.tail()"
   ],
   "outputs": [],
   "metadata": {}
  },
  {
   "cell_type": "markdown",
   "source": [
    "## **Time Series Feature Engineering**"
   ],
   "metadata": {
    "id": "oRXE_Xpsz6qR"
   }
  },
  {
   "cell_type": "markdown",
   "source": [
    "- Drop Tanggal, Dosis kedua (harian) Column In df_vaccine\n",
    "- Drop Meninggal Column In df_stats\n",
    "- Filling NaN Value With 0\n",
    "- Seperating Train Variable With Date"
   ],
   "metadata": {
    "id": "vhQlh8YD0FaO"
   }
  },
  {
   "cell_type": "code",
   "execution_count": null,
   "source": [
    "df_vaccine = df_vaccine.drop(columns=['tanggal', 'Dosis kedua (harian)'], axis=1)\r\n",
    "df_mobility = df_mobility.drop(columns=['date', 'Unnamed: 0', 'index'], axis=1)\r\n",
    "df_stats = df_stats.drop(columns=['Meninggal\\n(baru)'], axis=1)\r\n",
    "df_bobot = df_bobot.drop(columns=['Unnamed: 0', 'date'])\r\n"
   ],
   "outputs": [],
   "metadata": {
    "id": "kbE3Sefrzn_h"
   }
  },
  {
   "cell_type": "code",
   "execution_count": null,
   "source": [
    "df_timeseries = pd.concat([\r\n",
    "       df_vaccine.reset_index(drop=True), \r\n",
    "       df_stats.reset_index(drop=True),\r\n",
    "    df_bobot.reset_index(drop=True)\r\n",
    "], axis=1)\r\n",
    "\r\n",
    "df_timeseries = df_timeseries.dropna()\r\n"
   ],
   "outputs": [],
   "metadata": {
    "id": "p7Q45XbNyFeE"
   }
  },
  {
   "cell_type": "code",
   "execution_count": null,
   "source": [
    "variable = df_timeseries.loc[:, df_timeseries.columns != 'tanggal']\r\n",
    "variable = list(variable)\r\n",
    "variable"
   ],
   "outputs": [],
   "metadata": {
    "colab": {
     "base_uri": "https://localhost:8080/"
    },
    "id": "bm7PkNuSzJoq",
    "outputId": "964dbcaa-e0ae-45be-b883-7b23ca532be9"
   }
  },
  {
   "cell_type": "markdown",
   "source": [
    "## **Time Series Modelling**"
   ],
   "metadata": {
    "id": "fjoOq5XP4qZu"
   }
  },
  {
   "cell_type": "code",
   "execution_count": null,
   "source": [
    "from darts import TimeSeries\r\n",
    "\r\n",
    "scaler = Scaler()\r\n",
    "series = scaler.fit_transform(TimeSeries.from_dataframe(df_timeseries, 'tanggal', variable))\r\n",
    "\r\n",
    "train, val = series.split_after(pd.Timestamp(\"2021-07-01\"))\r\n",
    "train = series"
   ],
   "outputs": [],
   "metadata": {
    "id": "MIys5lEKiRVt"
   }
  },
  {
   "cell_type": "code",
   "execution_count": null,
   "source": [
    "from darts.models import NBEATSModel\r\n",
    "\r\n",
    "model = NBEATSModel(\r\n",
    "    input_chunk_length=15,\r\n",
    "    output_chunk_length=7,\r\n",
    "    generic_architecture=True,\r\n",
    "    num_stacks=12,\r\n",
    "    num_blocks=6,\r\n",
    "    num_layers=6,\r\n",
    "    layer_widths=512,\r\n",
    "    n_epochs=200,\r\n",
    "    batch_size=600,\r\n",
    ")\r\n",
    "\r\n",
    "device = torch.device(\"cuda:0\" if torch.cuda.is_available() else \"cpu\")\r\n",
    "print(device)\r\n",
    "\r\n",
    "model.fit(train, val_series=val, verbose=True)\r\n"
   ],
   "outputs": [],
   "metadata": {
    "colab": {
     "base_uri": "https://localhost:8080/"
    },
    "id": "E0lQlddAoRzK",
    "outputId": "e882c372-a8d8-4cb8-e948-67f20d69c948"
   }
  },
  {
   "cell_type": "markdown",
   "source": [
    "## **Historical Prediction - Last Month** "
   ],
   "metadata": {}
  },
  {
   "cell_type": "code",
   "execution_count": null,
   "source": [
    "pred_series = model.historical_forecasts(\r\n",
    "    train,\r\n",
    "    start=pd.Timestamp(\"2021-03-20\"),\r\n",
    "    retrain=False,\r\n",
    "    verbose=True\r\n",
    ")\r\n"
   ],
   "outputs": [],
   "metadata": {}
  },
  {
   "cell_type": "code",
   "execution_count": null,
   "source": [
    "from darts.metrics import r2_score\r\n",
    "ts_transformed = train.drop_before(pd.Timestamp(\"2021-03-20\"))\r\n",
    "\r\n",
    "ts_transformed['0'].univariate_component(0).plot(label='actual')\r\n",
    "pred_series['0'].plot(label='predict')\r\n",
    "\r\n",
    "print('R2 Score:', r2_score(\r\n",
    "    ts_transformed.univariate_component(0), pred_series['0']))\r\n"
   ],
   "outputs": [],
   "metadata": {}
  },
  {
   "cell_type": "markdown",
   "source": [
    "## **Future Prediction**"
   ],
   "metadata": {}
  },
  {
   "cell_type": "code",
   "execution_count": null,
   "source": [
    "prediction = model.predict(500)\r\n",
    "prediction = prediction.pd_dataframe()"
   ],
   "outputs": [],
   "metadata": {}
  },
  {
   "cell_type": "code",
   "execution_count": null,
   "source": [
    "series = series.pd_dataframe()"
   ],
   "outputs": [],
   "metadata": {}
  },
  {
   "cell_type": "code",
   "execution_count": null,
   "source": [
    "from datetime import date\r\n",
    "\r\n",
    "min_case = prediction[['0']].idxmin()\r\n",
    "min_case = date(2021, 8, 17) - min_case[0].date()\r\n",
    "min_case = abs(min_case.days)\r\n",
    "\r\n",
    "dates = list(pd.date_range(start=\"2021-08-20\", periods=min_case))"
   ],
   "outputs": [],
   "metadata": {
    "id": "VtwX0YmZBHdY"
   }
  },
  {
   "cell_type": "code",
   "execution_count": null,
   "source": [
    "dates = list(pd.date_range(start=\"2021-08-20\", periods=500))"
   ],
   "outputs": [],
   "metadata": {}
  },
  {
   "cell_type": "code",
   "execution_count": null,
   "source": [
    "prediction = prediction.reset_index()\r\n",
    "series = series.reset_index()\r\n",
    "\r\n",
    "for i, col in enumerate(variable):\r\n",
    "    prediction = prediction.rename(columns={'{}'.format(i) : col})\r\n",
    "    series = series.rename(columns={'{}'.format(i): col})"
   ],
   "outputs": [],
   "metadata": {}
  },
  {
   "cell_type": "code",
   "execution_count": null,
   "source": [
    "line_stat = []\r\n",
    "\r\n",
    "for x in range(0,2):\r\n",
    "    line_stat.append(go.Scatter(x=df_timeseries.tanggal, y=series[variable[x]], name=variable[x], mode='lines'))\r\n",
    "    line_stat.append(go.Scatter(x=dates, y=prediction[variable[x]], name=f'Forecast {variable[x]}', mode='lines'))\r\n",
    "\r\n",
    "fig = go.Figure(data=line_stat)\r\n",
    "fig.update_layout(title_text=f\"Predict COVID-19 Indonesia Within {min_case} Days Periods\")\r\n",
    "fig.show()"
   ],
   "outputs": [],
   "metadata": {
    "id": "KwMh1Bzx9fzD"
   }
  },
  {
   "cell_type": "code",
   "execution_count": null,
   "source": [],
   "outputs": [],
   "metadata": {}
  }
 ],
 "metadata": {
  "colab": {
   "collapsed_sections": [],
   "name": "Time Series Multivariate - Covid 19 Indonesia.ipynb",
   "provenance": []
  },
  "kernelspec": {
   "name": "python3",
   "display_name": "Python 3.7.10 64-bit ('darts-conda': conda)"
  },
  "language_info": {
   "name": "python",
   "version": "3.7.10",
   "mimetype": "text/x-python",
   "codemirror_mode": {
    "name": "ipython",
    "version": 3
   },
   "pygments_lexer": "ipython3",
   "nbconvert_exporter": "python",
   "file_extension": ".py"
  },
  "interpreter": {
   "hash": "04c3c95a2730d3fc55aa04c880f5a5df299a11dd8b150327dea45235a97e1ef1"
  }
 },
 "nbformat": 4,
 "nbformat_minor": 1
}